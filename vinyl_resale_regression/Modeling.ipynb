{
 "cells": [
  {
   "cell_type": "markdown",
   "metadata": {},
   "source": [
    "# Regression Modeling"
   ]
  },
  {
   "cell_type": "code",
   "execution_count": 1,
   "metadata": {},
   "outputs": [],
   "source": [
    "import numpy as np\n",
    "import pandas as pd\n",
    "import csv\n",
    "\n",
    "import matplotlib.pyplot as plt\n",
    "import seaborn as sns\n",
    "\n",
    "import scipy.stats as stats\n",
    "import statsmodels.api as sm\n",
    "import statsmodels.formula.api as smf\n",
    "import patsy\n",
    "\n",
    "from sklearn.model_selection import train_test_split, cross_val_score\n",
    "from sklearn.linear_model import LinearRegression, Ridge, RidgeCV, Lasso, LassoCV\n",
    "from sklearn.preprocessing import StandardScaler\n",
    "from sklearn.preprocessing import PolynomialFeatures\n",
    "from sklearn.pipeline import make_pipeline\n",
    "from sklearn.model_selection import KFold\n",
    "from sklearn.model_selection import GridSearchCV\n",
    "import sklearn.metrics as metrics\n",
    "from sklearn.metrics import accuracy_score\n",
    "\n",
    "from sklearn.linear_model import lars_path\n",
    "\n",
    "from xgboost import XGBClassifier\n",
    "\n",
    "import plotly.plotly as py\n",
    "import plotly.graph_objs as go\n",
    "import plotly.offline as offline"
   ]
  },
  {
   "cell_type": "code",
   "execution_count": 2,
   "metadata": {},
   "outputs": [],
   "source": [
    "vinylsfinal = pd.read_pickle(\"./vinylsfinal.pkl\")"
   ]
  },
  {
   "cell_type": "code",
   "execution_count": 3,
   "metadata": {},
   "outputs": [
    {
     "name": "stdout",
     "output_type": "stream",
     "text": [
      "<class 'pandas.core.frame.DataFrame'>\n",
      "Int64Index: 14108 entries, 3 to 25756\n",
      "Data columns (total 26 columns):\n",
      "Price                    14108 non-null float64\n",
      "Artist                   14108 non-null object\n",
      "Album                    14108 non-null object\n",
      "Release_Date             14108 non-null int64\n",
      "Media_Condition          14108 non-null int64\n",
      "Sleeve_Condition         14108 non-null int64\n",
      "Haves                    14108 non-null int64\n",
      "Wants                    14108 non-null int64\n",
      "Percent_Seller_Rating    14108 non-null float64\n",
      "Rate                     14108 non-null float64\n",
      "Votes                    14108 non-null int64\n",
      "Blues                    14108 non-null int64\n",
      "Brass & Military         14108 non-null int64\n",
      "Classical                14108 non-null int64\n",
      "Electronic               14108 non-null int64\n",
      "Hip Hop                  14108 non-null int64\n",
      "Jazz                     14108 non-null int64\n",
      "Latin                    14108 non-null int64\n",
      "Pop                      14108 non-null int64\n",
      "Reggae                   14108 non-null int64\n",
      "Rock                     14108 non-null int64\n",
      "Stage & Screen           14108 non-null int64\n",
      "Childrens                14108 non-null int64\n",
      "Funk/Soul                14108 non-null int64\n",
      "Folk/Country/World       14108 non-null int64\n",
      "Score                    14108 non-null float64\n",
      "dtypes: float64(4), int64(20), object(2)\n",
      "memory usage: 2.9+ MB\n"
     ]
    }
   ],
   "source": [
    "vinylsfinal.dropna(inplace=True)\n",
    "vinylsfinal.info()"
   ]
  },
  {
   "cell_type": "markdown",
   "metadata": {},
   "source": [
    "## Ordinary Least Squares with all features"
   ]
  },
  {
   "cell_type": "code",
   "execution_count": 4,
   "metadata": {},
   "outputs": [
    {
     "data": {
      "text/html": [
       "<table class=\"simpletable\">\n",
       "<caption>OLS Regression Results</caption>\n",
       "<tr>\n",
       "  <th>Dep. Variable:</th>          <td>Price</td>      <th>  R-squared:         </th> <td>   0.391</td> \n",
       "</tr>\n",
       "<tr>\n",
       "  <th>Model:</th>                   <td>OLS</td>       <th>  Adj. R-squared:    </th> <td>   0.389</td> \n",
       "</tr>\n",
       "<tr>\n",
       "  <th>Method:</th>             <td>Least Squares</td>  <th>  F-statistic:       </th> <td>   235.4</td> \n",
       "</tr>\n",
       "<tr>\n",
       "  <th>Date:</th>             <td>Fri, 25 Jan 2019</td> <th>  Prob (F-statistic):</th>  <td>  0.00</td>  \n",
       "</tr>\n",
       "<tr>\n",
       "  <th>Time:</th>                 <td>15:11:17</td>     <th>  Log-Likelihood:    </th> <td> -38520.</td> \n",
       "</tr>\n",
       "<tr>\n",
       "  <th>No. Observations:</th>      <td>  8464</td>      <th>  AIC:               </th> <td>7.709e+04</td>\n",
       "</tr>\n",
       "<tr>\n",
       "  <th>Df Residuals:</th>          <td>  8441</td>      <th>  BIC:               </th> <td>7.725e+04</td>\n",
       "</tr>\n",
       "<tr>\n",
       "  <th>Df Model:</th>              <td>    23</td>      <th>                     </th>     <td> </td>    \n",
       "</tr>\n",
       "<tr>\n",
       "  <th>Covariance Type:</th>      <td>nonrobust</td>    <th>                     </th>     <td> </td>    \n",
       "</tr>\n",
       "</table>\n",
       "<table class=\"simpletable\">\n",
       "<tr>\n",
       "            <td></td>               <th>coef</th>     <th>std err</th>      <th>t</th>      <th>P>|t|</th>  <th>[0.025</th>    <th>0.975]</th>  \n",
       "</tr>\n",
       "<tr>\n",
       "  <th>Release_Date</th>          <td>   -0.0429</td> <td>    0.016</td> <td>   -2.697</td> <td> 0.007</td> <td>   -0.074</td> <td>   -0.012</td>\n",
       "</tr>\n",
       "<tr>\n",
       "  <th>Media_Condition</th>       <td>    2.2868</td> <td>    0.283</td> <td>    8.093</td> <td> 0.000</td> <td>    1.733</td> <td>    2.841</td>\n",
       "</tr>\n",
       "<tr>\n",
       "  <th>Sleeve_Condition</th>      <td>    1.0612</td> <td>    0.082</td> <td>   12.944</td> <td> 0.000</td> <td>    0.901</td> <td>    1.222</td>\n",
       "</tr>\n",
       "<tr>\n",
       "  <th>Haves</th>                 <td>    0.0017</td> <td>    0.002</td> <td>    0.955</td> <td> 0.340</td> <td>   -0.002</td> <td>    0.005</td>\n",
       "</tr>\n",
       "<tr>\n",
       "  <th>Wants</th>                 <td>    0.0620</td> <td>    0.004</td> <td>   16.416</td> <td> 0.000</td> <td>    0.055</td> <td>    0.069</td>\n",
       "</tr>\n",
       "<tr>\n",
       "  <th>Percent_Seller_Rating</th> <td>   54.2669</td> <td>   30.811</td> <td>    1.761</td> <td> 0.078</td> <td>   -6.131</td> <td>  114.665</td>\n",
       "</tr>\n",
       "<tr>\n",
       "  <th>Rate</th>                  <td>    5.5194</td> <td>    0.489</td> <td>   11.290</td> <td> 0.000</td> <td>    4.561</td> <td>    6.478</td>\n",
       "</tr>\n",
       "<tr>\n",
       "  <th>Votes</th>                 <td>   -0.1591</td> <td>    0.025</td> <td>   -6.440</td> <td> 0.000</td> <td>   -0.207</td> <td>   -0.111</td>\n",
       "</tr>\n",
       "<tr>\n",
       "  <th>Blues</th>                 <td>    9.0698</td> <td>    2.769</td> <td>    3.276</td> <td> 0.001</td> <td>    3.642</td> <td>   14.497</td>\n",
       "</tr>\n",
       "<tr>\n",
       "  <th>Brass & Military</th>      <td>  -26.1879</td> <td>   23.501</td> <td>   -1.114</td> <td> 0.265</td> <td>  -72.255</td> <td>   19.879</td>\n",
       "</tr>\n",
       "<tr>\n",
       "  <th>Classical</th>             <td>    6.0306</td> <td>    4.170</td> <td>    1.446</td> <td> 0.148</td> <td>   -2.143</td> <td>   14.204</td>\n",
       "</tr>\n",
       "<tr>\n",
       "  <th>Electronic</th>            <td>   -3.4066</td> <td>    0.787</td> <td>   -4.327</td> <td> 0.000</td> <td>   -4.950</td> <td>   -1.863</td>\n",
       "</tr>\n",
       "<tr>\n",
       "  <th>Hip Hop</th>               <td>   -4.0513</td> <td>    1.066</td> <td>   -3.799</td> <td> 0.000</td> <td>   -6.142</td> <td>   -1.961</td>\n",
       "</tr>\n",
       "<tr>\n",
       "  <th>Jazz</th>                  <td>    0.2723</td> <td>    1.338</td> <td>    0.204</td> <td> 0.839</td> <td>   -2.350</td> <td>    2.895</td>\n",
       "</tr>\n",
       "<tr>\n",
       "  <th>Latin</th>                 <td>   10.3681</td> <td>    1.088</td> <td>    9.528</td> <td> 0.000</td> <td>    8.235</td> <td>   12.501</td>\n",
       "</tr>\n",
       "<tr>\n",
       "  <th>Pop</th>                   <td>   -1.0478</td> <td>    0.789</td> <td>   -1.329</td> <td> 0.184</td> <td>   -2.594</td> <td>    0.498</td>\n",
       "</tr>\n",
       "<tr>\n",
       "  <th>Reggae</th>                <td>    6.4581</td> <td>    3.376</td> <td>    1.913</td> <td> 0.056</td> <td>   -0.160</td> <td>   13.076</td>\n",
       "</tr>\n",
       "<tr>\n",
       "  <th>Rock</th>                  <td>   13.3586</td> <td>    0.817</td> <td>   16.348</td> <td> 0.000</td> <td>   11.757</td> <td>   14.960</td>\n",
       "</tr>\n",
       "<tr>\n",
       "  <th>Stage & Screen</th>        <td>    6.4107</td> <td>    1.946</td> <td>    3.295</td> <td> 0.001</td> <td>    2.597</td> <td>   10.224</td>\n",
       "</tr>\n",
       "<tr>\n",
       "  <th>Childrens</th>             <td>    1.3067</td> <td>    4.559</td> <td>    0.287</td> <td> 0.774</td> <td>   -7.630</td> <td>   10.244</td>\n",
       "</tr>\n",
       "<tr>\n",
       "  <th>Funk/Soul</th>             <td>    0.9105</td> <td>    0.782</td> <td>    1.165</td> <td> 0.244</td> <td>   -0.622</td> <td>    2.443</td>\n",
       "</tr>\n",
       "<tr>\n",
       "  <th>Folk/Country/World</th>    <td>   -5.7915</td> <td>    1.422</td> <td>   -4.072</td> <td> 0.000</td> <td>   -8.579</td> <td>   -3.004</td>\n",
       "</tr>\n",
       "<tr>\n",
       "  <th>Score</th>                 <td>    0.0369</td> <td>    0.011</td> <td>    3.346</td> <td> 0.001</td> <td>    0.015</td> <td>    0.058</td>\n",
       "</tr>\n",
       "</table>\n",
       "<table class=\"simpletable\">\n",
       "<tr>\n",
       "  <th>Omnibus:</th>       <td>15919.302</td> <th>  Durbin-Watson:     </th>   <td>   1.999</td>  \n",
       "</tr>\n",
       "<tr>\n",
       "  <th>Prob(Omnibus):</th>  <td> 0.000</td>   <th>  Jarque-Bera (JB):  </th> <td>72607961.968</td>\n",
       "</tr>\n",
       "<tr>\n",
       "  <th>Skew:</th>           <td>13.870</td>   <th>  Prob(JB):          </th>   <td>    0.00</td>  \n",
       "</tr>\n",
       "<tr>\n",
       "  <th>Kurtosis:</th>       <td>455.894</td>  <th>  Cond. No.          </th>   <td>2.47e+05</td>  \n",
       "</tr>\n",
       "</table><br/><br/>Warnings:<br/>[1] Standard Errors assume that the covariance matrix of the errors is correctly specified.<br/>[2] The condition number is large, 2.47e+05. This might indicate that there are<br/>strong multicollinearity or other numerical problems."
      ],
      "text/plain": [
       "<class 'statsmodels.iolib.summary.Summary'>\n",
       "\"\"\"\n",
       "                            OLS Regression Results                            \n",
       "==============================================================================\n",
       "Dep. Variable:                  Price   R-squared:                       0.391\n",
       "Model:                            OLS   Adj. R-squared:                  0.389\n",
       "Method:                 Least Squares   F-statistic:                     235.4\n",
       "Date:                Fri, 25 Jan 2019   Prob (F-statistic):               0.00\n",
       "Time:                        15:11:17   Log-Likelihood:                -38520.\n",
       "No. Observations:                8464   AIC:                         7.709e+04\n",
       "Df Residuals:                    8441   BIC:                         7.725e+04\n",
       "Df Model:                          23                                         \n",
       "Covariance Type:            nonrobust                                         \n",
       "=========================================================================================\n",
       "                            coef    std err          t      P>|t|      [0.025      0.975]\n",
       "-----------------------------------------------------------------------------------------\n",
       "Release_Date             -0.0429      0.016     -2.697      0.007      -0.074      -0.012\n",
       "Media_Condition           2.2868      0.283      8.093      0.000       1.733       2.841\n",
       "Sleeve_Condition          1.0612      0.082     12.944      0.000       0.901       1.222\n",
       "Haves                     0.0017      0.002      0.955      0.340      -0.002       0.005\n",
       "Wants                     0.0620      0.004     16.416      0.000       0.055       0.069\n",
       "Percent_Seller_Rating    54.2669     30.811      1.761      0.078      -6.131     114.665\n",
       "Rate                      5.5194      0.489     11.290      0.000       4.561       6.478\n",
       "Votes                    -0.1591      0.025     -6.440      0.000      -0.207      -0.111\n",
       "Blues                     9.0698      2.769      3.276      0.001       3.642      14.497\n",
       "Brass & Military        -26.1879     23.501     -1.114      0.265     -72.255      19.879\n",
       "Classical                 6.0306      4.170      1.446      0.148      -2.143      14.204\n",
       "Electronic               -3.4066      0.787     -4.327      0.000      -4.950      -1.863\n",
       "Hip Hop                  -4.0513      1.066     -3.799      0.000      -6.142      -1.961\n",
       "Jazz                      0.2723      1.338      0.204      0.839      -2.350       2.895\n",
       "Latin                    10.3681      1.088      9.528      0.000       8.235      12.501\n",
       "Pop                      -1.0478      0.789     -1.329      0.184      -2.594       0.498\n",
       "Reggae                    6.4581      3.376      1.913      0.056      -0.160      13.076\n",
       "Rock                     13.3586      0.817     16.348      0.000      11.757      14.960\n",
       "Stage & Screen            6.4107      1.946      3.295      0.001       2.597      10.224\n",
       "Childrens                 1.3067      4.559      0.287      0.774      -7.630      10.244\n",
       "Funk/Soul                 0.9105      0.782      1.165      0.244      -0.622       2.443\n",
       "Folk/Country/World       -5.7915      1.422     -4.072      0.000      -8.579      -3.004\n",
       "Score                     0.0369      0.011      3.346      0.001       0.015       0.058\n",
       "==============================================================================\n",
       "Omnibus:                    15919.302   Durbin-Watson:                   1.999\n",
       "Prob(Omnibus):                  0.000   Jarque-Bera (JB):         72607961.968\n",
       "Skew:                          13.870   Prob(JB):                         0.00\n",
       "Kurtosis:                     455.894   Cond. No.                     2.47e+05\n",
       "==============================================================================\n",
       "\n",
       "Warnings:\n",
       "[1] Standard Errors assume that the covariance matrix of the errors is correctly specified.\n",
       "[2] The condition number is large, 2.47e+05. This might indicate that there are\n",
       "strong multicollinearity or other numerical problems.\n",
       "\"\"\""
      ]
     },
     "execution_count": 4,
     "metadata": {},
     "output_type": "execute_result"
    }
   ],
   "source": [
    "X = vinylsfinal.drop(['Price', 'Artist', 'Album'], axis=1)\n",
    "y = vinylsfinal.Price\n",
    "\n",
    "X, X_test, y, y_test = train_test_split(X, y, test_size=.2, random_state=11)\n",
    "\n",
    "X_train, X_val, y_train, y_val = train_test_split(X, y, test_size=.25, random_state=11)\n",
    "\n",
    "\n",
    "OLS = sm.OLS(y_train, X_train)\n",
    "\n",
    "OLS_model = OLS.fit()\n",
    "\n",
    "OLS_model.summary()"
   ]
  },
  {
   "cell_type": "code",
   "execution_count": 5,
   "metadata": {},
   "outputs": [
    {
     "data": {
      "text/plain": [
       "0.08152680751128072"
      ]
     },
     "execution_count": 5,
     "metadata": {},
     "output_type": "execute_result"
    }
   ],
   "source": [
    "y_pred = OLS_model.predict(X_val)\n",
    "\n",
    "R2 = metrics.r2_score(y_val, y_pred)\n",
    "\n",
    "MSE = metrics.mean_squared_error(y_val, y_pred)\n",
    "RMSE = np.sqrt(MSE)\n",
    "\n",
    "R2"
   ]
  },
  {
   "cell_type": "markdown",
   "metadata": {},
   "source": [
    "## OLS with high p-value features removed"
   ]
  },
  {
   "cell_type": "code",
   "execution_count": 6,
   "metadata": {},
   "outputs": [
    {
     "data": {
      "text/html": [
       "<table class=\"simpletable\">\n",
       "<caption>OLS Regression Results</caption>\n",
       "<tr>\n",
       "  <th>Dep. Variable:</th>          <td>Price</td>      <th>  R-squared:         </th> <td>   0.390</td> \n",
       "</tr>\n",
       "<tr>\n",
       "  <th>Model:</th>                   <td>OLS</td>       <th>  Adj. R-squared:    </th> <td>   0.389</td> \n",
       "</tr>\n",
       "<tr>\n",
       "  <th>Method:</th>             <td>Least Squares</td>  <th>  F-statistic:       </th> <td>   338.0</td> \n",
       "</tr>\n",
       "<tr>\n",
       "  <th>Date:</th>             <td>Fri, 25 Jan 2019</td> <th>  Prob (F-statistic):</th>  <td>  0.00</td>  \n",
       "</tr>\n",
       "<tr>\n",
       "  <th>Time:</th>                 <td>15:11:17</td>     <th>  Log-Likelihood:    </th> <td> -38524.</td> \n",
       "</tr>\n",
       "<tr>\n",
       "  <th>No. Observations:</th>      <td>  8464</td>      <th>  AIC:               </th> <td>7.708e+04</td>\n",
       "</tr>\n",
       "<tr>\n",
       "  <th>Df Residuals:</th>          <td>  8448</td>      <th>  BIC:               </th> <td>7.719e+04</td>\n",
       "</tr>\n",
       "<tr>\n",
       "  <th>Df Model:</th>              <td>    16</td>      <th>                     </th>     <td> </td>    \n",
       "</tr>\n",
       "<tr>\n",
       "  <th>Covariance Type:</th>      <td>nonrobust</td>    <th>                     </th>     <td> </td>    \n",
       "</tr>\n",
       "</table>\n",
       "<table class=\"simpletable\">\n",
       "<tr>\n",
       "            <td></td>               <th>coef</th>     <th>std err</th>      <th>t</th>      <th>P>|t|</th>  <th>[0.025</th>    <th>0.975]</th>  \n",
       "</tr>\n",
       "<tr>\n",
       "  <th>Release_Date</th>          <td>   -0.0422</td> <td>    0.016</td> <td>   -2.700</td> <td> 0.007</td> <td>   -0.073</td> <td>   -0.012</td>\n",
       "</tr>\n",
       "<tr>\n",
       "  <th>Media_Condition</th>       <td>    2.3014</td> <td>    0.281</td> <td>    8.189</td> <td> 0.000</td> <td>    1.751</td> <td>    2.852</td>\n",
       "</tr>\n",
       "<tr>\n",
       "  <th>Sleeve_Condition</th>      <td>    1.0719</td> <td>    0.081</td> <td>   13.167</td> <td> 0.000</td> <td>    0.912</td> <td>    1.232</td>\n",
       "</tr>\n",
       "<tr>\n",
       "  <th>Wants</th>                 <td>    0.0606</td> <td>    0.003</td> <td>   18.445</td> <td> 0.000</td> <td>    0.054</td> <td>    0.067</td>\n",
       "</tr>\n",
       "<tr>\n",
       "  <th>Percent_Seller_Rating</th> <td>   52.9285</td> <td>   30.300</td> <td>    1.747</td> <td> 0.081</td> <td>   -6.466</td> <td>  112.323</td>\n",
       "</tr>\n",
       "<tr>\n",
       "  <th>Rate</th>                  <td>    5.5525</td> <td>    0.486</td> <td>   11.416</td> <td> 0.000</td> <td>    4.599</td> <td>    6.506</td>\n",
       "</tr>\n",
       "<tr>\n",
       "  <th>Votes</th>                 <td>   -0.1372</td> <td>    0.008</td> <td>  -17.010</td> <td> 0.000</td> <td>   -0.153</td> <td>   -0.121</td>\n",
       "</tr>\n",
       "<tr>\n",
       "  <th>Blues</th>                 <td>    8.9316</td> <td>    2.740</td> <td>    3.259</td> <td> 0.001</td> <td>    3.560</td> <td>   14.303</td>\n",
       "</tr>\n",
       "<tr>\n",
       "  <th>Electronic</th>            <td>   -3.7840</td> <td>    0.690</td> <td>   -5.481</td> <td> 0.000</td> <td>   -5.137</td> <td>   -2.431</td>\n",
       "</tr>\n",
       "<tr>\n",
       "  <th>Hip Hop</th>               <td>   -4.2378</td> <td>    1.027</td> <td>   -4.125</td> <td> 0.000</td> <td>   -6.251</td> <td>   -2.224</td>\n",
       "</tr>\n",
       "<tr>\n",
       "  <th>Latin</th>                 <td>    9.8903</td> <td>    1.060</td> <td>    9.333</td> <td> 0.000</td> <td>    7.813</td> <td>   11.968</td>\n",
       "</tr>\n",
       "<tr>\n",
       "  <th>Reggae</th>                <td>    6.2589</td> <td>    3.369</td> <td>    1.858</td> <td> 0.063</td> <td>   -0.345</td> <td>   12.863</td>\n",
       "</tr>\n",
       "<tr>\n",
       "  <th>Rock</th>                  <td>   13.0577</td> <td>    0.751</td> <td>   17.385</td> <td> 0.000</td> <td>   11.585</td> <td>   14.530</td>\n",
       "</tr>\n",
       "<tr>\n",
       "  <th>Stage & Screen</th>        <td>    6.5001</td> <td>    1.934</td> <td>    3.362</td> <td> 0.001</td> <td>    2.710</td> <td>   10.291</td>\n",
       "</tr>\n",
       "<tr>\n",
       "  <th>Folk/Country/World</th>    <td>   -5.9819</td> <td>    1.399</td> <td>   -4.274</td> <td> 0.000</td> <td>   -8.725</td> <td>   -3.239</td>\n",
       "</tr>\n",
       "<tr>\n",
       "  <th>Score</th>                 <td>    0.0363</td> <td>    0.011</td> <td>    3.345</td> <td> 0.001</td> <td>    0.015</td> <td>    0.058</td>\n",
       "</tr>\n",
       "</table>\n",
       "<table class=\"simpletable\">\n",
       "<tr>\n",
       "  <th>Omnibus:</th>       <td>15933.064</td> <th>  Durbin-Watson:     </th>   <td>   1.998</td>  \n",
       "</tr>\n",
       "<tr>\n",
       "  <th>Prob(Omnibus):</th>  <td> 0.000</td>   <th>  Jarque-Bera (JB):  </th> <td>72860686.318</td>\n",
       "</tr>\n",
       "<tr>\n",
       "  <th>Skew:</th>           <td>13.897</td>   <th>  Prob(JB):          </th>   <td>    0.00</td>  \n",
       "</tr>\n",
       "<tr>\n",
       "  <th>Kurtosis:</th>       <td>456.681</td>  <th>  Cond. No.          </th>   <td>2.41e+05</td>  \n",
       "</tr>\n",
       "</table><br/><br/>Warnings:<br/>[1] Standard Errors assume that the covariance matrix of the errors is correctly specified.<br/>[2] The condition number is large, 2.41e+05. This might indicate that there are<br/>strong multicollinearity or other numerical problems."
      ],
      "text/plain": [
       "<class 'statsmodels.iolib.summary.Summary'>\n",
       "\"\"\"\n",
       "                            OLS Regression Results                            \n",
       "==============================================================================\n",
       "Dep. Variable:                  Price   R-squared:                       0.390\n",
       "Model:                            OLS   Adj. R-squared:                  0.389\n",
       "Method:                 Least Squares   F-statistic:                     338.0\n",
       "Date:                Fri, 25 Jan 2019   Prob (F-statistic):               0.00\n",
       "Time:                        15:11:17   Log-Likelihood:                -38524.\n",
       "No. Observations:                8464   AIC:                         7.708e+04\n",
       "Df Residuals:                    8448   BIC:                         7.719e+04\n",
       "Df Model:                          16                                         \n",
       "Covariance Type:            nonrobust                                         \n",
       "=========================================================================================\n",
       "                            coef    std err          t      P>|t|      [0.025      0.975]\n",
       "-----------------------------------------------------------------------------------------\n",
       "Release_Date             -0.0422      0.016     -2.700      0.007      -0.073      -0.012\n",
       "Media_Condition           2.3014      0.281      8.189      0.000       1.751       2.852\n",
       "Sleeve_Condition          1.0719      0.081     13.167      0.000       0.912       1.232\n",
       "Wants                     0.0606      0.003     18.445      0.000       0.054       0.067\n",
       "Percent_Seller_Rating    52.9285     30.300      1.747      0.081      -6.466     112.323\n",
       "Rate                      5.5525      0.486     11.416      0.000       4.599       6.506\n",
       "Votes                    -0.1372      0.008    -17.010      0.000      -0.153      -0.121\n",
       "Blues                     8.9316      2.740      3.259      0.001       3.560      14.303\n",
       "Electronic               -3.7840      0.690     -5.481      0.000      -5.137      -2.431\n",
       "Hip Hop                  -4.2378      1.027     -4.125      0.000      -6.251      -2.224\n",
       "Latin                     9.8903      1.060      9.333      0.000       7.813      11.968\n",
       "Reggae                    6.2589      3.369      1.858      0.063      -0.345      12.863\n",
       "Rock                     13.0577      0.751     17.385      0.000      11.585      14.530\n",
       "Stage & Screen            6.5001      1.934      3.362      0.001       2.710      10.291\n",
       "Folk/Country/World       -5.9819      1.399     -4.274      0.000      -8.725      -3.239\n",
       "Score                     0.0363      0.011      3.345      0.001       0.015       0.058\n",
       "==============================================================================\n",
       "Omnibus:                    15933.064   Durbin-Watson:                   1.998\n",
       "Prob(Omnibus):                  0.000   Jarque-Bera (JB):         72860686.318\n",
       "Skew:                          13.897   Prob(JB):                         0.00\n",
       "Kurtosis:                     456.681   Cond. No.                     2.41e+05\n",
       "==============================================================================\n",
       "\n",
       "Warnings:\n",
       "[1] Standard Errors assume that the covariance matrix of the errors is correctly specified.\n",
       "[2] The condition number is large, 2.41e+05. This might indicate that there are\n",
       "strong multicollinearity or other numerical problems.\n",
       "\"\"\""
      ]
     },
     "execution_count": 6,
     "metadata": {},
     "output_type": "execute_result"
    }
   ],
   "source": [
    "X = vinylsfinal.drop(['Price', 'Artist', 'Album', 'Haves', 'Brass & Military', 'Classical', 'Jazz',\n",
    "                      'Pop', 'Childrens', 'Funk/Soul'], axis=1)\n",
    "y = vinylsfinal.Price\n",
    "\n",
    "X, X_test, y, y_test = train_test_split(X, y, test_size=.2, random_state=11)\n",
    "\n",
    "X_train, X_val, y_train, y_val = train_test_split(X, y, test_size=.25, random_state=11)\n",
    "\n",
    "\n",
    "OLS2 = sm.OLS(y_train, X_train)\n",
    "\n",
    "OLS_model2 = OLS2.fit()\n",
    "\n",
    "OLS_model2.summary()"
   ]
  },
  {
   "cell_type": "code",
   "execution_count": 7,
   "metadata": {},
   "outputs": [
    {
     "data": {
      "text/plain": [
       "0.08171669445698115"
      ]
     },
     "execution_count": 7,
     "metadata": {},
     "output_type": "execute_result"
    }
   ],
   "source": [
    "y_pred = OLS_model2.predict(X_val)\n",
    "\n",
    "R2 = metrics.r2_score(y_val, y_pred)\n",
    "\n",
    "MSE = metrics.mean_squared_error(y_val, y_pred)\n",
    "RMSE = np.sqrt(MSE)\n",
    "\n",
    "R2"
   ]
  },
  {
   "cell_type": "markdown",
   "metadata": {},
   "source": [
    "## Regression with GridSearchCV"
   ]
  },
  {
   "cell_type": "code",
   "execution_count": 8,
   "metadata": {},
   "outputs": [],
   "source": [
    "X = vinylsfinal.drop(['Price', 'Artist', 'Album'], axis=1)\n",
    "y = vinylsfinal.Price\n",
    "\n",
    "X, y = np.array(X), np.array(y)\n",
    "\n",
    "X, X_test, y, y_test = train_test_split(X, y, test_size=.2, random_state=11)\n",
    "X_train, X_val, y_train, y_val = train_test_split(X, y, test_size=.25, random_state=11)\n",
    "\n",
    "\n",
    "kf = KFold(n_splits=5, shuffle=True, random_state = 11)"
   ]
  },
  {
   "cell_type": "code",
   "execution_count": 9,
   "metadata": {},
   "outputs": [
    {
     "data": {
      "text/plain": [
       "GridSearchCV(cv=5, error_score='raise-deprecating',\n",
       "       estimator=LinearRegression(copy_X=True, fit_intercept=True, n_jobs=None,\n",
       "         normalize=False),\n",
       "       fit_params=None, iid='warn', n_jobs=None,\n",
       "       param_grid={'fit_intercept': [True, False]},\n",
       "       pre_dispatch='2*n_jobs', refit=True, return_train_score='warn',\n",
       "       scoring=None, verbose=0)"
      ]
     },
     "execution_count": 9,
     "metadata": {},
     "output_type": "execute_result"
    }
   ],
   "source": [
    "params = {'fit_intercept':[True,False]}\n",
    "lr_model = GridSearchCV(LinearRegression(),params, cv=5)\n",
    "lr_model.fit(X_train, y_train)"
   ]
  },
  {
   "cell_type": "code",
   "execution_count": 10,
   "metadata": {},
   "outputs": [
    {
     "data": {
      "text/plain": [
       "LinearRegression(copy_X=True, fit_intercept=True, n_jobs=None,\n",
       "         normalize=False)"
      ]
     },
     "execution_count": 10,
     "metadata": {},
     "output_type": "execute_result"
    }
   ],
   "source": [
    "lr_model.best_estimator_"
   ]
  },
  {
   "cell_type": "code",
   "execution_count": 11,
   "metadata": {},
   "outputs": [
    {
     "data": {
      "text/plain": [
       "0.08643931039204977"
      ]
     },
     "execution_count": 11,
     "metadata": {},
     "output_type": "execute_result"
    }
   ],
   "source": [
    "lr_model.best_estimator_.score(X_val, y_val)"
   ]
  },
  {
   "cell_type": "markdown",
   "metadata": {},
   "source": [
    "## Ridge Regression with GridSearchCV"
   ]
  },
  {
   "cell_type": "code",
   "execution_count": 12,
   "metadata": {},
   "outputs": [],
   "source": [
    "scaler = StandardScaler()\n",
    "X_train_scaled = scaler.fit_transform(X_train)\n",
    "X_val_scaled = scaler.transform(X_val)"
   ]
  },
  {
   "cell_type": "code",
   "execution_count": 13,
   "metadata": {},
   "outputs": [
    {
     "data": {
      "text/plain": [
       "GridSearchCV(cv=5, error_score='raise-deprecating',\n",
       "       estimator=Ridge(alpha=1.0, copy_X=True, fit_intercept=True, max_iter=None,\n",
       "   normalize=False, random_state=None, solver='auto', tol=0.001),\n",
       "       fit_params=None, iid='warn', n_jobs=-1,\n",
       "       param_grid={'alpha': array([0.001, 0.002, ..., 0.998, 0.999]), 'fit_intercept': [True, False]},\n",
       "       pre_dispatch='2*n_jobs', refit=True, return_train_score='warn',\n",
       "       scoring=None, verbose=0)"
      ]
     },
     "execution_count": 13,
     "metadata": {},
     "output_type": "execute_result"
    }
   ],
   "source": [
    "alphas = np.arange(0.001,1.0,0.001) \n",
    "\n",
    "hyper_param_grid = {'alpha': alphas, 'fit_intercept': [True, False]}\n",
    "\n",
    "ridge_model = GridSearchCV(Ridge(), hyper_param_grid, cv=5, n_jobs=-1)\n",
    "\n",
    "ridge_model.fit(X_train, y_train)"
   ]
  },
  {
   "cell_type": "code",
   "execution_count": 14,
   "metadata": {},
   "outputs": [
    {
     "data": {
      "text/plain": [
       "Ridge(alpha=0.999, copy_X=True, fit_intercept=True, max_iter=None,\n",
       "   normalize=False, random_state=None, solver='auto', tol=0.001)"
      ]
     },
     "execution_count": 14,
     "metadata": {},
     "output_type": "execute_result"
    }
   ],
   "source": [
    "ridge_model.best_estimator_"
   ]
  },
  {
   "cell_type": "code",
   "execution_count": 15,
   "metadata": {},
   "outputs": [
    {
     "data": {
      "text/plain": [
       "0.08654806644024504"
      ]
     },
     "execution_count": 15,
     "metadata": {},
     "output_type": "execute_result"
    }
   ],
   "source": [
    "ridge_model.best_estimator_.score(X_val, y_val)"
   ]
  },
  {
   "cell_type": "markdown",
   "metadata": {},
   "source": [
    "## Lasso Regression with GridSearchCV"
   ]
  },
  {
   "cell_type": "code",
   "execution_count": 16,
   "metadata": {},
   "outputs": [
    {
     "data": {
      "text/plain": [
       "GridSearchCV(cv=5, error_score='raise-deprecating',\n",
       "       estimator=Lasso(alpha=1.0, copy_X=True, fit_intercept=True, max_iter=1000,\n",
       "   normalize=False, positive=False, precompute=False, random_state=None,\n",
       "   selection='cyclic', tol=0.0001, warm_start=False),\n",
       "       fit_params=None, iid='warn', n_jobs=-1,\n",
       "       param_grid={'alpha': array([0.1, 0.2, 0.3, 0.4, 0.5, 0.6, 0.7, 0.8, 0.9]), 'fit_intercept': [True, False]},\n",
       "       pre_dispatch='2*n_jobs', refit=True, return_train_score='warn',\n",
       "       scoring=None, verbose=0)"
      ]
     },
     "execution_count": 16,
     "metadata": {},
     "output_type": "execute_result"
    }
   ],
   "source": [
    "alphas = np.arange(0.1,1.0,0.1) \n",
    "\n",
    "hyper_param_grid = {'alpha': alphas, 'fit_intercept': [True, False]}\n",
    "\n",
    "lasso_model = GridSearchCV(Lasso(), hyper_param_grid, cv=5, n_jobs=-1)\n",
    "\n",
    "lasso_model.fit(X_train, y_train)"
   ]
  },
  {
   "cell_type": "code",
   "execution_count": 17,
   "metadata": {},
   "outputs": [
    {
     "data": {
      "text/plain": [
       "Lasso(alpha=0.1, copy_X=True, fit_intercept=True, max_iter=1000,\n",
       "   normalize=False, positive=False, precompute=False, random_state=None,\n",
       "   selection='cyclic', tol=0.0001, warm_start=False)"
      ]
     },
     "execution_count": 17,
     "metadata": {},
     "output_type": "execute_result"
    }
   ],
   "source": [
    "lasso_model.best_estimator_"
   ]
  },
  {
   "cell_type": "code",
   "execution_count": 18,
   "metadata": {},
   "outputs": [
    {
     "data": {
      "text/plain": [
       "0.08343706827985031"
      ]
     },
     "execution_count": 18,
     "metadata": {},
     "output_type": "execute_result"
    }
   ],
   "source": [
    "lasso_model.best_estimator_.score(X_val, y_val)"
   ]
  },
  {
   "cell_type": "markdown",
   "metadata": {},
   "source": [
    "## Transformations"
   ]
  },
  {
   "cell_type": "code",
   "execution_count": 19,
   "metadata": {},
   "outputs": [
    {
     "data": {
      "image/png": "[encoded data removed]",
      "text/plain": [
       "<Figure size 432x288 with 1 Axes>"
      ]
     },
     "metadata": {},
     "output_type": "display_data"
    }
   ],
   "source": [
    "sns.set()\n",
    "plt.hist(vinylsfinal.Media_Condition);"
   ]
  },
  {
   "cell_type": "code",
   "execution_count": 20,
   "metadata": {},
   "outputs": [
    {
     "name": "stdout",
     "output_type": "stream",
     "text": [
      "Lambda: 2.026735095311616\n"
     ]
    },
    {
     "data": {
      "image/png": "[encoded data removed]",
      "text/plain": [
       "<Figure size 432x288 with 1 Axes>"
      ]
     },
     "metadata": {},
     "output_type": "display_data"
    }
   ],
   "source": [
    "lamb = stats.boxcox_normmax(vinylsfinal.Media_Condition)\n",
    "print(\"Lambda:\", lamb)\n",
    "Media_t = (np.power(vinylsfinal.Media_Condition,lamb)-1)/lamb\n",
    "\n",
    "plt.hist(Media_t);"
   ]
  },
  {
   "cell_type": "code",
   "execution_count": 21,
   "metadata": {},
   "outputs": [
    {
     "data": {
      "image/png": "[encoded data removed]",
      "text/plain": [
       "<Figure size 432x288 with 1 Axes>"
      ]
     },
     "metadata": {},
     "output_type": "display_data"
    }
   ],
   "source": [
    "plt.hist(vinylsfinal.Sleeve_Condition);"
   ]
  },
  {
   "cell_type": "code",
   "execution_count": 22,
   "metadata": {},
   "outputs": [
    {
     "name": "stdout",
     "output_type": "stream",
     "text": [
      "Lambda: 2.947910882477419\n"
     ]
    },
    {
     "data": {
      "image/png": "[encoded data removed]",
      "text/plain": [
       "<Figure size 432x288 with 1 Axes>"
      ]
     },
     "metadata": {},
     "output_type": "display_data"
    }
   ],
   "source": [
    "lamb2 = stats.boxcox_normmax(vinylsfinal.Sleeve_Condition)\n",
    "print(\"Lambda:\", lamb2)\n",
    "Sleeve_t = (np.power(vinylsfinal.Sleeve_Condition,lamb2)-1)/lamb2\n",
    "\n",
    "plt.hist(Sleeve_t);"
   ]
  },
  {
   "cell_type": "code",
   "execution_count": 23,
   "metadata": {},
   "outputs": [
    {
     "data": {
      "image/png": "[encoded data removed]",
      "text/plain": [
       "<Figure size 432x288 with 1 Axes>"
      ]
     },
     "metadata": {},
     "output_type": "display_data"
    }
   ],
   "source": [
    "plt.hist(vinylsfinal.Percent_Seller_Rating);"
   ]
  },
  {
   "cell_type": "code",
   "execution_count": 24,
   "metadata": {},
   "outputs": [
    {
     "name": "stdout",
     "output_type": "stream",
     "text": [
      "Lambda: 142.15733528297062\n"
     ]
    },
    {
     "data": {
      "image/png": "[encoded data removed]",
      "text/plain": [
       "<Figure size 432x288 with 1 Axes>"
      ]
     },
     "metadata": {},
     "output_type": "display_data"
    }
   ],
   "source": [
    "lamb3 = stats.boxcox_normmax(vinylsfinal.Percent_Seller_Rating)\n",
    "print(\"Lambda:\", lamb3)\n",
    "Seller_t = (np.power(vinylsfinal.Percent_Seller_Rating,lamb3)-1)/lamb3\n",
    "\n",
    "plt.hist(Seller_t);"
   ]
  },
  {
   "cell_type": "code",
   "execution_count": 25,
   "metadata": {},
   "outputs": [
    {
     "data": {
      "text/html": [
       "<div>\n",
       "<style scoped>\n",
       "    .dataframe tbody tr th:only-of-type {\n",
       "        vertical-align: middle;\n",
       "    }\n",
       "\n",
       "    .dataframe tbody tr th {\n",
       "        vertical-align: top;\n",
       "    }\n",
       "\n",
       "    .dataframe thead th {\n",
       "        text-align: right;\n",
       "    }\n",
       "</style>\n",
       "<table border=\"1\" class=\"dataframe\">\n",
       "  <thead>\n",
       "    <tr style=\"text-align: right;\">\n",
       "      <th></th>\n",
       "      <th>Price</th>\n",
       "      <th>Artist</th>\n",
       "      <th>Album</th>\n",
       "      <th>Release_Date</th>\n",
       "      <th>Haves</th>\n",
       "      <th>Wants</th>\n",
       "      <th>Rate</th>\n",
       "      <th>Votes</th>\n",
       "      <th>Blues</th>\n",
       "      <th>Brass &amp; Military</th>\n",
       "      <th>...</th>\n",
       "      <th>Reggae</th>\n",
       "      <th>Rock</th>\n",
       "      <th>Stage &amp; Screen</th>\n",
       "      <th>Childrens</th>\n",
       "      <th>Funk/Soul</th>\n",
       "      <th>Folk/Country/World</th>\n",
       "      <th>Score</th>\n",
       "      <th>Seller_t</th>\n",
       "      <th>Media_t</th>\n",
       "      <th>Sleeve_t</th>\n",
       "    </tr>\n",
       "  </thead>\n",
       "  <tbody>\n",
       "    <tr>\n",
       "      <th>3</th>\n",
       "      <td>5.00</td>\n",
       "      <td>New Edition</td>\n",
       "      <td>Once In A Lifetime Groove</td>\n",
       "      <td>1986</td>\n",
       "      <td>55</td>\n",
       "      <td>48</td>\n",
       "      <td>3.985851</td>\n",
       "      <td>0</td>\n",
       "      <td>0</td>\n",
       "      <td>0</td>\n",
       "      <td>...</td>\n",
       "      <td>0</td>\n",
       "      <td>0</td>\n",
       "      <td>0</td>\n",
       "      <td>0</td>\n",
       "      <td>1</td>\n",
       "      <td>0</td>\n",
       "      <td>59.0</td>\n",
       "      <td>0.0</td>\n",
       "      <td>18.14074</td>\n",
       "      <td>155.513520</td>\n",
       "    </tr>\n",
       "    <tr>\n",
       "      <th>6</th>\n",
       "      <td>1.88</td>\n",
       "      <td>The Quadrajets*</td>\n",
       "      <td>The Real Fucked Up Blues</td>\n",
       "      <td>1997</td>\n",
       "      <td>65</td>\n",
       "      <td>15</td>\n",
       "      <td>3.985851</td>\n",
       "      <td>0</td>\n",
       "      <td>0</td>\n",
       "      <td>0</td>\n",
       "      <td>...</td>\n",
       "      <td>0</td>\n",
       "      <td>1</td>\n",
       "      <td>0</td>\n",
       "      <td>0</td>\n",
       "      <td>0</td>\n",
       "      <td>0</td>\n",
       "      <td>3.0</td>\n",
       "      <td>0.0</td>\n",
       "      <td>18.14074</td>\n",
       "      <td>220.211013</td>\n",
       "    </tr>\n",
       "    <tr>\n",
       "      <th>9</th>\n",
       "      <td>2.88</td>\n",
       "      <td>Uncle Joe's Big Ol' Driver</td>\n",
       "      <td>Don't Go</td>\n",
       "      <td>1994</td>\n",
       "      <td>16</td>\n",
       "      <td>4</td>\n",
       "      <td>3.985851</td>\n",
       "      <td>0</td>\n",
       "      <td>0</td>\n",
       "      <td>0</td>\n",
       "      <td>...</td>\n",
       "      <td>0</td>\n",
       "      <td>1</td>\n",
       "      <td>0</td>\n",
       "      <td>0</td>\n",
       "      <td>0</td>\n",
       "      <td>0</td>\n",
       "      <td>2.0</td>\n",
       "      <td>0.0</td>\n",
       "      <td>18.14074</td>\n",
       "      <td>155.513520</td>\n",
       "    </tr>\n",
       "    <tr>\n",
       "      <th>14</th>\n",
       "      <td>0.88</td>\n",
       "      <td>Whatever...</td>\n",
       "      <td>Socially Retarded</td>\n",
       "      <td>1996</td>\n",
       "      <td>62</td>\n",
       "      <td>9</td>\n",
       "      <td>3.985851</td>\n",
       "      <td>0</td>\n",
       "      <td>0</td>\n",
       "      <td>0</td>\n",
       "      <td>...</td>\n",
       "      <td>0</td>\n",
       "      <td>1</td>\n",
       "      <td>0</td>\n",
       "      <td>0</td>\n",
       "      <td>0</td>\n",
       "      <td>0</td>\n",
       "      <td>43.0</td>\n",
       "      <td>0.0</td>\n",
       "      <td>18.14074</td>\n",
       "      <td>220.211013</td>\n",
       "    </tr>\n",
       "    <tr>\n",
       "      <th>16</th>\n",
       "      <td>4.00</td>\n",
       "      <td>JC Lodge</td>\n",
       "      <td>Selfish Lover</td>\n",
       "      <td>1990</td>\n",
       "      <td>13</td>\n",
       "      <td>18</td>\n",
       "      <td>3.985851</td>\n",
       "      <td>0</td>\n",
       "      <td>0</td>\n",
       "      <td>0</td>\n",
       "      <td>...</td>\n",
       "      <td>1</td>\n",
       "      <td>0</td>\n",
       "      <td>0</td>\n",
       "      <td>0</td>\n",
       "      <td>0</td>\n",
       "      <td>0</td>\n",
       "      <td>0.0</td>\n",
       "      <td>0.0</td>\n",
       "      <td>18.14074</td>\n",
       "      <td>8.310388</td>\n",
       "    </tr>\n",
       "  </tbody>\n",
       "</table>\n",
       "<p>5 rows × 26 columns</p>\n",
       "</div>"
      ],
      "text/plain": [
       "    Price                      Artist                      Album  \\\n",
       "3    5.00                 New Edition  Once In A Lifetime Groove   \n",
       "6    1.88             The Quadrajets*   The Real Fucked Up Blues   \n",
       "9    2.88  Uncle Joe's Big Ol' Driver                   Don't Go   \n",
       "14   0.88                 Whatever...          Socially Retarded   \n",
       "16   4.00                    JC Lodge              Selfish Lover   \n",
       "\n",
       "    Release_Date  Haves  Wants      Rate  Votes  Blues  Brass & Military  \\\n",
       "3           1986     55     48  3.985851      0      0                 0   \n",
       "6           1997     65     15  3.985851      0      0                 0   \n",
       "9           1994     16      4  3.985851      0      0                 0   \n",
       "14          1996     62      9  3.985851      0      0                 0   \n",
       "16          1990     13     18  3.985851      0      0                 0   \n",
       "\n",
       "       ...      Reggae  Rock  Stage & Screen  Childrens  Funk/Soul  \\\n",
       "3      ...           0     0               0          0          1   \n",
       "6      ...           0     1               0          0          0   \n",
       "9      ...           0     1               0          0          0   \n",
       "14     ...           0     1               0          0          0   \n",
       "16     ...           1     0               0          0          0   \n",
       "\n",
       "    Folk/Country/World  Score  Seller_t   Media_t    Sleeve_t  \n",
       "3                    0   59.0       0.0  18.14074  155.513520  \n",
       "6                    0    3.0       0.0  18.14074  220.211013  \n",
       "9                    0    2.0       0.0  18.14074  155.513520  \n",
       "14                   0   43.0       0.0  18.14074  220.211013  \n",
       "16                   0    0.0       0.0  18.14074    8.310388  \n",
       "\n",
       "[5 rows x 26 columns]"
      ]
     },
     "execution_count": 25,
     "metadata": {},
     "output_type": "execute_result"
    }
   ],
   "source": [
    "vinyl_t = vinylsfinal\n",
    "vinyl_t['Seller_t'] = Seller_t\n",
    "vinyl_t['Media_t'] = Media_t\n",
    "vinyl_t['Sleeve_t'] = Sleeve_t\n",
    "\n",
    "del vinyl_t['Sleeve_Condition']\n",
    "del vinyl_t['Media_Condition']\n",
    "del vinyl_t['Percent_Seller_Rating']\n",
    "\n",
    "vinyl_t.head()"
   ]
  },
  {
   "cell_type": "markdown",
   "metadata": {},
   "source": [
    "## OLS with Box-Cox Transformed Features"
   ]
  },
  {
   "cell_type": "code",
   "execution_count": 26,
   "metadata": {},
   "outputs": [
    {
     "data": {
      "text/html": [
       "<table class=\"simpletable\">\n",
       "<caption>OLS Regression Results</caption>\n",
       "<tr>\n",
       "  <th>Dep. Variable:</th>          <td>Price</td>      <th>  R-squared:         </th> <td>   0.392</td> \n",
       "</tr>\n",
       "<tr>\n",
       "  <th>Model:</th>                   <td>OLS</td>       <th>  Adj. R-squared:    </th> <td>   0.391</td> \n",
       "</tr>\n",
       "<tr>\n",
       "  <th>Method:</th>             <td>Least Squares</td>  <th>  F-statistic:       </th> <td>   236.9</td> \n",
       "</tr>\n",
       "<tr>\n",
       "  <th>Date:</th>             <td>Fri, 25 Jan 2019</td> <th>  Prob (F-statistic):</th>  <td>  0.00</td>  \n",
       "</tr>\n",
       "<tr>\n",
       "  <th>Time:</th>                 <td>15:11:36</td>     <th>  Log-Likelihood:    </th> <td> -38510.</td> \n",
       "</tr>\n",
       "<tr>\n",
       "  <th>No. Observations:</th>      <td>  8464</td>      <th>  AIC:               </th> <td>7.707e+04</td>\n",
       "</tr>\n",
       "<tr>\n",
       "  <th>Df Residuals:</th>          <td>  8441</td>      <th>  BIC:               </th> <td>7.723e+04</td>\n",
       "</tr>\n",
       "<tr>\n",
       "  <th>Df Model:</th>              <td>    23</td>      <th>                     </th>     <td> </td>    \n",
       "</tr>\n",
       "<tr>\n",
       "  <th>Covariance Type:</th>      <td>nonrobust</td>    <th>                     </th>     <td> </td>    \n",
       "</tr>\n",
       "</table>\n",
       "<table class=\"simpletable\">\n",
       "<tr>\n",
       "           <td></td>             <th>coef</th>     <th>std err</th>      <th>t</th>      <th>P>|t|</th>  <th>[0.025</th>    <th>0.975]</th>  \n",
       "</tr>\n",
       "<tr>\n",
       "  <th>Release_Date</th>       <td>   -0.0089</td> <td>    0.001</td> <td>   -7.732</td> <td> 0.000</td> <td>   -0.011</td> <td>   -0.007</td>\n",
       "</tr>\n",
       "<tr>\n",
       "  <th>Haves</th>              <td>    0.0025</td> <td>    0.002</td> <td>    1.469</td> <td> 0.142</td> <td>   -0.001</td> <td>    0.006</td>\n",
       "</tr>\n",
       "<tr>\n",
       "  <th>Wants</th>              <td>    0.0631</td> <td>    0.004</td> <td>   16.718</td> <td> 0.000</td> <td>    0.056</td> <td>    0.070</td>\n",
       "</tr>\n",
       "<tr>\n",
       "  <th>Rate</th>               <td>    5.1707</td> <td>    0.489</td> <td>   10.566</td> <td> 0.000</td> <td>    4.211</td> <td>    6.130</td>\n",
       "</tr>\n",
       "<tr>\n",
       "  <th>Votes</th>              <td>   -0.1680</td> <td>    0.025</td> <td>   -6.828</td> <td> 0.000</td> <td>   -0.216</td> <td>   -0.120</td>\n",
       "</tr>\n",
       "<tr>\n",
       "  <th>Blues</th>              <td>    9.5107</td> <td>    2.765</td> <td>    3.440</td> <td> 0.001</td> <td>    4.090</td> <td>   14.931</td>\n",
       "</tr>\n",
       "<tr>\n",
       "  <th>Brass & Military</th>   <td>  -26.9521</td> <td>   23.473</td> <td>   -1.148</td> <td> 0.251</td> <td>  -72.964</td> <td>   19.060</td>\n",
       "</tr>\n",
       "<tr>\n",
       "  <th>Classical</th>          <td>    7.4033</td> <td>    4.163</td> <td>    1.778</td> <td> 0.075</td> <td>   -0.757</td> <td>   15.563</td>\n",
       "</tr>\n",
       "<tr>\n",
       "  <th>Electronic</th>         <td>   -3.5628</td> <td>    0.762</td> <td>   -4.674</td> <td> 0.000</td> <td>   -5.057</td> <td>   -2.069</td>\n",
       "</tr>\n",
       "<tr>\n",
       "  <th>Hip Hop</th>            <td>   -5.1228</td> <td>    1.044</td> <td>   -4.909</td> <td> 0.000</td> <td>   -7.168</td> <td>   -3.077</td>\n",
       "</tr>\n",
       "<tr>\n",
       "  <th>Jazz</th>               <td>    1.2082</td> <td>    1.329</td> <td>    0.909</td> <td> 0.363</td> <td>   -1.398</td> <td>    3.814</td>\n",
       "</tr>\n",
       "<tr>\n",
       "  <th>Latin</th>              <td>    9.0817</td> <td>    1.095</td> <td>    8.295</td> <td> 0.000</td> <td>    6.935</td> <td>   11.228</td>\n",
       "</tr>\n",
       "<tr>\n",
       "  <th>Pop</th>                <td>   -1.6707</td> <td>    0.792</td> <td>   -2.111</td> <td> 0.035</td> <td>   -3.222</td> <td>   -0.119</td>\n",
       "</tr>\n",
       "<tr>\n",
       "  <th>Reggae</th>             <td>    6.1584</td> <td>    3.370</td> <td>    1.827</td> <td> 0.068</td> <td>   -0.448</td> <td>   12.765</td>\n",
       "</tr>\n",
       "<tr>\n",
       "  <th>Rock</th>               <td>   13.2108</td> <td>    0.815</td> <td>   16.202</td> <td> 0.000</td> <td>   11.612</td> <td>   14.809</td>\n",
       "</tr>\n",
       "<tr>\n",
       "  <th>Stage & Screen</th>     <td>    6.7326</td> <td>    1.939</td> <td>    3.472</td> <td> 0.001</td> <td>    2.932</td> <td>   10.533</td>\n",
       "</tr>\n",
       "<tr>\n",
       "  <th>Childrens</th>          <td>   -1.1667</td> <td>    4.550</td> <td>   -0.256</td> <td> 0.798</td> <td>  -10.086</td> <td>    7.753</td>\n",
       "</tr>\n",
       "<tr>\n",
       "  <th>Funk/Soul</th>          <td>   -0.2833</td> <td>    0.790</td> <td>   -0.359</td> <td> 0.720</td> <td>   -1.832</td> <td>    1.266</td>\n",
       "</tr>\n",
       "<tr>\n",
       "  <th>Folk/Country/World</th> <td>   -5.6199</td> <td>    1.419</td> <td>   -3.960</td> <td> 0.000</td> <td>   -8.402</td> <td>   -2.838</td>\n",
       "</tr>\n",
       "<tr>\n",
       "  <th>Score</th>              <td>    0.0298</td> <td>    0.011</td> <td>    2.697</td> <td> 0.007</td> <td>    0.008</td> <td>    0.051</td>\n",
       "</tr>\n",
       "<tr>\n",
       "  <th>Seller_t</th>           <td> -842.4442</td> <td>  109.228</td> <td>   -7.713</td> <td> 0.000</td> <td>-1056.558</td> <td> -628.330</td>\n",
       "</tr>\n",
       "<tr>\n",
       "  <th>Media_t</th>            <td>    0.2014</td> <td>    0.046</td> <td>    4.425</td> <td> 0.000</td> <td>    0.112</td> <td>    0.291</td>\n",
       "</tr>\n",
       "<tr>\n",
       "  <th>Sleeve_t</th>           <td>    0.0197</td> <td>    0.002</td> <td>    9.167</td> <td> 0.000</td> <td>    0.015</td> <td>    0.024</td>\n",
       "</tr>\n",
       "</table>\n",
       "<table class=\"simpletable\">\n",
       "<tr>\n",
       "  <th>Omnibus:</th>       <td>15929.108</td> <th>  Durbin-Watson:     </th>   <td>   2.005</td>  \n",
       "</tr>\n",
       "<tr>\n",
       "  <th>Prob(Omnibus):</th>  <td> 0.000</td>   <th>  Jarque-Bera (JB):  </th> <td>72407469.130</td>\n",
       "</tr>\n",
       "<tr>\n",
       "  <th>Skew:</th>           <td>13.892</td>   <th>  Prob(JB):          </th>   <td>    0.00</td>  \n",
       "</tr>\n",
       "<tr>\n",
       "  <th>Kurtosis:</th>       <td>455.264</td>  <th>  Cond. No.          </th>   <td>8.78e+05</td>  \n",
       "</tr>\n",
       "</table><br/><br/>Warnings:<br/>[1] Standard Errors assume that the covariance matrix of the errors is correctly specified.<br/>[2] The condition number is large, 8.78e+05. This might indicate that there are<br/>strong multicollinearity or other numerical problems."
      ],
      "text/plain": [
       "<class 'statsmodels.iolib.summary.Summary'>\n",
       "\"\"\"\n",
       "                            OLS Regression Results                            \n",
       "==============================================================================\n",
       "Dep. Variable:                  Price   R-squared:                       0.392\n",
       "Model:                            OLS   Adj. R-squared:                  0.391\n",
       "Method:                 Least Squares   F-statistic:                     236.9\n",
       "Date:                Fri, 25 Jan 2019   Prob (F-statistic):               0.00\n",
       "Time:                        15:11:36   Log-Likelihood:                -38510.\n",
       "No. Observations:                8464   AIC:                         7.707e+04\n",
       "Df Residuals:                    8441   BIC:                         7.723e+04\n",
       "Df Model:                          23                                         \n",
       "Covariance Type:            nonrobust                                         \n",
       "======================================================================================\n",
       "                         coef    std err          t      P>|t|      [0.025      0.975]\n",
       "--------------------------------------------------------------------------------------\n",
       "Release_Date          -0.0089      0.001     -7.732      0.000      -0.011      -0.007\n",
       "Haves                  0.0025      0.002      1.469      0.142      -0.001       0.006\n",
       "Wants                  0.0631      0.004     16.718      0.000       0.056       0.070\n",
       "Rate                   5.1707      0.489     10.566      0.000       4.211       6.130\n",
       "Votes                 -0.1680      0.025     -6.828      0.000      -0.216      -0.120\n",
       "Blues                  9.5107      2.765      3.440      0.001       4.090      14.931\n",
       "Brass & Military     -26.9521     23.473     -1.148      0.251     -72.964      19.060\n",
       "Classical              7.4033      4.163      1.778      0.075      -0.757      15.563\n",
       "Electronic            -3.5628      0.762     -4.674      0.000      -5.057      -2.069\n",
       "Hip Hop               -5.1228      1.044     -4.909      0.000      -7.168      -3.077\n",
       "Jazz                   1.2082      1.329      0.909      0.363      -1.398       3.814\n",
       "Latin                  9.0817      1.095      8.295      0.000       6.935      11.228\n",
       "Pop                   -1.6707      0.792     -2.111      0.035      -3.222      -0.119\n",
       "Reggae                 6.1584      3.370      1.827      0.068      -0.448      12.765\n",
       "Rock                  13.2108      0.815     16.202      0.000      11.612      14.809\n",
       "Stage & Screen         6.7326      1.939      3.472      0.001       2.932      10.533\n",
       "Childrens             -1.1667      4.550     -0.256      0.798     -10.086       7.753\n",
       "Funk/Soul             -0.2833      0.790     -0.359      0.720      -1.832       1.266\n",
       "Folk/Country/World    -5.6199      1.419     -3.960      0.000      -8.402      -2.838\n",
       "Score                  0.0298      0.011      2.697      0.007       0.008       0.051\n",
       "Seller_t            -842.4442    109.228     -7.713      0.000   -1056.558    -628.330\n",
       "Media_t                0.2014      0.046      4.425      0.000       0.112       0.291\n",
       "Sleeve_t               0.0197      0.002      9.167      0.000       0.015       0.024\n",
       "==============================================================================\n",
       "Omnibus:                    15929.108   Durbin-Watson:                   2.005\n",
       "Prob(Omnibus):                  0.000   Jarque-Bera (JB):         72407469.130\n",
       "Skew:                          13.892   Prob(JB):                         0.00\n",
       "Kurtosis:                     455.264   Cond. No.                     8.78e+05\n",
       "==============================================================================\n",
       "\n",
       "Warnings:\n",
       "[1] Standard Errors assume that the covariance matrix of the errors is correctly specified.\n",
       "[2] The condition number is large, 8.78e+05. This might indicate that there are\n",
       "strong multicollinearity or other numerical problems.\n",
       "\"\"\""
      ]
     },
     "execution_count": 26,
     "metadata": {},
     "output_type": "execute_result"
    }
   ],
   "source": [
    "Xt = vinyl_t.drop(['Price', 'Artist', 'Album'], axis=1)\n",
    "yt = vinyl_t.Price\n",
    "\n",
    "Xt, Xt_test, yt, yt_test = train_test_split(Xt, yt, test_size=.2, random_state=11)\n",
    "\n",
    "Xt_train, Xt_val, yt_train, yt_val = train_test_split(Xt, yt, test_size=.25, random_state=11)\n",
    "\n",
    "\n",
    "OLSt = sm.OLS(yt_train, Xt_train)\n",
    "\n",
    "OLSt_model = OLSt.fit()\n",
    "\n",
    "OLSt_model.summary()"
   ]
  },
  {
   "cell_type": "code",
   "execution_count": 27,
   "metadata": {},
   "outputs": [
    {
     "data": {
      "text/plain": [
       "-660.7526684723574"
      ]
     },
     "execution_count": 27,
     "metadata": {},
     "output_type": "execute_result"
    }
   ],
   "source": [
    "yt_pred = OLS_model.predict(Xt_val)\n",
    "\n",
    "R2 = metrics.r2_score(yt_val, yt_pred)\n",
    "\n",
    "MSE = metrics.mean_squared_error(yt_val, yt_pred)\n",
    "RMSE = np.sqrt(MSE)\n",
    "\n",
    "R2"
   ]
  },
  {
   "cell_type": "markdown",
   "metadata": {},
   "source": [
    "## OLS with Feature Engineering"
   ]
  },
  {
   "cell_type": "code",
   "execution_count": 28,
   "metadata": {},
   "outputs": [
    {
     "data": {
      "text/html": [
       "<div>\n",
       "<style scoped>\n",
       "    .dataframe tbody tr th:only-of-type {\n",
       "        vertical-align: middle;\n",
       "    }\n",
       "\n",
       "    .dataframe tbody tr th {\n",
       "        vertical-align: top;\n",
       "    }\n",
       "\n",
       "    .dataframe thead th {\n",
       "        text-align: right;\n",
       "    }\n",
       "</style>\n",
       "<table border=\"1\" class=\"dataframe\">\n",
       "  <thead>\n",
       "    <tr style=\"text-align: right;\">\n",
       "      <th></th>\n",
       "      <th>Price</th>\n",
       "      <th>Release_Date</th>\n",
       "      <th>Wants</th>\n",
       "      <th>Rate</th>\n",
       "      <th>Votes</th>\n",
       "      <th>Blues</th>\n",
       "      <th>Electronic</th>\n",
       "      <th>Hip Hop</th>\n",
       "      <th>Latin</th>\n",
       "      <th>Reggae</th>\n",
       "      <th>Rock</th>\n",
       "      <th>Stage &amp; Screen</th>\n",
       "      <th>Folk/Country/World</th>\n",
       "      <th>Score</th>\n",
       "      <th>Seller_t</th>\n",
       "      <th>Media_t</th>\n",
       "      <th>Sleeve_t</th>\n",
       "    </tr>\n",
       "  </thead>\n",
       "  <tbody>\n",
       "    <tr>\n",
       "      <th>3</th>\n",
       "      <td>5.00</td>\n",
       "      <td>1986</td>\n",
       "      <td>48</td>\n",
       "      <td>3.985851</td>\n",
       "      <td>0</td>\n",
       "      <td>0</td>\n",
       "      <td>1</td>\n",
       "      <td>0</td>\n",
       "      <td>0</td>\n",
       "      <td>0</td>\n",
       "      <td>0</td>\n",
       "      <td>0</td>\n",
       "      <td>0</td>\n",
       "      <td>59.0</td>\n",
       "      <td>0.0</td>\n",
       "      <td>18.14074</td>\n",
       "      <td>155.513520</td>\n",
       "    </tr>\n",
       "    <tr>\n",
       "      <th>6</th>\n",
       "      <td>1.88</td>\n",
       "      <td>1997</td>\n",
       "      <td>15</td>\n",
       "      <td>3.985851</td>\n",
       "      <td>0</td>\n",
       "      <td>0</td>\n",
       "      <td>0</td>\n",
       "      <td>0</td>\n",
       "      <td>0</td>\n",
       "      <td>0</td>\n",
       "      <td>1</td>\n",
       "      <td>0</td>\n",
       "      <td>0</td>\n",
       "      <td>3.0</td>\n",
       "      <td>0.0</td>\n",
       "      <td>18.14074</td>\n",
       "      <td>220.211013</td>\n",
       "    </tr>\n",
       "    <tr>\n",
       "      <th>9</th>\n",
       "      <td>2.88</td>\n",
       "      <td>1994</td>\n",
       "      <td>4</td>\n",
       "      <td>3.985851</td>\n",
       "      <td>0</td>\n",
       "      <td>0</td>\n",
       "      <td>0</td>\n",
       "      <td>0</td>\n",
       "      <td>0</td>\n",
       "      <td>0</td>\n",
       "      <td>1</td>\n",
       "      <td>0</td>\n",
       "      <td>0</td>\n",
       "      <td>2.0</td>\n",
       "      <td>0.0</td>\n",
       "      <td>18.14074</td>\n",
       "      <td>155.513520</td>\n",
       "    </tr>\n",
       "    <tr>\n",
       "      <th>14</th>\n",
       "      <td>0.88</td>\n",
       "      <td>1996</td>\n",
       "      <td>9</td>\n",
       "      <td>3.985851</td>\n",
       "      <td>0</td>\n",
       "      <td>0</td>\n",
       "      <td>0</td>\n",
       "      <td>0</td>\n",
       "      <td>0</td>\n",
       "      <td>0</td>\n",
       "      <td>1</td>\n",
       "      <td>0</td>\n",
       "      <td>0</td>\n",
       "      <td>43.0</td>\n",
       "      <td>0.0</td>\n",
       "      <td>18.14074</td>\n",
       "      <td>220.211013</td>\n",
       "    </tr>\n",
       "    <tr>\n",
       "      <th>16</th>\n",
       "      <td>4.00</td>\n",
       "      <td>1990</td>\n",
       "      <td>18</td>\n",
       "      <td>3.985851</td>\n",
       "      <td>0</td>\n",
       "      <td>0</td>\n",
       "      <td>0</td>\n",
       "      <td>0</td>\n",
       "      <td>0</td>\n",
       "      <td>1</td>\n",
       "      <td>0</td>\n",
       "      <td>0</td>\n",
       "      <td>0</td>\n",
       "      <td>0.0</td>\n",
       "      <td>0.0</td>\n",
       "      <td>18.14074</td>\n",
       "      <td>8.310388</td>\n",
       "    </tr>\n",
       "  </tbody>\n",
       "</table>\n",
       "</div>"
      ],
      "text/plain": [
       "    Price  Release_Date  Wants      Rate  Votes  Blues  Electronic  Hip Hop  \\\n",
       "3    5.00          1986     48  3.985851      0      0           1        0   \n",
       "6    1.88          1997     15  3.985851      0      0           0        0   \n",
       "9    2.88          1994      4  3.985851      0      0           0        0   \n",
       "14   0.88          1996      9  3.985851      0      0           0        0   \n",
       "16   4.00          1990     18  3.985851      0      0           0        0   \n",
       "\n",
       "    Latin  Reggae  Rock  Stage & Screen  Folk/Country/World  Score  Seller_t  \\\n",
       "3       0       0     0               0                   0   59.0       0.0   \n",
       "6       0       0     1               0                   0    3.0       0.0   \n",
       "9       0       0     1               0                   0    2.0       0.0   \n",
       "14      0       0     1               0                   0   43.0       0.0   \n",
       "16      0       1     0               0                   0    0.0       0.0   \n",
       "\n",
       "     Media_t    Sleeve_t  \n",
       "3   18.14074  155.513520  \n",
       "6   18.14074  220.211013  \n",
       "9   18.14074  155.513520  \n",
       "14  18.14074  220.211013  \n",
       "16  18.14074    8.310388  "
      ]
     },
     "execution_count": 28,
     "metadata": {},
     "output_type": "execute_result"
    }
   ],
   "source": [
    "vins = vinyl_t.drop(['Artist', 'Album', 'Haves', 'Brass & Military', 'Classical', 'Jazz',\n",
    "                      'Pop', 'Childrens', 'Funk/Soul'], axis=1)\n",
    "vins.head()"
   ]
  },
  {
   "cell_type": "code",
   "execution_count": 29,
   "metadata": {},
   "outputs": [
    {
     "data": {
      "text/html": [
       "<div>\n",
       "<style scoped>\n",
       "    .dataframe tbody tr th:only-of-type {\n",
       "        vertical-align: middle;\n",
       "    }\n",
       "\n",
       "    .dataframe tbody tr th {\n",
       "        vertical-align: top;\n",
       "    }\n",
       "\n",
       "    .dataframe thead th {\n",
       "        text-align: right;\n",
       "    }\n",
       "</style>\n",
       "<table border=\"1\" class=\"dataframe\">\n",
       "  <thead>\n",
       "    <tr style=\"text-align: right;\">\n",
       "      <th></th>\n",
       "      <th>Y</th>\n",
       "      <th>X1</th>\n",
       "      <th>X2</th>\n",
       "      <th>X3</th>\n",
       "      <th>X4</th>\n",
       "      <th>X5</th>\n",
       "      <th>X6</th>\n",
       "      <th>X7</th>\n",
       "      <th>X8</th>\n",
       "      <th>X9</th>\n",
       "      <th>X10</th>\n",
       "      <th>X11</th>\n",
       "      <th>X12</th>\n",
       "      <th>X13</th>\n",
       "      <th>X14</th>\n",
       "      <th>X15</th>\n",
       "      <th>X16</th>\n",
       "    </tr>\n",
       "  </thead>\n",
       "  <tbody>\n",
       "    <tr>\n",
       "      <th>3</th>\n",
       "      <td>5.00</td>\n",
       "      <td>1986</td>\n",
       "      <td>48</td>\n",
       "      <td>3.985851</td>\n",
       "      <td>0</td>\n",
       "      <td>0</td>\n",
       "      <td>1</td>\n",
       "      <td>0</td>\n",
       "      <td>0</td>\n",
       "      <td>0</td>\n",
       "      <td>0</td>\n",
       "      <td>0</td>\n",
       "      <td>0</td>\n",
       "      <td>59.0</td>\n",
       "      <td>0.0</td>\n",
       "      <td>18.14074</td>\n",
       "      <td>155.513520</td>\n",
       "    </tr>\n",
       "    <tr>\n",
       "      <th>6</th>\n",
       "      <td>1.88</td>\n",
       "      <td>1997</td>\n",
       "      <td>15</td>\n",
       "      <td>3.985851</td>\n",
       "      <td>0</td>\n",
       "      <td>0</td>\n",
       "      <td>0</td>\n",
       "      <td>0</td>\n",
       "      <td>0</td>\n",
       "      <td>0</td>\n",
       "      <td>1</td>\n",
       "      <td>0</td>\n",
       "      <td>0</td>\n",
       "      <td>3.0</td>\n",
       "      <td>0.0</td>\n",
       "      <td>18.14074</td>\n",
       "      <td>220.211013</td>\n",
       "    </tr>\n",
       "    <tr>\n",
       "      <th>9</th>\n",
       "      <td>2.88</td>\n",
       "      <td>1994</td>\n",
       "      <td>4</td>\n",
       "      <td>3.985851</td>\n",
       "      <td>0</td>\n",
       "      <td>0</td>\n",
       "      <td>0</td>\n",
       "      <td>0</td>\n",
       "      <td>0</td>\n",
       "      <td>0</td>\n",
       "      <td>1</td>\n",
       "      <td>0</td>\n",
       "      <td>0</td>\n",
       "      <td>2.0</td>\n",
       "      <td>0.0</td>\n",
       "      <td>18.14074</td>\n",
       "      <td>155.513520</td>\n",
       "    </tr>\n",
       "    <tr>\n",
       "      <th>14</th>\n",
       "      <td>0.88</td>\n",
       "      <td>1996</td>\n",
       "      <td>9</td>\n",
       "      <td>3.985851</td>\n",
       "      <td>0</td>\n",
       "      <td>0</td>\n",
       "      <td>0</td>\n",
       "      <td>0</td>\n",
       "      <td>0</td>\n",
       "      <td>0</td>\n",
       "      <td>1</td>\n",
       "      <td>0</td>\n",
       "      <td>0</td>\n",
       "      <td>43.0</td>\n",
       "      <td>0.0</td>\n",
       "      <td>18.14074</td>\n",
       "      <td>220.211013</td>\n",
       "    </tr>\n",
       "    <tr>\n",
       "      <th>16</th>\n",
       "      <td>4.00</td>\n",
       "      <td>1990</td>\n",
       "      <td>18</td>\n",
       "      <td>3.985851</td>\n",
       "      <td>0</td>\n",
       "      <td>0</td>\n",
       "      <td>0</td>\n",
       "      <td>0</td>\n",
       "      <td>0</td>\n",
       "      <td>1</td>\n",
       "      <td>0</td>\n",
       "      <td>0</td>\n",
       "      <td>0</td>\n",
       "      <td>0.0</td>\n",
       "      <td>0.0</td>\n",
       "      <td>18.14074</td>\n",
       "      <td>8.310388</td>\n",
       "    </tr>\n",
       "  </tbody>\n",
       "</table>\n",
       "</div>"
      ],
      "text/plain": [
       "       Y    X1  X2        X3  X4  X5  X6  X7  X8  X9  X10  X11  X12   X13  \\\n",
       "3   5.00  1986  48  3.985851   0   0   1   0   0   0    0    0    0  59.0   \n",
       "6   1.88  1997  15  3.985851   0   0   0   0   0   0    1    0    0   3.0   \n",
       "9   2.88  1994   4  3.985851   0   0   0   0   0   0    1    0    0   2.0   \n",
       "14  0.88  1996   9  3.985851   0   0   0   0   0   0    1    0    0  43.0   \n",
       "16  4.00  1990  18  3.985851   0   0   0   0   0   1    0    0    0   0.0   \n",
       "\n",
       "    X14       X15         X16  \n",
       "3   0.0  18.14074  155.513520  \n",
       "6   0.0  18.14074  220.211013  \n",
       "9   0.0  18.14074  155.513520  \n",
       "14  0.0  18.14074  220.211013  \n",
       "16  0.0  18.14074    8.310388  "
      ]
     },
     "execution_count": 29,
     "metadata": {},
     "output_type": "execute_result"
    }
   ],
   "source": [
    "vin = vins.rename(columns = {'Price':'Y', 'Release_Date':'X1', 'Wants': 'X2', 'Rate': 'X3', 'Votes': 'X4', 'Blues': 'X5', 'Electronic': 'X6', 'Hip Hop': 'X7', 'Latin': 'X8', 'Reggae': 'X9', 'Rock': 'X10', 'Stage & Screen': 'X11', 'Folk/Country/World': 'X12', 'Score': 'X13', 'Seller_t': 'X14', 'Media_t': 'X15', 'Sleeve_t': 'X16'})\n",
    "vin.head()"
   ]
  },
  {
   "cell_type": "code",
   "execution_count": 30,
   "metadata": {},
   "outputs": [
    {
     "data": {
      "text/html": [
       "<table class=\"simpletable\">\n",
       "<caption>OLS Regression Results</caption>\n",
       "<tr>\n",
       "  <th>Dep. Variable:</th>            <td>Y</td>        <th>  R-squared:         </th> <td>   0.203</td> \n",
       "</tr>\n",
       "<tr>\n",
       "  <th>Model:</th>                   <td>OLS</td>       <th>  Adj. R-squared:    </th> <td>   0.200</td> \n",
       "</tr>\n",
       "<tr>\n",
       "  <th>Method:</th>             <td>Least Squares</td>  <th>  F-statistic:       </th> <td>   75.35</td> \n",
       "</tr>\n",
       "<tr>\n",
       "  <th>Date:</th>             <td>Fri, 25 Jan 2019</td> <th>  Prob (F-statistic):</th>  <td>  0.00</td>  \n",
       "</tr>\n",
       "<tr>\n",
       "  <th>Time:</th>                 <td>15:11:36</td>     <th>  Log-Likelihood:    </th> <td> -53878.</td> \n",
       "</tr>\n",
       "<tr>\n",
       "  <th>No. Observations:</th>      <td> 11286</td>      <th>  AIC:               </th> <td>1.078e+05</td>\n",
       "</tr>\n",
       "<tr>\n",
       "  <th>Df Residuals:</th>          <td> 11247</td>      <th>  BIC:               </th> <td>1.081e+05</td>\n",
       "</tr>\n",
       "<tr>\n",
       "  <th>Df Model:</th>              <td>    38</td>      <th>                     </th>     <td> </td>    \n",
       "</tr>\n",
       "<tr>\n",
       "  <th>Covariance Type:</th>      <td>nonrobust</td>    <th>                     </th>     <td> </td>    \n",
       "</tr>\n",
       "</table>\n",
       "<table class=\"simpletable\">\n",
       "<tr>\n",
       "      <td></td>         <th>coef</th>     <th>std err</th>      <th>t</th>      <th>P>|t|</th>  <th>[0.025</th>    <th>0.975]</th>  \n",
       "</tr>\n",
       "<tr>\n",
       "  <th>Intercept</th> <td>  -26.8671</td> <td>    4.272</td> <td>   -6.289</td> <td> 0.000</td> <td>  -35.241</td> <td>  -18.494</td>\n",
       "</tr>\n",
       "<tr>\n",
       "  <th>X1:X2</th>     <td>   -0.0026</td> <td>    0.000</td> <td>   -8.560</td> <td> 0.000</td> <td>   -0.003</td> <td>   -0.002</td>\n",
       "</tr>\n",
       "<tr>\n",
       "  <th>X1:X4</th>     <td>    0.0065</td> <td>    0.001</td> <td>    6.630</td> <td> 0.000</td> <td>    0.005</td> <td>    0.008</td>\n",
       "</tr>\n",
       "<tr>\n",
       "  <th>X1:X6</th>     <td>    0.2080</td> <td>    0.067</td> <td>    3.124</td> <td> 0.002</td> <td>    0.077</td> <td>    0.338</td>\n",
       "</tr>\n",
       "<tr>\n",
       "  <th>X1:X7</th>     <td>    0.4822</td> <td>    0.137</td> <td>    3.517</td> <td> 0.000</td> <td>    0.213</td> <td>    0.751</td>\n",
       "</tr>\n",
       "<tr>\n",
       "  <th>X1:X10</th>    <td>   -0.3507</td> <td>    0.075</td> <td>   -4.693</td> <td> 0.000</td> <td>   -0.497</td> <td>   -0.204</td>\n",
       "</tr>\n",
       "<tr>\n",
       "  <th>X1:X11</th>    <td>    0.6486</td> <td>    0.177</td> <td>    3.660</td> <td> 0.000</td> <td>    0.301</td> <td>    0.996</td>\n",
       "</tr>\n",
       "<tr>\n",
       "  <th>X1:X13</th>    <td>    0.0039</td> <td>    0.001</td> <td>    4.297</td> <td> 0.000</td> <td>    0.002</td> <td>    0.006</td>\n",
       "</tr>\n",
       "<tr>\n",
       "  <th>X1:X14</th>    <td>   79.2869</td> <td>   12.860</td> <td>    6.165</td> <td> 0.000</td> <td>   54.079</td> <td>  104.495</td>\n",
       "</tr>\n",
       "<tr>\n",
       "  <th>X1:X15</th>    <td>    0.0002</td> <td> 4.33e-05</td> <td>    3.849</td> <td> 0.000</td> <td> 8.17e-05</td> <td>    0.000</td>\n",
       "</tr>\n",
       "<tr>\n",
       "  <th>X1:X16</th>    <td>   -0.0016</td> <td>    0.000</td> <td>   -7.860</td> <td> 0.000</td> <td>   -0.002</td> <td>   -0.001</td>\n",
       "</tr>\n",
       "<tr>\n",
       "  <th>X2</th>        <td>    5.2970</td> <td>    0.611</td> <td>    8.673</td> <td> 0.000</td> <td>    4.100</td> <td>    6.494</td>\n",
       "</tr>\n",
       "<tr>\n",
       "  <th>X2:X8</th>     <td>    0.1530</td> <td>    0.043</td> <td>    3.526</td> <td> 0.000</td> <td>    0.068</td> <td>    0.238</td>\n",
       "</tr>\n",
       "<tr>\n",
       "  <th>X2:X9</th>     <td>    0.9492</td> <td>    0.099</td> <td>    9.609</td> <td> 0.000</td> <td>    0.756</td> <td>    1.143</td>\n",
       "</tr>\n",
       "<tr>\n",
       "  <th>X2:X15</th>    <td>    0.0026</td> <td>    0.001</td> <td>    4.021</td> <td> 0.000</td> <td>    0.001</td> <td>    0.004</td>\n",
       "</tr>\n",
       "<tr>\n",
       "  <th>X3</th>        <td>    5.3816</td> <td>    0.941</td> <td>    5.717</td> <td> 0.000</td> <td>    3.537</td> <td>    7.227</td>\n",
       "</tr>\n",
       "<tr>\n",
       "  <th>X3:X4</th>     <td>   -0.1462</td> <td>    0.027</td> <td>   -5.354</td> <td> 0.000</td> <td>   -0.200</td> <td>   -0.093</td>\n",
       "</tr>\n",
       "<tr>\n",
       "  <th>X3:X6</th>     <td>   -2.7546</td> <td>    1.162</td> <td>   -2.370</td> <td> 0.018</td> <td>   -5.033</td> <td>   -0.476</td>\n",
       "</tr>\n",
       "<tr>\n",
       "  <th>X3:X10</th>    <td>   10.0569</td> <td>    1.399</td> <td>    7.186</td> <td> 0.000</td> <td>    7.314</td> <td>   12.800</td>\n",
       "</tr>\n",
       "<tr>\n",
       "  <th>X4</th>        <td>  -12.3703</td> <td>    1.896</td> <td>   -6.523</td> <td> 0.000</td> <td>  -16.088</td> <td>   -8.653</td>\n",
       "</tr>\n",
       "<tr>\n",
       "  <th>X4:X9</th>     <td>   -3.8789</td> <td>    0.426</td> <td>   -9.114</td> <td> 0.000</td> <td>   -4.713</td> <td>   -3.045</td>\n",
       "</tr>\n",
       "<tr>\n",
       "  <th>X4:X15</th>    <td>   -0.0041</td> <td>    0.002</td> <td>   -2.438</td> <td> 0.015</td> <td>   -0.007</td> <td>   -0.001</td>\n",
       "</tr>\n",
       "<tr>\n",
       "  <th>X5</th>        <td>    7.3497</td> <td>    3.084</td> <td>    2.383</td> <td> 0.017</td> <td>    1.305</td> <td>   13.394</td>\n",
       "</tr>\n",
       "<tr>\n",
       "  <th>X6</th>        <td> -404.0865</td> <td>  132.426</td> <td>   -3.051</td> <td> 0.002</td> <td> -663.664</td> <td> -144.509</td>\n",
       "</tr>\n",
       "<tr>\n",
       "  <th>X7</th>        <td> -961.7764</td> <td>  273.360</td> <td>   -3.518</td> <td> 0.000</td> <td>-1497.610</td> <td> -425.943</td>\n",
       "</tr>\n",
       "<tr>\n",
       "  <th>X8:X13</th>    <td>   -0.1883</td> <td>    0.040</td> <td>   -4.694</td> <td> 0.000</td> <td>   -0.267</td> <td>   -0.110</td>\n",
       "</tr>\n",
       "<tr>\n",
       "  <th>X8:X15</th>    <td>    0.6852</td> <td>    0.105</td> <td>    6.545</td> <td> 0.000</td> <td>    0.480</td> <td>    0.890</td>\n",
       "</tr>\n",
       "<tr>\n",
       "  <th>X9:X10</th>    <td>   88.4108</td> <td>    9.359</td> <td>    9.447</td> <td> 0.000</td> <td>   70.066</td> <td>  106.756</td>\n",
       "</tr>\n",
       "<tr>\n",
       "  <th>X9:X16</th>    <td>    0.0442</td> <td>    0.020</td> <td>    2.197</td> <td> 0.028</td> <td>    0.005</td> <td>    0.084</td>\n",
       "</tr>\n",
       "<tr>\n",
       "  <th>X10</th>       <td>  656.5794</td> <td>  147.544</td> <td>    4.450</td> <td> 0.000</td> <td>  367.368</td> <td>  945.791</td>\n",
       "</tr>\n",
       "<tr>\n",
       "  <th>X10:X14</th>   <td>-1575.7634</td> <td>  378.699</td> <td>   -4.161</td> <td> 0.000</td> <td>-2318.080</td> <td> -833.447</td>\n",
       "</tr>\n",
       "<tr>\n",
       "  <th>X10:X16</th>   <td>    0.0383</td> <td>    0.006</td> <td>    6.068</td> <td> 0.000</td> <td>    0.026</td> <td>    0.051</td>\n",
       "</tr>\n",
       "<tr>\n",
       "  <th>X11</th>       <td>-1280.5386</td> <td>  350.278</td> <td>   -3.656</td> <td> 0.000</td> <td>-1967.145</td> <td> -593.932</td>\n",
       "</tr>\n",
       "<tr>\n",
       "  <th>X12</th>       <td>   -4.6062</td> <td>    1.534</td> <td>   -3.002</td> <td> 0.003</td> <td>   -7.614</td> <td>   -1.598</td>\n",
       "</tr>\n",
       "<tr>\n",
       "  <th>X13</th>       <td>   -7.6512</td> <td>    1.787</td> <td>   -4.283</td> <td> 0.000</td> <td>  -11.153</td> <td>   -4.149</td>\n",
       "</tr>\n",
       "<tr>\n",
       "  <th>X14</th>       <td>-1.608e+05</td> <td> 2.55e+04</td> <td>   -6.317</td> <td> 0.000</td> <td>-2.11e+05</td> <td>-1.11e+05</td>\n",
       "</tr>\n",
       "<tr>\n",
       "  <th>X14:X15</th>   <td>   57.8422</td> <td>   19.541</td> <td>    2.960</td> <td> 0.003</td> <td>   19.539</td> <td>   96.146</td>\n",
       "</tr>\n",
       "<tr>\n",
       "  <th>X14:X16</th>   <td>    5.1834</td> <td>    0.834</td> <td>    6.217</td> <td> 0.000</td> <td>    3.549</td> <td>    6.818</td>\n",
       "</tr>\n",
       "<tr>\n",
       "  <th>X16</th>       <td>    3.1404</td> <td>    0.397</td> <td>    7.918</td> <td> 0.000</td> <td>    2.363</td> <td>    3.918</td>\n",
       "</tr>\n",
       "</table>\n",
       "<table class=\"simpletable\">\n",
       "<tr>\n",
       "  <th>Omnibus:</th>       <td>26734.103</td> <th>  Durbin-Watson:     </th>   <td>   2.013</td>   \n",
       "</tr>\n",
       "<tr>\n",
       "  <th>Prob(Omnibus):</th>  <td> 0.000</td>   <th>  Jarque-Bera (JB):  </th> <td>421843586.267</td>\n",
       "</tr>\n",
       "<tr>\n",
       "  <th>Skew:</th>           <td>23.734</td>   <th>  Prob(JB):          </th>   <td>    0.00</td>   \n",
       "</tr>\n",
       "<tr>\n",
       "  <th>Kurtosis:</th>       <td>948.944</td>  <th>  Cond. No.          </th>   <td>4.03e+10</td>   \n",
       "</tr>\n",
       "</table><br/><br/>Warnings:<br/>[1] Standard Errors assume that the covariance matrix of the errors is correctly specified.<br/>[2] The condition number is large, 4.03e+10. This might indicate that there are<br/>strong multicollinearity or other numerical problems."
      ],
      "text/plain": [
       "<class 'statsmodels.iolib.summary.Summary'>\n",
       "\"\"\"\n",
       "                            OLS Regression Results                            \n",
       "==============================================================================\n",
       "Dep. Variable:                      Y   R-squared:                       0.203\n",
       "Model:                            OLS   Adj. R-squared:                  0.200\n",
       "Method:                 Least Squares   F-statistic:                     75.35\n",
       "Date:                Fri, 25 Jan 2019   Prob (F-statistic):               0.00\n",
       "Time:                        15:11:36   Log-Likelihood:                -53878.\n",
       "No. Observations:               11286   AIC:                         1.078e+05\n",
       "Df Residuals:                   11247   BIC:                         1.081e+05\n",
       "Df Model:                          38                                         \n",
       "Covariance Type:            nonrobust                                         \n",
       "==============================================================================\n",
       "                 coef    std err          t      P>|t|      [0.025      0.975]\n",
       "------------------------------------------------------------------------------\n",
       "Intercept    -26.8671      4.272     -6.289      0.000     -35.241     -18.494\n",
       "X1:X2         -0.0026      0.000     -8.560      0.000      -0.003      -0.002\n",
       "X1:X4          0.0065      0.001      6.630      0.000       0.005       0.008\n",
       "X1:X6          0.2080      0.067      3.124      0.002       0.077       0.338\n",
       "X1:X7          0.4822      0.137      3.517      0.000       0.213       0.751\n",
       "X1:X10        -0.3507      0.075     -4.693      0.000      -0.497      -0.204\n",
       "X1:X11         0.6486      0.177      3.660      0.000       0.301       0.996\n",
       "X1:X13         0.0039      0.001      4.297      0.000       0.002       0.006\n",
       "X1:X14        79.2869     12.860      6.165      0.000      54.079     104.495\n",
       "X1:X15         0.0002   4.33e-05      3.849      0.000    8.17e-05       0.000\n",
       "X1:X16        -0.0016      0.000     -7.860      0.000      -0.002      -0.001\n",
       "X2             5.2970      0.611      8.673      0.000       4.100       6.494\n",
       "X2:X8          0.1530      0.043      3.526      0.000       0.068       0.238\n",
       "X2:X9          0.9492      0.099      9.609      0.000       0.756       1.143\n",
       "X2:X15         0.0026      0.001      4.021      0.000       0.001       0.004\n",
       "X3             5.3816      0.941      5.717      0.000       3.537       7.227\n",
       "X3:X4         -0.1462      0.027     -5.354      0.000      -0.200      -0.093\n",
       "X3:X6         -2.7546      1.162     -2.370      0.018      -5.033      -0.476\n",
       "X3:X10        10.0569      1.399      7.186      0.000       7.314      12.800\n",
       "X4           -12.3703      1.896     -6.523      0.000     -16.088      -8.653\n",
       "X4:X9         -3.8789      0.426     -9.114      0.000      -4.713      -3.045\n",
       "X4:X15        -0.0041      0.002     -2.438      0.015      -0.007      -0.001\n",
       "X5             7.3497      3.084      2.383      0.017       1.305      13.394\n",
       "X6          -404.0865    132.426     -3.051      0.002    -663.664    -144.509\n",
       "X7          -961.7764    273.360     -3.518      0.000   -1497.610    -425.943\n",
       "X8:X13        -0.1883      0.040     -4.694      0.000      -0.267      -0.110\n",
       "X8:X15         0.6852      0.105      6.545      0.000       0.480       0.890\n",
       "X9:X10        88.4108      9.359      9.447      0.000      70.066     106.756\n",
       "X9:X16         0.0442      0.020      2.197      0.028       0.005       0.084\n",
       "X10          656.5794    147.544      4.450      0.000     367.368     945.791\n",
       "X10:X14    -1575.7634    378.699     -4.161      0.000   -2318.080    -833.447\n",
       "X10:X16        0.0383      0.006      6.068      0.000       0.026       0.051\n",
       "X11        -1280.5386    350.278     -3.656      0.000   -1967.145    -593.932\n",
       "X12           -4.6062      1.534     -3.002      0.003      -7.614      -1.598\n",
       "X13           -7.6512      1.787     -4.283      0.000     -11.153      -4.149\n",
       "X14        -1.608e+05   2.55e+04     -6.317      0.000   -2.11e+05   -1.11e+05\n",
       "X14:X15       57.8422     19.541      2.960      0.003      19.539      96.146\n",
       "X14:X16        5.1834      0.834      6.217      0.000       3.549       6.818\n",
       "X16            3.1404      0.397      7.918      0.000       2.363       3.918\n",
       "==============================================================================\n",
       "Omnibus:                    26734.103   Durbin-Watson:                   2.013\n",
       "Prob(Omnibus):                  0.000   Jarque-Bera (JB):        421843586.267\n",
       "Skew:                          23.734   Prob(JB):                         0.00\n",
       "Kurtosis:                     948.944   Cond. No.                     4.03e+10\n",
       "==============================================================================\n",
       "\n",
       "Warnings:\n",
       "[1] Standard Errors assume that the covariance matrix of the errors is correctly specified.\n",
       "[2] The condition number is large, 4.03e+10. This might indicate that there are\n",
       "strong multicollinearity or other numerical problems.\n",
       "\"\"\""
      ]
     },
     "execution_count": 30,
     "metadata": {},
     "output_type": "execute_result"
    }
   ],
   "source": [
    "y, X = patsy.dmatrices('Y ~ X1:X2 + X1:X4 + X1:X6 + X1:X7 + X1:X10 + X1:X11 + X1:X13 + X1:X14 + X1:X15 + X1:X16 + X2 + X2:X8 + X2:X9 + X2:X15 + X3 + X3:X4 + X3:X6 + X3:X10 + X4 + X4:X9 + X4:X15 + X5 + X6 + X7 + X8:X13 + X8:X15 + X9:X10 + X9:X16 + X10 + X10:X14 + X10:X16 + X11 + X12 + X13 + X14 + X14:X15 + X14:X16 + X16', data=vin, return_type=\"dataframe\")\n",
    "\n",
    "X, X_test, y, y_test = train_test_split(X, y, test_size=.2, random_state=11)\n",
    "\n",
    "X_train, X_val, y_train, y_val = train_test_split(X, y, test_size=.25, random_state=11)\n",
    "\n",
    "model = sm.OLS(y, X)\n",
    "\n",
    "fitmodel = model.fit()\n",
    "\n",
    "fitmodel.summary()"
   ]
  },
  {
   "cell_type": "code",
   "execution_count": 31,
   "metadata": {},
   "outputs": [
    {
     "data": {
      "text/plain": [
       "0.1624020482047881"
      ]
     },
     "execution_count": 31,
     "metadata": {},
     "output_type": "execute_result"
    }
   ],
   "source": [
    "y_pred = fitmodel.predict(X_val)\n",
    "\n",
    "R2 = metrics.r2_score(y_val, y_pred)\n",
    "\n",
    "MSE = metrics.mean_squared_error(y_val, y_pred)\n",
    "RMSE = np.sqrt(MSE)\n",
    "\n",
    "R2"
   ]
  },
  {
   "cell_type": "markdown",
   "metadata": {},
   "source": [
    "## K-Fold Cross Validation for Regular, Ridge, and Lasso Regression"
   ]
  },
  {
   "cell_type": "code",
   "execution_count": 32,
   "metadata": {},
   "outputs": [],
   "source": [
    "y, X = patsy.dmatrices('Y ~ X1:X2 + X1:X4 + X1:X6 + X1:X7 + X1:X10 + X1:X11 + X1:X13 + X1:X14 + X1:X15 + X1:X16 + X2 + X2:X8 + X2:X9 + X2:X15 + X3 + X3:X4 + X3:X6 + X3:X10 + X4 + X4:X9 + X4:X15 + X5 + X6 + X7 + X8:X13 + X8:X15 + X9:X10 + X9:X16 + X10 + X10:X14 + X10:X16 + X11 + X12 + X13 + X14 + X14:X15 + X14:X16 + X16', data=vin, return_type=\"dataframe\")\n",
    "\n",
    "X, X_test, y, y_test = train_test_split(X, y, test_size=.2, random_state=10)\n",
    "\n",
    "X_train, X_val, y_train, y_val = train_test_split(X, y, test_size=.25, random_state=10)\n",
    "\n",
    "X, y = np.array(X), np.array(y)\n",
    "\n",
    "kf = KFold(n_splits=10, shuffle=True, random_state = 10)"
   ]
  },
  {
   "cell_type": "code",
   "execution_count": 33,
   "metadata": {},
   "outputs": [
    {
     "name": "stdout",
     "output_type": "stream",
     "text": [
      "Simple regression scores:  [0.23712093305013518, 0.3266317138926268, 0.3150359245566706, 0.10064732730407033, 0.06126108492732341, 0.23905374910450627, 0.3476563345546291, -0.0066878969820880485, 0.38121088652974844, 0.24159504036137636] \n",
      "\n",
      "Ridge scores:  [0.21525483304414558, 0.2970267311088727, 0.2716888057161597, 0.09773949018095295, 0.0619956055261086, 0.21680264841440078, 0.31001270308083106, -0.03279044045266932, 0.3554626679901849, 0.24383495997063476] \n",
      "\n",
      "Lasso scores:  [0.2002251544396405, 0.2651840049927129, 0.2228239408427919, 0.0990595193358017, 0.05557348854872846, 0.19962364428192647, 0.28969973259749593, -0.010520978789945623, 0.32474944230306346, 0.2522084419766023] \n",
      "\n",
      "Mean Coeffs:  [[-2.25709461e-03 -2.30003744e-03  5.78185018e-03  2.23648361e-01\n",
      "   4.69759710e-01 -4.18221173e-01  6.04987618e-01  2.21021172e-03\n",
      "   7.87039231e+01  1.43482445e-04 -1.35876370e-03  4.59260016e+00\n",
      "   4.09417318e-01  5.38749024e-01  2.90212123e-03  5.94589039e+00\n",
      "  -1.37035678e-01 -3.45421978e+00  9.88863450e+00 -1.09884767e+01\n",
      "  -1.10891515e+00 -3.93119444e-03  5.72012444e+00 -4.32848157e+02\n",
      "  -9.37066406e+02 -2.05990415e-01  6.64699865e-01  7.59630442e+01\n",
      "   5.38996994e-03  7.90865575e+02 -1.46516755e+03  3.70702093e-02\n",
      "  -1.19486018e+03 -5.15031913e+00 -4.35688372e+00 -1.59182598e+05\n",
      "   3.97072972e+01  5.22061129e+00  2.73605401e+00]]\n",
      "Simple mean cv r^2: 0.224 +- 0.124\n",
      "Ridge mean cv r^2: 0.204 +- 0.117\n",
      "Lasso mean cv r^2: 0.190 +- 0.103\n"
     ]
    }
   ],
   "source": [
    "errors_reg=[]\n",
    "errors_ridge=[]\n",
    "errors_lasso=[]\n",
    "\n",
    "coeffs_reg = []\n",
    "\n",
    "for train_index, val_index in kf.split(X,y):\n",
    "    \n",
    "    X_train, y_train = X[train_index], y[train_index]\n",
    "    X_val, y_val = X[val_index], y[val_index] \n",
    "    \n",
    "    lm = LinearRegression()\n",
    "    lm_ridge = Ridge(alpha=0.999)\n",
    "    lm_lasso = Lasso(alpha=0.1)\n",
    "\n",
    "    lm.fit(X_train, y_train)\n",
    "    errors_reg.append(lm.score(X_val, y_val))\n",
    "    coeffs_reg.append(lm.coef_)\n",
    "    \n",
    "    scaler = StandardScaler()\n",
    "    X_train_scaled = scaler.fit_transform(X_train)\n",
    "    X_val_scaled = scaler.transform(X_val)\n",
    "    \n",
    "    lm_ridge.fit(X_train_scaled, y_train)\n",
    "    errors_ridge.append(lm_ridge.score(X_val_scaled, y_val))\n",
    "    \n",
    "    lm_lasso.fit(X_train_scaled, y_train)\n",
    "    errors_lasso.append(lm_lasso.score(X_val_scaled, y_val))    \n",
    "    \n",
    "print('Simple regression scores: ', errors_reg, '\\n')\n",
    "print('Ridge scores: ', errors_ridge, '\\n')\n",
    "print('Lasso scores: ', errors_lasso, '\\n')\n",
    "\n",
    "print('Mean Coeffs: ', np.mean(coeffs_reg, axis=0))\n",
    "\n",
    "\n",
    "print(f'Simple mean cv r^2: {np.mean(errors_reg):.3f} +- {np.std(errors_reg):.3f}')\n",
    "print(f'Ridge mean cv r^2: {np.mean(errors_ridge):.3f} +- {np.std(errors_ridge):.3f}')\n",
    "print(f'Lasso mean cv r^2: {np.mean(errors_lasso):.3f} +- {np.std(errors_lasso):.3f}')"
   ]
  },
  {
   "cell_type": "code",
   "execution_count": 34,
   "metadata": {},
   "outputs": [
    {
     "name": "stdout",
     "output_type": "stream",
     "text": [
      "MSE:  401.355755266395\n",
      "RMSE:  20.03386521034808\n",
      "R2:  0.24820274351019744\n"
     ]
    }
   ],
   "source": [
    "y_pred = lm.predict(X_test)\n",
    "\n",
    "R2 = metrics.r2_score(y_test, y_pred)\n",
    "\n",
    "MSE = metrics.mean_squared_error(y_test, y_pred)\n",
    "RMSE = np.sqrt(MSE)\n",
    "\n",
    "print('MSE: ', MSE)\n",
    "print('RMSE: ', RMSE)\n",
    "print('R2: ', R2)"
   ]
  },
  {
   "cell_type": "code",
   "execution_count": 35,
   "metadata": {},
   "outputs": [
    {
     "data": {
      "image/png": "[encoded data removed]",
      "text/plain": [
       "<Figure size 864x864 with 1 Axes>"
      ]
     },
     "metadata": {},
     "output_type": "display_data"
    }
   ],
   "source": [
    "sns.set()\n",
    "plt.figure(figsize=(12,12))\n",
    "plt.scatter(y_pred, y_test, alpha=.4)\n",
    "plt.plot(np.linspace(0,200,10), np.linspace(0,200,10), linewidth=5, color='r')\n",
    "plt.ylim(-10,200)\n",
    "plt.xlabel('Predicted Price', fontsize=16)\n",
    "plt.ylabel('Actual Price', fontsize=16)\n",
    "plt.title('Actual vs. Predicted Price on Test Set', fontsize=24)\n",
    "\n",
    "plt.savefig('y_pred.png')"
   ]
  },
  {
   "cell_type": "markdown",
   "metadata": {},
   "source": [
    "## Lars Path Feature Importance Plot"
   ]
  },
  {
   "cell_type": "code",
   "execution_count": 36,
   "metadata": {},
   "outputs": [
    {
     "name": "stdout",
     "output_type": "stream",
     "text": [
      "Computing regularization path using the LARS ...\n",
      "."
     ]
    },
    {
     "data": {
      "text/plain": [
       "Index(['Release_Date', 'Haves', 'Wants', 'Rate', 'Votes', 'Blues',\n",
       "       'Brass & Military', 'Classical', 'Electronic', 'Hip Hop', 'Jazz',\n",
       "       'Latin', 'Pop', 'Reggae', 'Rock', 'Stage & Screen', 'Childrens',\n",
       "       'Funk/Soul', 'Folk/Country/World', 'Score', 'Seller_t', 'Media_t',\n",
       "       'Sleeve_t'],\n",
       "      dtype='object')"
      ]
     },
     "execution_count": 36,
     "metadata": {},
     "output_type": "execute_result"
    }
   ],
   "source": [
    "X = vinylsfinal.drop(['Price', 'Artist', 'Album'], axis=1)\n",
    "y = vinylsfinal.Price\n",
    "\n",
    "print(\"Computing regularization path using the LARS ...\")\n",
    "X, y = np.array(X), np.array(y)\n",
    "alphas, _, coefs = lars_path(X, y, method='lasso', verbose=True)\n",
    "\n",
    "xx = np.sum(np.abs(coefs.T), axis=1)\n",
    "xx /= xx[-1]\n",
    "\n",
    "Xc = vinylsfinal.drop(['Price', 'Artist', 'Album'], axis=1)\n",
    "Xc.columns"
   ]
  },
  {
   "cell_type": "code",
   "execution_count": 37,
   "metadata": {},
   "outputs": [],
   "source": [
    "data = [ ]\n",
    "for i in range(0, len(coefs)):\n",
    "    trace = go.Scatter(x=xx, y=coefs[i],\n",
    "                       mode='lines', showlegend=True, name = Xc.columns[i])\n",
    "    data.append(trace)\n",
    "\n",
    "for i in range(0, len(xx)):\n",
    "    trace1 = go.Scatter(x=2* [xx[i]], y=[-800, 800],\n",
    "                        mode='lines', showlegend=False,\n",
    "                        line=dict(color='black', width=1,\n",
    "                                  dash='dash')\n",
    "                       )\n",
    "    data.append(trace1)\n",
    "    \n",
    "layout = go.Layout(showlegend=True, title='LASSO Path',\n",
    "                   xaxis=dict(title='|coef| / max|coef|', tickvals=[0]),\n",
    "                   yaxis=dict(title='Coefficients', tickvals=[-10, -5, 0, 5,10]))\n",
    "fig = go.Figure(data=data, layout=layout)"
   ]
  },
  {
   "cell_type": "code",
   "execution_count": 38,
   "metadata": {},
   "outputs": [
    {
     "data": {
      "text/plain": [
       "'file:///Users/kari/ds/metis/metisgh/luther/lassopath.html'"
      ]
     },
     "execution_count": 38,
     "metadata": {},
     "output_type": "execute_result"
    }
   ],
   "source": [
    "offline.plot(fig, filename='lassopath.html')"
   ]
  },
  {
   "attachments": {
    "newplot%20%281%29.png": {
     "image/png": "[encoded data removed]"
    }
   },
   "cell_type": "markdown",
   "metadata": {},
   "source": [
    "![newplot%20%281%29.png](attachment:newplot%20%281%29.png)"
   ]
  }
 ],
 "metadata": {
  "kernelspec": {
   "display_name": "Python 3",
   "language": "python",
   "name": "python3"
  },
  "language_info": {
   "codemirror_mode": {
    "name": "ipython",
    "version": 3
   },
   "file_extension": ".py",
   "mimetype": "text/x-python",
   "name": "python",
   "nbconvert_exporter": "python",
   "pygments_lexer": "ipython3",
   "version": "3.7.1"
  }
 },
 "nbformat": 4,
 "nbformat_minor": 2
}

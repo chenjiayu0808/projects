{
 "cells": [
  {
   "cell_type": "markdown",
   "metadata": {},
   "source": [
    "# Clustering and Data Visualization"
   ]
  },
  {
   "cell_type": "code",
   "execution_count": 37,
   "metadata": {},
   "outputs": [
    {
     "name": "stdout",
     "output_type": "stream",
     "text": [
      "Automatically created module for IPython interactive environment\n"
     ]
    }
   ],
   "source": [
    "import pandas as pd\n",
    "import numpy as np\n",
    "from scipy import stats\n",
    "import pickle\n",
    "import csv\n",
    "\n",
    "import matplotlib.pyplot as plt\n",
    "import seaborn\n",
    "\n",
    "from sklearn.decomposition import PCA\n",
    "from sklearn.cluster import DBSCAN\n",
    "from itertools import cycle\n",
    "import pylab as pl\n",
    "\n",
    "print(__doc__)\n",
    "\n",
    "import plotly.plotly as py\n",
    "import plotly.graph_objs as go\n",
    "import plotly.offline as offline"
   ]
  },
  {
   "cell_type": "markdown",
   "metadata": {},
   "source": [
    "### Combining Data Frames and Cleaning"
   ]
  },
  {
   "cell_type": "code",
   "execution_count": 3,
   "metadata": {},
   "outputs": [],
   "source": [
    "topicdf = pd.read_pickle(\"./topic_vectors.pkl\")\n",
    "sentimentdf = pd.read_pickle('./custdf_with_sentiment.pkl')\n",
    "missing_indices = pd.read_pickle(\"./missing_indices.pkl\")"
   ]
  },
  {
   "cell_type": "code",
   "execution_count": 5,
   "metadata": {},
   "outputs": [],
   "source": [
    "topicdf = topicdf.reset_index()\n",
    "missing_idx = missing_indices[0].tolist()\n",
    "\n",
    "for i in reversed(missing_idx):\n",
    "    topicdf.drop([i], inplace=True)"
   ]
  },
  {
   "cell_type": "code",
   "execution_count": 6,
   "metadata": {},
   "outputs": [],
   "source": [
    "df = pd.merge(topicdf, sentimentdf, left_index=True, right_index=True)\n",
    "\n",
    "del df['index']\n",
    "del df['tweet_ids_y']\n",
    "\n",
    "order = ['text', 'company', 'component_1', 'component_2', 'component_3', 'component_4', 'component_5', 'tweet_ids_x', 'compound', 'pos', 'neg', 'neu']\n",
    "\n",
    "df = df[order]"
   ]
  },
  {
   "cell_type": "code",
   "execution_count": 7,
   "metadata": {},
   "outputs": [],
   "source": [
    "df = df.rename(columns={'component_1': 'phone_topic', 'component_2': 'attention_topic', 'component_3': 'gaming_topic',\n",
    "                       'component_4': 'travel_topic', 'component_5': 'deliveries_topic', 'tweet_ids_x': 'tweet_ids'})"
   ]
  },
  {
   "cell_type": "code",
   "execution_count": 8,
   "metadata": {},
   "outputs": [
    {
     "data": {
      "text/html": [
       "<div>\n",
       "<style scoped>\n",
       "    .dataframe tbody tr th:only-of-type {\n",
       "        vertical-align: middle;\n",
       "    }\n",
       "\n",
       "    .dataframe tbody tr th {\n",
       "        vertical-align: top;\n",
       "    }\n",
       "\n",
       "    .dataframe thead th {\n",
       "        text-align: right;\n",
       "    }\n",
       "</style>\n",
       "<table border=\"1\" class=\"dataframe\">\n",
       "  <thead>\n",
       "    <tr style=\"text-align: right;\">\n",
       "      <th></th>\n",
       "      <th>text</th>\n",
       "      <th>company</th>\n",
       "      <th>phone_topic</th>\n",
       "      <th>attention_topic</th>\n",
       "      <th>gaming_topic</th>\n",
       "      <th>travel_topic</th>\n",
       "      <th>deliveries_topic</th>\n",
       "      <th>tweet_ids</th>\n",
       "      <th>compound</th>\n",
       "      <th>pos</th>\n",
       "      <th>neg</th>\n",
       "      <th>neu</th>\n",
       "    </tr>\n",
       "  </thead>\n",
       "  <tbody>\n",
       "    <tr>\n",
       "      <th>0</th>\n",
       "      <td>and how do you propose we do that  I have se...</td>\n",
       "      <td>sprintcare</td>\n",
       "      <td>0.04924</td>\n",
       "      <td>0.02060</td>\n",
       "      <td>0.00000</td>\n",
       "      <td>0.00000</td>\n",
       "      <td>0.00621</td>\n",
       "      <td>1 2 3 4 5 6 7 8 9 10</td>\n",
       "      <td>-0.7430</td>\n",
       "      <td>0.000</td>\n",
       "      <td>0.156</td>\n",
       "      <td>0.844</td>\n",
       "    </tr>\n",
       "    <tr>\n",
       "      <th>1</th>\n",
       "      <td>You gonna magically change your connectivity...</td>\n",
       "      <td>sprintcare</td>\n",
       "      <td>0.04599</td>\n",
       "      <td>0.00000</td>\n",
       "      <td>0.01302</td>\n",
       "      <td>0.00565</td>\n",
       "      <td>0.00000</td>\n",
       "      <td>11 12 13 14 15 16 17 18</td>\n",
       "      <td>-0.6908</td>\n",
       "      <td>0.000</td>\n",
       "      <td>0.147</td>\n",
       "      <td>0.853</td>\n",
       "    </tr>\n",
       "    <tr>\n",
       "      <th>2</th>\n",
       "      <td>whenever I contact customer support, they te...</td>\n",
       "      <td>sprintcare</td>\n",
       "      <td>0.00910</td>\n",
       "      <td>0.00000</td>\n",
       "      <td>0.00071</td>\n",
       "      <td>0.00000</td>\n",
       "      <td>0.01763</td>\n",
       "      <td>19 20</td>\n",
       "      <td>0.2144</td>\n",
       "      <td>0.085</td>\n",
       "      <td>0.000</td>\n",
       "      <td>0.915</td>\n",
       "    </tr>\n",
       "    <tr>\n",
       "      <th>3</th>\n",
       "      <td>Would you like me to email you a copy of one...</td>\n",
       "      <td>Ask_Spectrum</td>\n",
       "      <td>0.02668</td>\n",
       "      <td>0.00000</td>\n",
       "      <td>0.00000</td>\n",
       "      <td>0.00098</td>\n",
       "      <td>0.05112</td>\n",
       "      <td>21 22 23 24 25 28 26 29 27</td>\n",
       "      <td>0.4871</td>\n",
       "      <td>0.079</td>\n",
       "      <td>0.034</td>\n",
       "      <td>0.888</td>\n",
       "    </tr>\n",
       "    <tr>\n",
       "      <th>4</th>\n",
       "      <td>Yo , your customer service reps are super nic...</td>\n",
       "      <td>Ask_Spectrum</td>\n",
       "      <td>0.01093</td>\n",
       "      <td>0.00013</td>\n",
       "      <td>0.00305</td>\n",
       "      <td>0.00381</td>\n",
       "      <td>0.00000</td>\n",
       "      <td>30 31</td>\n",
       "      <td>0.4102</td>\n",
       "      <td>0.132</td>\n",
       "      <td>0.000</td>\n",
       "      <td>0.868</td>\n",
       "    </tr>\n",
       "  </tbody>\n",
       "</table>\n",
       "</div>"
      ],
      "text/plain": [
       "                                                text       company  \\\n",
       "0    and how do you propose we do that  I have se...    sprintcare   \n",
       "1    You gonna magically change your connectivity...    sprintcare   \n",
       "2    whenever I contact customer support, they te...    sprintcare   \n",
       "3    Would you like me to email you a copy of one...  Ask_Spectrum   \n",
       "4   Yo , your customer service reps are super nic...  Ask_Spectrum   \n",
       "\n",
       "   phone_topic  attention_topic  gaming_topic  travel_topic  deliveries_topic  \\\n",
       "0      0.04924          0.02060       0.00000       0.00000           0.00621   \n",
       "1      0.04599          0.00000       0.01302       0.00565           0.00000   \n",
       "2      0.00910          0.00000       0.00071       0.00000           0.01763   \n",
       "3      0.02668          0.00000       0.00000       0.00098           0.05112   \n",
       "4      0.01093          0.00013       0.00305       0.00381           0.00000   \n",
       "\n",
       "                     tweet_ids  compound    pos    neg    neu  \n",
       "0         1 2 3 4 5 6 7 8 9 10   -0.7430  0.000  0.156  0.844  \n",
       "1      11 12 13 14 15 16 17 18   -0.6908  0.000  0.147  0.853  \n",
       "2                        19 20    0.2144  0.085  0.000  0.915  \n",
       "3   21 22 23 24 25 28 26 29 27    0.4871  0.079  0.034  0.888  \n",
       "4                        30 31    0.4102  0.132  0.000  0.868  "
      ]
     },
     "execution_count": 8,
     "metadata": {},
     "output_type": "execute_result"
    }
   ],
   "source": [
    "df.head()"
   ]
  },
  {
   "cell_type": "markdown",
   "metadata": {},
   "source": [
    "### Topic Breakdowns By Company"
   ]
  },
  {
   "cell_type": "code",
   "execution_count": 19,
   "metadata": {},
   "outputs": [],
   "source": [
    "company_group = df.groupby('company')\n",
    "topic_by_company = company_group.agg({'phone_topic': 'sum', 'attention_topic': 'sum', 'gaming_topic': 'sum', 'travel_topic': 'sum', 'deliveries_topic': 'sum'})"
   ]
  },
  {
   "cell_type": "code",
   "execution_count": 21,
   "metadata": {},
   "outputs": [],
   "source": [
    "topic_by_company['totals'] = topic_by_company['phone_topic'] + topic_by_company['attention_topic'] + topic_by_company['gaming_topic'] + topic_by_company['travel_topic'] + topic_by_company['deliveries_topic']\n",
    "\n",
    "topic_by_company['phone_topic'] = topic_by_company['phone_topic'] / topic_by_company['totals']\n",
    "topic_by_company['attention_topic'] = topic_by_company['attention_topic'] / topic_by_company['totals']\n",
    "topic_by_company['gaming_topic'] = topic_by_company['gaming_topic'] / topic_by_company['totals']\n",
    "topic_by_company['travel_topic'] = topic_by_company['travel_topic'] / topic_by_company['totals']\n",
    "topic_by_company['deliveries_topic'] = topic_by_company['deliveries_topic'] / topic_by_company['totals']"
   ]
  },
  {
   "cell_type": "code",
   "execution_count": 22,
   "metadata": {},
   "outputs": [],
   "source": [
    "topic_by_company.reset_index(inplace=True)\n",
    "\n",
    "topic_by_company.to_csv(\"company_topics.csv\")\n",
    "\n",
    "topics = topic_by_company.drop(['totals'], axis=1)"
   ]
  },
  {
   "cell_type": "code",
   "execution_count": 23,
   "metadata": {},
   "outputs": [],
   "source": [
    "X = topics.drop(['company'], axis=1)\n",
    "X_matrix = X.values"
   ]
  },
  {
   "cell_type": "markdown",
   "metadata": {},
   "source": [
    "### DBSCAN"
   ]
  },
  {
   "cell_type": "code",
   "execution_count": 29,
   "metadata": {},
   "outputs": [
    {
     "data": {
      "text/plain": [
       "DBSCAN(algorithm='auto', eps=0.1, leaf_size=30, metric='euclidean',\n",
       "    metric_params=None, min_samples=2, n_jobs=None, p=None)"
      ]
     },
     "execution_count": 29,
     "metadata": {},
     "output_type": "execute_result"
    }
   ],
   "source": [
    "clustering = DBSCAN(eps=0.1, min_samples=2).fit(X_matrix)\n",
    "\n",
    "core_samples = clustering.core_sample_indices_\n",
    "labels = clustering.labels_\n",
    "\n",
    "clustering"
   ]
  },
  {
   "cell_type": "code",
   "execution_count": 30,
   "metadata": {},
   "outputs": [],
   "source": [
    "n_clusters_ = len(set(labels)) - (1 if -1 in labels else 0)"
   ]
  },
  {
   "cell_type": "code",
   "execution_count": 32,
   "metadata": {},
   "outputs": [
    {
     "data": {
      "image/png": "[encoded data removed]",
      "text/plain": [
       "<Figure size 432x288 with 1 Axes>"
      ]
     },
     "metadata": {
      "needs_background": "light"
     },
     "output_type": "display_data"
    }
   ],
   "source": [
    "pl.close('all')\n",
    "pl.figure(1)\n",
    "pl.clf()\n",
    "\n",
    "colors = cycle('bgrcmybgrcmybgrcmybgrcmy')\n",
    "\n",
    "for k, col in zip(set(labels), colors):\n",
    "    if k == -1:\n",
    "        col = 'k'\n",
    "        markersize = 6\n",
    "        \n",
    "    class_members = [index[0] for index in np.argwhere(labels == k)]\n",
    "    cluster_core_samples = [index for index in core_samples if labels[index] == k]\n",
    "    \n",
    "    for index in class_members:\n",
    "        x = X_matrix[index]\n",
    "        if index in core_samples and k != -1:\n",
    "            markersize = 14\n",
    "        else:\n",
    "            markersize = 6\n",
    "        pl.plot(x[0], x[1], 'o', markerfacecolor=col,\n",
    "                markeredgecolor='k', markersize=markersize)\n",
    "\n",
    "pl.title('Estimated number of clusters: %d' % n_clusters_)\n",
    "pl.show()"
   ]
  },
  {
   "cell_type": "markdown",
   "metadata": {},
   "source": [
    "### Dimensionality Reduction with PCA"
   ]
  },
  {
   "cell_type": "code",
   "execution_count": 33,
   "metadata": {},
   "outputs": [],
   "source": [
    "pca = PCA(n_components=3)\n",
    "pca.fit(X_matrix)\n",
    "pcafeatures = pca.transform(X_matrix)"
   ]
  },
  {
   "cell_type": "code",
   "execution_count": 34,
   "metadata": {},
   "outputs": [],
   "source": [
    "plotdf = pd.DataFrame({'x': pcafeatures[:,0], 'y': pcafeatures[:,1], 'z': pcafeatures[:,2]})"
   ]
  },
  {
   "cell_type": "code",
   "execution_count": 35,
   "metadata": {},
   "outputs": [],
   "source": [
    "plotdf['company'] = topics['company']\n",
    "plotdf['labels'] = labels"
   ]
  },
  {
   "cell_type": "code",
   "execution_count": 36,
   "metadata": {},
   "outputs": [
    {
     "data": {
      "text/html": [
       "<div>\n",
       "<style scoped>\n",
       "    .dataframe tbody tr th:only-of-type {\n",
       "        vertical-align: middle;\n",
       "    }\n",
       "\n",
       "    .dataframe tbody tr th {\n",
       "        vertical-align: top;\n",
       "    }\n",
       "\n",
       "    .dataframe thead th {\n",
       "        text-align: right;\n",
       "    }\n",
       "</style>\n",
       "<table border=\"1\" class=\"dataframe\">\n",
       "  <thead>\n",
       "    <tr style=\"text-align: right;\">\n",
       "      <th></th>\n",
       "      <th>x</th>\n",
       "      <th>y</th>\n",
       "      <th>z</th>\n",
       "      <th>company</th>\n",
       "      <th>labels</th>\n",
       "    </tr>\n",
       "  </thead>\n",
       "  <tbody>\n",
       "    <tr>\n",
       "      <th>0</th>\n",
       "      <td>-0.135983</td>\n",
       "      <td>-0.096292</td>\n",
       "      <td>-0.028636</td>\n",
       "      <td>ATT</td>\n",
       "      <td>0</td>\n",
       "    </tr>\n",
       "    <tr>\n",
       "      <th>1</th>\n",
       "      <td>0.082542</td>\n",
       "      <td>0.576227</td>\n",
       "      <td>-0.415859</td>\n",
       "      <td>ATVIAssist</td>\n",
       "      <td>-1</td>\n",
       "    </tr>\n",
       "    <tr>\n",
       "      <th>2</th>\n",
       "      <td>-0.036516</td>\n",
       "      <td>0.158264</td>\n",
       "      <td>0.134678</td>\n",
       "      <td>AWSSupport</td>\n",
       "      <td>0</td>\n",
       "    </tr>\n",
       "    <tr>\n",
       "      <th>3</th>\n",
       "      <td>-0.053503</td>\n",
       "      <td>0.146692</td>\n",
       "      <td>-0.061112</td>\n",
       "      <td>AdobeCare</td>\n",
       "      <td>0</td>\n",
       "    </tr>\n",
       "    <tr>\n",
       "      <th>4</th>\n",
       "      <td>0.669509</td>\n",
       "      <td>-0.017477</td>\n",
       "      <td>0.089116</td>\n",
       "      <td>AirAsiaSupport</td>\n",
       "      <td>-1</td>\n",
       "    </tr>\n",
       "  </tbody>\n",
       "</table>\n",
       "</div>"
      ],
      "text/plain": [
       "          x         y         z         company  labels\n",
       "0 -0.135983 -0.096292 -0.028636             ATT       0\n",
       "1  0.082542  0.576227 -0.415859      ATVIAssist      -1\n",
       "2 -0.036516  0.158264  0.134678      AWSSupport       0\n",
       "3 -0.053503  0.146692 -0.061112       AdobeCare       0\n",
       "4  0.669509 -0.017477  0.089116  AirAsiaSupport      -1"
      ]
     },
     "execution_count": 36,
     "metadata": {},
     "output_type": "execute_result"
    }
   ],
   "source": [
    "plotdf.head()"
   ]
  },
  {
   "cell_type": "markdown",
   "metadata": {},
   "source": [
    "### Plotly 3D Cluster Visualization"
   ]
  },
  {
   "cell_type": "code",
   "execution_count": 41,
   "metadata": {},
   "outputs": [
    {
     "data": {
      "text/plain": [
       "'file:///Users/kari/ds/metis/metisgh/fletcher/temp-plot.html'"
      ]
     },
     "execution_count": 41,
     "metadata": {},
     "output_type": "execute_result"
    }
   ],
   "source": [
    "df0 = plotdf[plotdf.labels == 0]\n",
    "x, y, z = df0['x'], df0['y'], df0['z']\n",
    "trace0 = go.Scatter3d(\n",
    "    x=x,\n",
    "    y=y,\n",
    "    z=z,\n",
    "    name='Retail',\n",
    "    text=df0.company,\n",
    "    hoverinfo='text',\n",
    "    mode='markers',\n",
    "    marker=dict(\n",
    "        size=5,\n",
    "        color='rgba(255, 0, 0)',\n",
    "        opacity=0.5\n",
    "    )\n",
    ")\n",
    "\n",
    "df1 = plotdf[plotdf.labels== 1]\n",
    "x1, y1, z1 = df1['x'], df1['y'], df1['z']\n",
    "trace1 = go.Scatter3d(\n",
    "    x=x1,\n",
    "    y=y1,\n",
    "    z=z1,\n",
    "    name='Airlines',\n",
    "    text=df1.company,\n",
    "    hoverinfo='text',\n",
    "    mode='markers',\n",
    "    marker=dict(\n",
    "        size=5,\n",
    "        color='blue',\n",
    "        opacity=0.5\n",
    "    )\n",
    ")\n",
    "\n",
    "df2 = plotdf[plotdf.labels== -1]\n",
    "x2, y2, z2 = df2['x'], df2['y'], df2['z']\n",
    "trace2 = go.Scatter3d(\n",
    "    x=x2,\n",
    "    y=y2,\n",
    "    z=z2,\n",
    "    name='Online/Gaming',\n",
    "    text=df2.company,\n",
    "    hoverinfo='text',\n",
    "    mode='markers',\n",
    "    marker=dict(\n",
    "        size=5,\n",
    "        color='rgba(0, 0, 255)',\n",
    "        opacity=0.5\n",
    "    )\n",
    ")\n",
    "\n",
    "df3 = plotdf[plotdf.labels== 2]\n",
    "x3, y3, z3 = df3['x'], df3['y'], df3['z']\n",
    "trace3 = go.Scatter3d(\n",
    "    x=x3,\n",
    "    y=y3,\n",
    "    z=z3,\n",
    "    name='Delivery Services',\n",
    "    text=df3.company,\n",
    "    hoverinfo='text',\n",
    "    mode='markers',\n",
    "    marker=dict(\n",
    "        size=5,\n",
    "        color='rgba(127, 255, 0)',\n",
    "        opacity=0.5\n",
    "    )\n",
    ")\n",
    "\n",
    "df4 = plotdf[plotdf.labels== 3]\n",
    "x4, y4, z4 = df4['x'], df4['y'], df4['z']\n",
    "trace4 = go.Scatter3d(\n",
    "    x=x4,\n",
    "    y=y4,\n",
    "    z=z4,\n",
    "    name='Tech/Streaming',\n",
    "    text=df4.company,\n",
    "    hoverinfo='text',\n",
    "    mode='markers',\n",
    "    marker=dict(\n",
    "        size=5,\n",
    "        color='rgba(127, 0, 255)',\n",
    "        opacity=0.5\n",
    "    )\n",
    ")\n",
    "\n",
    "df5 = plotdf[plotdf.labels== 4]\n",
    "x5, y5, z5 = df5['x'], df5['y'], df5['z']\n",
    "trace5 = go.Scatter3d(\n",
    "    x=x5,\n",
    "    y=y5,\n",
    "    z=z5,\n",
    "    name='Trains',\n",
    "    text=df5.company,\n",
    "    hoverinfo='text',\n",
    "    mode='markers',\n",
    "    marker=dict(\n",
    "        size=5,\n",
    "        color='rgba(0, 127, 225)',\n",
    "        opacity=0.5\n",
    "    )\n",
    ")\n",
    "\n",
    "df6 = plotdf[plotdf.labels== 5]\n",
    "x6, y6, z6 = df6['x'], df6['y'], df6['z']\n",
    "trace6 = go.Scatter3d(\n",
    "    x=x6,\n",
    "    y=y6,\n",
    "    z=z6,\n",
    "    name='Computers',\n",
    "    text=df6.company,\n",
    "    hoverinfo='text',\n",
    "    mode='markers',\n",
    "    marker=dict(\n",
    "        size=5,\n",
    "        color='rgba(127, 127, 255)',\n",
    "        opacity=0.5\n",
    "    )\n",
    ")\n",
    "\n",
    "data = [trace0, trace1, trace2, trace3, trace4, trace5, trace6]\n",
    "layout = go.Layout(\n",
    "    margin=dict(\n",
    "        l=0,\n",
    "        r=0,\n",
    "        b=0,\n",
    "        t=0\n",
    "    )\n",
    ")\n",
    "fig = go.Figure(data=data, layout=layout)\n",
    "offline.plot(fig)"
   ]
  },
  {
   "cell_type": "markdown",
   "metadata": {},
   "source": [
    "#### Below is a still of the 3D PCA plot colored by the DBSCAN clustering:"
   ]
  },
  {
   "cell_type": "markdown",
   "metadata": {},
   "source": [
    "<img src=\"legend.png\" alt=\"Drawing\" style=\"float: right; width: 150px;\"/> <img src=\"clusters.png\" alt=\"Drawing\" style=\"float: left; width: 800px;\"/>"
   ]
  }
 ],
 "metadata": {
  "kernelspec": {
   "display_name": "Python 3",
   "language": "python",
   "name": "python3"
  },
  "language_info": {
   "codemirror_mode": {
    "name": "ipython",
    "version": 3
   },
   "file_extension": ".py",
   "mimetype": "text/x-python",
   "name": "python",
   "nbconvert_exporter": "python",
   "pygments_lexer": "ipython3",
   "version": "3.6.7"
  }
 },
 "nbformat": 4,
 "nbformat_minor": 2
}

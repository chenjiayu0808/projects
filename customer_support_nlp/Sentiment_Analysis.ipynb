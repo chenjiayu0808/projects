{
 "cells": [
  {
   "cell_type": "markdown",
   "metadata": {},
   "source": [
    "# Data Cleaning and Sentiment Analysis"
   ]
  },
  {
   "cell_type": "code",
   "execution_count": 84,
   "metadata": {},
   "outputs": [],
   "source": [
    "import pandas as pd\n",
    "import numpy as np\n",
    "\n",
    "import re\n",
    "import csv\n",
    "import json\n",
    "import pickle\n",
    "\n",
    "import matplotlib.pyplot as plt\n",
    "import seaborn as sns\n",
    "\n",
    "from collections import OrderedDict\n",
    "\n",
    "import sys, getopt, pprint\n",
    "from pymongo import MongoClient\n",
    "\n",
    "from functions import make_dict, group_conversations\n",
    "\n",
    "from vaderSentiment.vaderSentiment import SentimentIntensityAnalyzer\n",
    "\n",
    "%reload_ext autoreload\n",
    "%autoreload 2"
   ]
  },
  {
   "cell_type": "markdown",
   "metadata": {},
   "source": [
    "### Connecting to AWS"
   ]
  },
  {
   "cell_type": "code",
   "execution_count": 68,
   "metadata": {},
   "outputs": [],
   "source": [
    "config = {\n",
    "  'host': 'xx.xx.xx.xxx:xxxxx',\n",
    "  'username': 'username',\n",
    "  'password': 'password',\n",
    "  'authSource': 'customer_support_tweets'\n",
    "}\n",
    "\n",
    "client = MongoClient(**config)"
   ]
  },
  {
   "cell_type": "code",
   "execution_count": 83,
   "metadata": {},
   "outputs": [
    {
     "data": {
      "text/plain": [
       "{'tweet_id': '1',\n",
       " 'author_id': 'sprintcare',\n",
       " 'text': '@115712 I understand. I would like to assist you. We would need to get you into a private secured link to further assist.',\n",
       " 'response_tweet_id': '2',\n",
       " 'in_response_to_tweet_id': '3'}"
      ]
     },
     "execution_count": 83,
     "metadata": {},
     "output_type": "execute_result"
    }
   ],
   "source": [
    "db = client.customer_support_tweets\n",
    "\n",
    "cursor = list(db.tweets.find({}, {'_id':0, 'tweet_id': 1, 'text': 1, 'author_id': 1, 'response_tweet_id': 1, 'in_response_to_tweet_id':1}))\n",
    "cursor[0]"
   ]
  },
  {
   "cell_type": "markdown",
   "metadata": {},
   "source": [
    "### Group Conversations"
   ]
  },
  {
   "cell_type": "markdown",
   "metadata": {},
   "source": [
    "All of the rows in my dataset were individual tweets, so I first used the 'response_tweet_id' key and the 'in_response_to_tweet_id' key to group all tweets into a list for the full conversation. all_convos is a list of lists of conversations."
   ]
  },
  {
   "cell_type": "code",
   "execution_count": 10,
   "metadata": {},
   "outputs": [],
   "source": [
    "tweets_dict = make_dict()"
   ]
  },
  {
   "cell_type": "code",
   "execution_count": 60,
   "metadata": {},
   "outputs": [],
   "source": [
    "all_convos = group_conversations(tweets_dict)"
   ]
  },
  {
   "cell_type": "code",
   "execution_count": 14,
   "metadata": {},
   "outputs": [
    {
     "data": {
      "text/plain": [
       "798198"
      ]
     },
     "execution_count": 14,
     "metadata": {},
     "output_type": "execute_result"
    }
   ],
   "source": [
    "len(all_convos)"
   ]
  },
  {
   "cell_type": "code",
   "execution_count": 17,
   "metadata": {},
   "outputs": [],
   "source": [
    "with open('convo_texts.csv', 'w',newline='') as csvfile:\n",
    "    file = csv.writer(csvfile)\n",
    "    file.writerow(['tweet_ids', 'text'])\n",
    "    \n",
    "    for convo in all_convos:\n",
    "        \n",
    "        tweet_ids = ''\n",
    "        full_convo = ''\n",
    "        \n",
    "        for tweet in convo:\n",
    "            \n",
    "            try:\n",
    "                text = tweets_dict[tweet]['text']\n",
    "                \n",
    "                full_convo = full_convo + ' ' + text\n",
    "                tweet_ids = tweet_ids + ' ' + tweet\n",
    "            \n",
    "            except:\n",
    "                pass\n",
    "                \n",
    "        row = [tweet_ids, full_convo]\n",
    "        file.writerow(row)"
   ]
  },
  {
   "cell_type": "code",
   "execution_count": 20,
   "metadata": {},
   "outputs": [],
   "source": [
    "convosdf = pd.read_csv('convo_texts.csv')"
   ]
  },
  {
   "cell_type": "code",
   "execution_count": 21,
   "metadata": {},
   "outputs": [
    {
     "data": {
      "text/html": [
       "<div>\n",
       "<style scoped>\n",
       "    .dataframe tbody tr th:only-of-type {\n",
       "        vertical-align: middle;\n",
       "    }\n",
       "\n",
       "    .dataframe tbody tr th {\n",
       "        vertical-align: top;\n",
       "    }\n",
       "\n",
       "    .dataframe thead th {\n",
       "        text-align: right;\n",
       "    }\n",
       "</style>\n",
       "<table border=\"1\" class=\"dataframe\">\n",
       "  <thead>\n",
       "    <tr style=\"text-align: right;\">\n",
       "      <th></th>\n",
       "      <th>tweet_ids</th>\n",
       "      <th>text</th>\n",
       "    </tr>\n",
       "  </thead>\n",
       "  <tbody>\n",
       "    <tr>\n",
       "      <th>0</th>\n",
       "      <td>1 2 3 4 5 6 7 8 9 10</td>\n",
       "      <td>@115712 I understand. I would like to assist ...</td>\n",
       "    </tr>\n",
       "    <tr>\n",
       "      <th>1</th>\n",
       "      <td>11 12 13 14 15 16 17 18</td>\n",
       "      <td>@115713 This is saddening to hear. Please sho...</td>\n",
       "    </tr>\n",
       "    <tr>\n",
       "      <th>2</th>\n",
       "      <td>19 20</td>\n",
       "      <td>@115715 Please send me a private message so t...</td>\n",
       "    </tr>\n",
       "    <tr>\n",
       "      <th>3</th>\n",
       "      <td>21 22 23 24 25 28 26 29 27</td>\n",
       "      <td>@115716 What information is incorrect? ^JK @A...</td>\n",
       "    </tr>\n",
       "    <tr>\n",
       "      <th>4</th>\n",
       "      <td>30 31</td>\n",
       "      <td>@115717 Hello, My apologies for any frustrati...</td>\n",
       "    </tr>\n",
       "  </tbody>\n",
       "</table>\n",
       "</div>"
      ],
      "text/plain": [
       "                     tweet_ids  \\\n",
       "0         1 2 3 4 5 6 7 8 9 10   \n",
       "1      11 12 13 14 15 16 17 18   \n",
       "2                        19 20   \n",
       "3   21 22 23 24 25 28 26 29 27   \n",
       "4                        30 31   \n",
       "\n",
       "                                                text  \n",
       "0   @115712 I understand. I would like to assist ...  \n",
       "1   @115713 This is saddening to hear. Please sho...  \n",
       "2   @115715 Please send me a private message so t...  \n",
       "3   @115716 What information is incorrect? ^JK @A...  \n",
       "4   @115717 Hello, My apologies for any frustrati...  "
      ]
     },
     "execution_count": 21,
     "metadata": {},
     "output_type": "execute_result"
    }
   ],
   "source": [
    "convosdf.head()"
   ]
  },
  {
   "cell_type": "code",
   "execution_count": 22,
   "metadata": {},
   "outputs": [
    {
     "data": {
      "text/plain": [
       "\" @115713 This is saddening to hear. Please shoot us a DM, so that we can look into this for you. -KC @sprintcare You gonna magically change your connectivity for me and my whole family ? 🤥 💯 @115713 I would really like to work with you to have this resolved. Kindly send us a DM. I'm here for you! -ResolutionSup SR @115713 Hi, my name is Shantel, I'm a resolution supervisor here with Sprint. Your issues was brought to my attention.  1/2 -ResolutionSup SR @115713 We understand your concerns and we'd like for you to please send us a Direct Message, so that we can further assist you. -AA @sprintcare Since I signed up with you....Since day 1 @115713 H there! We'd definitely like to work with you on this, how long have you been experiencing this issue? -AA @115714 y’all lie about your “great” connection. 5 bars LTE, still won’t load something. Smh.\""
      ]
     },
     "execution_count": 22,
     "metadata": {},
     "output_type": "execute_result"
    }
   ],
   "source": [
    "convosdf.text[1]"
   ]
  },
  {
   "cell_type": "markdown",
   "metadata": {},
   "source": [
    "Removing twitter handles and urls from the conversations."
   ]
  },
  {
   "cell_type": "code",
   "execution_count": 23,
   "metadata": {},
   "outputs": [],
   "source": [
    "regex =\"\\B@\\w+\"\n",
    "convosdf.text = convosdf.text.str.replace(regex, '')"
   ]
  },
  {
   "cell_type": "code",
   "execution_count": 24,
   "metadata": {},
   "outputs": [],
   "source": [
    "regex = 'http\\S+'\n",
    "convosdf.text = convosdf.text.str.replace(regex, '')"
   ]
  },
  {
   "cell_type": "markdown",
   "metadata": {},
   "source": [
    "### Customer Only Convos"
   ]
  },
  {
   "cell_type": "markdown",
   "metadata": {},
   "source": [
    "First I will split out the customer and business tweets into separate data frames. I do not want to include the business tweets in the sentiment analysis since most are using the same language and they cloud the overall sentiment."
   ]
  },
  {
   "cell_type": "code",
   "execution_count": 25,
   "metadata": {},
   "outputs": [],
   "source": [
    "all_tweets = pd.read_pickle(\"./all_tweets.pkl\")\n",
    "\n",
    "non_business_tweets = all_tweets[all_tweets.author_id.str.contains('^[0-9]{2,6}$')]\n",
    "business_tweets = pd.concat([all_tweets, non_business_tweets]).drop_duplicates(subset=['tweet_id'], keep=False)"
   ]
  },
  {
   "cell_type": "code",
   "execution_count": 28,
   "metadata": {},
   "outputs": [
    {
     "data": {
      "text/plain": [
       "True"
      ]
     },
     "execution_count": 28,
     "metadata": {},
     "output_type": "execute_result"
    }
   ],
   "source": [
    "len(non_business_tweets) + len(business_tweets) == len(all_tweets)"
   ]
  },
  {
   "cell_type": "code",
   "execution_count": 29,
   "metadata": {},
   "outputs": [],
   "source": [
    "bus = business_tweets.author_id.value_counts().index.to_list()\n",
    "non = non_business_tweets.author_id.value_counts().index.to_list()"
   ]
  },
  {
   "cell_type": "code",
   "execution_count": 32,
   "metadata": {},
   "outputs": [],
   "source": [
    "regex =\"\\B@\\w+\"\n",
    "non_business_tweets.text = non_business_tweets.text.str.replace(regex, '')"
   ]
  },
  {
   "cell_type": "code",
   "execution_count": 31,
   "metadata": {},
   "outputs": [],
   "source": [
    "regex = 'http\\S+'\n",
    "non_business_tweets.text = non_business_tweets.text.str.replace(regex, '')"
   ]
  },
  {
   "cell_type": "code",
   "execution_count": 33,
   "metadata": {},
   "outputs": [],
   "source": [
    "non_business_tweets = non_business_tweets.fillna('0')\n",
    "\n",
    "non_business_tweets['in_response_to_tweet_id'] = pd.to_numeric(non_business_tweets['in_response_to_tweet_id'], downcast='integer')\n",
    "non_business_tweets['in_response_to_tweet_id'] = non_business_tweets['in_response_to_tweet_id'].astype(str)\n",
    "non_business_tweets['response_tweet_id'] = non_business_tweets['response_tweet_id'].astype(str)\n",
    "non_business_tweets['tweet_id'] = non_business_tweets['tweet_id'].astype(str)"
   ]
  },
  {
   "cell_type": "code",
   "execution_count": 34,
   "metadata": {},
   "outputs": [],
   "source": [
    "cust_dict = OrderedDict()\n",
    "\n",
    "for index,row in non_business_tweets.iterrows():\n",
    "    tweet_id = non_business_tweets.tweet_id[index]\n",
    "    cust_dict[tweet_id] = {'tweet_id': non_business_tweets.tweet_id[index], 'author_id': non_business_tweets.author_id[index], \n",
    "                               'response_tweet_id': non_business_tweets.response_tweet_id[index], \n",
    "                               'in_response_to_tweet_id': non_business_tweets.in_response_to_tweet_id[index], \n",
    "                               'text': non_business_tweets.text[index]}"
   ]
  },
  {
   "cell_type": "code",
   "execution_count": 35,
   "metadata": {},
   "outputs": [],
   "source": [
    "cust_convos = all_convos[1:]\n",
    "\n",
    "for convo in cust_convos:\n",
    "    for tweet in convo:\n",
    "        if not tweet in cust_dict.keys():\n",
    "            convo.remove(tweet)"
   ]
  },
  {
   "cell_type": "code",
   "execution_count": 36,
   "metadata": {},
   "outputs": [],
   "source": [
    "with open('cust_texts.csv', 'w',newline='') as csvfile:\n",
    "    file = csv.writer(csvfile)\n",
    "    file.writerow(['tweet_ids', 'text'])\n",
    "    \n",
    "    for convo in cust_convos:\n",
    "        \n",
    "        tweet_ids = ''\n",
    "        cust_convo = ''\n",
    "        \n",
    "        for tweet in convo:\n",
    "            \n",
    "            try:\n",
    "                text = cust_dict[tweet]['text']\n",
    "                \n",
    "                cust_convo = cust_convo + ' ' + text\n",
    "                tweet_ids = tweet_ids + ' ' + tweet\n",
    "            \n",
    "            except:\n",
    "                pass\n",
    "                \n",
    "        row = [tweet_ids, cust_convo]\n",
    "        file.writerow(row)"
   ]
  },
  {
   "cell_type": "code",
   "execution_count": 37,
   "metadata": {},
   "outputs": [],
   "source": [
    "custdf = pd.read_csv(\"cust_texts.csv\")\n",
    "\n",
    "custdf = custdf.dropna()"
   ]
  },
  {
   "cell_type": "markdown",
   "metadata": {},
   "source": [
    "### Data Cleaning"
   ]
  },
  {
   "cell_type": "code",
   "execution_count": 44,
   "metadata": {},
   "outputs": [],
   "source": [
    "handles = []\n",
    "\n",
    "for index, row in non_business_tweets.iterrows():\n",
    "    try:\n",
    "        handle = re.findall('\\B@\\w+', non_business_tweets.text[index])[0]\n",
    "    except:\n",
    "        handle = np.nan\n",
    "        \n",
    "    handles.append(handle)"
   ]
  },
  {
   "cell_type": "code",
   "execution_count": 45,
   "metadata": {},
   "outputs": [],
   "source": [
    "non_business_tweets['company'] = handles\n",
    "\n",
    "non_business_tweets['in_response_to_tweet_id'] = pd.to_numeric(non_business_tweets['in_response_to_tweet_id'], downcast='integer')\n",
    "non_business_tweets['in_response_to_tweet_id'] = non_business_tweets['in_response_to_tweet_id'].astype(str)\n",
    "non_business_tweets['response_tweet_id'] = non_business_tweets['response_tweet_id'].astype(str)\n",
    "non_business_tweets['tweet_id'] = non_business_tweets['tweet_id'].astype(str)"
   ]
  },
  {
   "cell_type": "code",
   "execution_count": 46,
   "metadata": {},
   "outputs": [],
   "source": [
    "bus_dict = OrderedDict()\n",
    "\n",
    "for index,row in business_tweets.iterrows():\n",
    "    tweet_id = business_tweets.tweet_id[index]\n",
    "    bus_dict[tweet_id] = {'tweet_id': business_tweets.tweet_id[index], 'author_id': business_tweets.author_id[index], \n",
    "                               'response_tweet_id': business_tweets.response_tweet_id[index], \n",
    "                               'in_response_to_tweet_id': business_tweets.in_response_to_tweet_id[index], \n",
    "                               'text': business_tweets.text[index]}"
   ]
  },
  {
   "cell_type": "code",
   "execution_count": 61,
   "metadata": {},
   "outputs": [],
   "source": [
    "bus_convos = all_convos[1:]"
   ]
  },
  {
   "cell_type": "code",
   "execution_count": 73,
   "metadata": {},
   "outputs": [],
   "source": [
    "handles = []\n",
    "for idx, val in enumerate(bus_convos):\n",
    "    for tweet in val:\n",
    "        try:\n",
    "            cust_dict[tweet]\n",
    "        except:\n",
    "            company = bus_dict[int(tweet)]['author_id']\n",
    "            continue\n",
    "    try:\n",
    "        handles.append(company)\n",
    "    except:\n",
    "        handles.append(np.nan)"
   ]
  },
  {
   "cell_type": "code",
   "execution_count": 76,
   "metadata": {},
   "outputs": [],
   "source": [
    "allNumbers = set(range(0, 798196))\n",
    "\n",
    "for idx, row in custdf.iterrows():\n",
    "    allNumbers.remove(idx)"
   ]
  },
  {
   "cell_type": "code",
   "execution_count": 77,
   "metadata": {},
   "outputs": [],
   "source": [
    "missing_indices = list(allNumbers)\n",
    "missing_indices = sorted(missing_indices)\n",
    "\n",
    "for i in reversed(missing_indices):\n",
    "    del handles[i]\n",
    "    \n",
    "missing = pd.DataFrame(missing_indices)\n",
    "missing.to_pickle(\"./missing_indices.pkl\")"
   ]
  },
  {
   "cell_type": "code",
   "execution_count": 78,
   "metadata": {},
   "outputs": [],
   "source": [
    "custdf['company'] = handles"
   ]
  },
  {
   "cell_type": "code",
   "execution_count": 79,
   "metadata": {},
   "outputs": [
    {
     "data": {
      "text/html": [
       "<div>\n",
       "<style scoped>\n",
       "    .dataframe tbody tr th:only-of-type {\n",
       "        vertical-align: middle;\n",
       "    }\n",
       "\n",
       "    .dataframe tbody tr th {\n",
       "        vertical-align: top;\n",
       "    }\n",
       "\n",
       "    .dataframe thead th {\n",
       "        text-align: right;\n",
       "    }\n",
       "</style>\n",
       "<table border=\"1\" class=\"dataframe\">\n",
       "  <thead>\n",
       "    <tr style=\"text-align: right;\">\n",
       "      <th></th>\n",
       "      <th>tweet_ids</th>\n",
       "      <th>text</th>\n",
       "      <th>compound</th>\n",
       "      <th>pos</th>\n",
       "      <th>neu</th>\n",
       "      <th>neg</th>\n",
       "      <th>company</th>\n",
       "    </tr>\n",
       "  </thead>\n",
       "  <tbody>\n",
       "    <tr>\n",
       "      <th>0</th>\n",
       "      <td>2 3 5 7 8</td>\n",
       "      <td>and how do you propose we do that  I have se...</td>\n",
       "      <td>-0.7430</td>\n",
       "      <td>0.000</td>\n",
       "      <td>0.844</td>\n",
       "      <td>0.156</td>\n",
       "      <td>sprintcare</td>\n",
       "    </tr>\n",
       "    <tr>\n",
       "      <th>1</th>\n",
       "      <td>12 16 18</td>\n",
       "      <td>You gonna magically change your connectivity...</td>\n",
       "      <td>-0.6908</td>\n",
       "      <td>0.000</td>\n",
       "      <td>0.853</td>\n",
       "      <td>0.147</td>\n",
       "      <td>sprintcare</td>\n",
       "    </tr>\n",
       "    <tr>\n",
       "      <th>2</th>\n",
       "      <td>20</td>\n",
       "      <td>whenever I contact customer support, they te...</td>\n",
       "      <td>0.2144</td>\n",
       "      <td>0.085</td>\n",
       "      <td>0.915</td>\n",
       "      <td>0.000</td>\n",
       "      <td>sprintcare</td>\n",
       "    </tr>\n",
       "    <tr>\n",
       "      <th>3</th>\n",
       "      <td>22 23 24 26 29</td>\n",
       "      <td>Would you like me to email you a copy of one...</td>\n",
       "      <td>0.4871</td>\n",
       "      <td>0.079</td>\n",
       "      <td>0.888</td>\n",
       "      <td>0.034</td>\n",
       "      <td>Ask_Spectrum</td>\n",
       "    </tr>\n",
       "    <tr>\n",
       "      <th>4</th>\n",
       "      <td>31</td>\n",
       "      <td>Yo , your customer service reps are super nic...</td>\n",
       "      <td>0.4102</td>\n",
       "      <td>0.132</td>\n",
       "      <td>0.868</td>\n",
       "      <td>0.000</td>\n",
       "      <td>Ask_Spectrum</td>\n",
       "    </tr>\n",
       "  </tbody>\n",
       "</table>\n",
       "</div>"
      ],
      "text/plain": [
       "         tweet_ids                                               text  \\\n",
       "0        2 3 5 7 8    and how do you propose we do that  I have se...   \n",
       "1         12 16 18    You gonna magically change your connectivity...   \n",
       "2               20    whenever I contact customer support, they te...   \n",
       "3   22 23 24 26 29    Would you like me to email you a copy of one...   \n",
       "4               31   Yo , your customer service reps are super nic...   \n",
       "\n",
       "   compound    pos    neu    neg       company  \n",
       "0   -0.7430  0.000  0.844  0.156    sprintcare  \n",
       "1   -0.6908  0.000  0.853  0.147    sprintcare  \n",
       "2    0.2144  0.085  0.915  0.000    sprintcare  \n",
       "3    0.4871  0.079  0.888  0.034  Ask_Spectrum  \n",
       "4    0.4102  0.132  0.868  0.000  Ask_Spectrum  "
      ]
     },
     "execution_count": 79,
     "metadata": {},
     "output_type": "execute_result"
    }
   ],
   "source": [
    "custdf.head()"
   ]
  },
  {
   "cell_type": "code",
   "execution_count": 80,
   "metadata": {},
   "outputs": [],
   "source": [
    "custdf.to_pickle('./custdf_with_sentiment.pkl')"
   ]
  },
  {
   "cell_type": "markdown",
   "metadata": {},
   "source": [
    "### Sentiment Analysis with VADER"
   ]
  },
  {
   "cell_type": "code",
   "execution_count": 40,
   "metadata": {},
   "outputs": [],
   "source": [
    "analyser = SentimentIntensityAnalyzer()\n",
    "\n",
    "def sentiment_analyzer_scores(sentence):\n",
    "    score = analyser.polarity_scores(sentence)\n",
    "    return score"
   ]
  },
  {
   "cell_type": "code",
   "execution_count": 41,
   "metadata": {},
   "outputs": [],
   "source": [
    "compound_cust = []\n",
    "pos_cust = []\n",
    "neu_cust = []\n",
    "neg_cust = []\n",
    "\n",
    "for convo in custdf.text:\n",
    "    compound_cust.append(sentiment_analyzer_scores(convo)['compound'])\n",
    "    pos_cust.append(sentiment_analyzer_scores(convo)['pos'])\n",
    "    neg_cust.append(sentiment_analyzer_scores(convo)['neg'])\n",
    "    neu_cust.append(sentiment_analyzer_scores(convo)['neu'])"
   ]
  },
  {
   "cell_type": "code",
   "execution_count": 42,
   "metadata": {},
   "outputs": [],
   "source": [
    "custdf['compound'] = compound_cust\n",
    "custdf['pos'] = pos_cust\n",
    "custdf['neu'] = neu_cust\n",
    "custdf['neg'] = neg_cust"
   ]
  },
  {
   "cell_type": "code",
   "execution_count": 81,
   "metadata": {},
   "outputs": [
    {
     "data": {
      "text/html": [
       "<div>\n",
       "<style scoped>\n",
       "    .dataframe tbody tr th:only-of-type {\n",
       "        vertical-align: middle;\n",
       "    }\n",
       "\n",
       "    .dataframe tbody tr th {\n",
       "        vertical-align: top;\n",
       "    }\n",
       "\n",
       "    .dataframe thead th {\n",
       "        text-align: right;\n",
       "    }\n",
       "</style>\n",
       "<table border=\"1\" class=\"dataframe\">\n",
       "  <thead>\n",
       "    <tr style=\"text-align: right;\">\n",
       "      <th></th>\n",
       "      <th>compound</th>\n",
       "      <th>pos</th>\n",
       "      <th>neg</th>\n",
       "      <th>neu</th>\n",
       "    </tr>\n",
       "    <tr>\n",
       "      <th>company</th>\n",
       "      <th></th>\n",
       "      <th></th>\n",
       "      <th></th>\n",
       "      <th></th>\n",
       "    </tr>\n",
       "  </thead>\n",
       "  <tbody>\n",
       "    <tr>\n",
       "      <th>Walmart</th>\n",
       "      <td>0.541894</td>\n",
       "      <td>0.264106</td>\n",
       "      <td>0.022513</td>\n",
       "      <td>0.712551</td>\n",
       "    </tr>\n",
       "    <tr>\n",
       "      <th>Kimpton</th>\n",
       "      <td>0.479000</td>\n",
       "      <td>0.224093</td>\n",
       "      <td>0.028604</td>\n",
       "      <td>0.747295</td>\n",
       "    </tr>\n",
       "    <tr>\n",
       "      <th>MOO</th>\n",
       "      <td>0.466144</td>\n",
       "      <td>0.226746</td>\n",
       "      <td>0.032363</td>\n",
       "      <td>0.740889</td>\n",
       "    </tr>\n",
       "    <tr>\n",
       "      <th>AskTigogh</th>\n",
       "      <td>0.302804</td>\n",
       "      <td>0.159236</td>\n",
       "      <td>0.053677</td>\n",
       "      <td>0.783966</td>\n",
       "    </tr>\n",
       "    <tr>\n",
       "      <th>AskVirginMoney</th>\n",
       "      <td>0.295229</td>\n",
       "      <td>0.154899</td>\n",
       "      <td>0.070068</td>\n",
       "      <td>0.775040</td>\n",
       "    </tr>\n",
       "  </tbody>\n",
       "</table>\n",
       "</div>"
      ],
      "text/plain": [
       "                compound       pos       neg       neu\n",
       "company                                               \n",
       "Walmart         0.541894  0.264106  0.022513  0.712551\n",
       "Kimpton         0.479000  0.224093  0.028604  0.747295\n",
       "MOO             0.466144  0.226746  0.032363  0.740889\n",
       "AskTigogh       0.302804  0.159236  0.053677  0.783966\n",
       "AskVirginMoney  0.295229  0.154899  0.070068  0.775040"
      ]
     },
     "execution_count": 81,
     "metadata": {},
     "output_type": "execute_result"
    }
   ],
   "source": [
    "company_group = custdf.groupby('company')\n",
    "sentiment_by_company = company_group.agg({'compound': 'mean', 'pos': 'mean', 'neg': 'mean', 'neu': 'mean'})\n",
    "sentiment_by_company.nlargest(5, 'compound')"
   ]
  },
  {
   "cell_type": "code",
   "execution_count": 82,
   "metadata": {},
   "outputs": [
    {
     "data": {
      "text/html": [
       "<div>\n",
       "<style scoped>\n",
       "    .dataframe tbody tr th:only-of-type {\n",
       "        vertical-align: middle;\n",
       "    }\n",
       "\n",
       "    .dataframe tbody tr th {\n",
       "        vertical-align: top;\n",
       "    }\n",
       "\n",
       "    .dataframe thead th {\n",
       "        text-align: right;\n",
       "    }\n",
       "</style>\n",
       "<table border=\"1\" class=\"dataframe\">\n",
       "  <thead>\n",
       "    <tr style=\"text-align: right;\">\n",
       "      <th></th>\n",
       "      <th>compound</th>\n",
       "      <th>pos</th>\n",
       "      <th>neg</th>\n",
       "      <th>neu</th>\n",
       "    </tr>\n",
       "    <tr>\n",
       "      <th>company</th>\n",
       "      <th></th>\n",
       "      <th></th>\n",
       "      <th></th>\n",
       "      <th></th>\n",
       "    </tr>\n",
       "  </thead>\n",
       "  <tbody>\n",
       "    <tr>\n",
       "      <th>KFC_UKI_Help</th>\n",
       "      <td>-0.209909</td>\n",
       "      <td>0.066883</td>\n",
       "      <td>0.135804</td>\n",
       "      <td>0.794336</td>\n",
       "    </tr>\n",
       "    <tr>\n",
       "      <th>DunkinDonuts</th>\n",
       "      <td>-0.117570</td>\n",
       "      <td>0.092989</td>\n",
       "      <td>0.135158</td>\n",
       "      <td>0.771834</td>\n",
       "    </tr>\n",
       "    <tr>\n",
       "      <th>AsurionCares</th>\n",
       "      <td>-0.108782</td>\n",
       "      <td>0.085547</td>\n",
       "      <td>0.114180</td>\n",
       "      <td>0.798375</td>\n",
       "    </tr>\n",
       "    <tr>\n",
       "      <th>CenturyLinkHelp</th>\n",
       "      <td>-0.093917</td>\n",
       "      <td>0.086262</td>\n",
       "      <td>0.124752</td>\n",
       "      <td>0.787969</td>\n",
       "    </tr>\n",
       "    <tr>\n",
       "      <th>sprintcare</th>\n",
       "      <td>-0.086329</td>\n",
       "      <td>0.088491</td>\n",
       "      <td>0.128379</td>\n",
       "      <td>0.778188</td>\n",
       "    </tr>\n",
       "  </tbody>\n",
       "</table>\n",
       "</div>"
      ],
      "text/plain": [
       "                 compound       pos       neg       neu\n",
       "company                                                \n",
       "KFC_UKI_Help    -0.209909  0.066883  0.135804  0.794336\n",
       "DunkinDonuts    -0.117570  0.092989  0.135158  0.771834\n",
       "AsurionCares    -0.108782  0.085547  0.114180  0.798375\n",
       "CenturyLinkHelp -0.093917  0.086262  0.124752  0.787969\n",
       "sprintcare      -0.086329  0.088491  0.128379  0.778188"
      ]
     },
     "execution_count": 82,
     "metadata": {},
     "output_type": "execute_result"
    }
   ],
   "source": [
    "sentiment_by_company.nsmallest(5, 'compound')"
   ]
  },
  {
   "cell_type": "code",
   "execution_count": 85,
   "metadata": {},
   "outputs": [
    {
     "data": {
      "image/png": "[encoded data removed]",
      "text/plain": [
       "<Figure size 432x288 with 1 Axes>"
      ]
     },
     "metadata": {},
     "output_type": "display_data"
    }
   ],
   "source": [
    "Walmart = custdf[custdf['company'] == 'Walmart']\n",
    "\n",
    "sns.set()\n",
    "sns.distplot(Walmart['compound']);"
   ]
  },
  {
   "cell_type": "code",
   "execution_count": 86,
   "metadata": {},
   "outputs": [
    {
     "data": {
      "image/png": "[encoded data removed]",
      "text/plain": [
       "<Figure size 432x288 with 1 Axes>"
      ]
     },
     "metadata": {},
     "output_type": "display_data"
    }
   ],
   "source": [
    "KFC = custdf[custdf['company'] == 'KFC_UKI_Help']\n",
    "\n",
    "sns.set()\n",
    "sns.distplot(KFC['compound']);"
   ]
  }
 ],
 "metadata": {
  "kernelspec": {
   "display_name": "Python 3",
   "language": "python",
   "name": "python3"
  },
  "language_info": {
   "codemirror_mode": {
    "name": "ipython",
    "version": 3
   },
   "file_extension": ".py",
   "mimetype": "text/x-python",
   "name": "python",
   "nbconvert_exporter": "python",
   "pygments_lexer": "ipython3",
   "version": "3.6.7"
  }
 },
 "nbformat": 4,
 "nbformat_minor": 2
}

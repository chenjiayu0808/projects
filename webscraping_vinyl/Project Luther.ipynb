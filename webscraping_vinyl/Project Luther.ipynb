{
 "cells": [
  {
   "cell_type": "code",
   "execution_count": 2,
   "metadata": {},
   "outputs": [],
   "source": [
    "import numpy as np\n",
    "import pandas as pd\n",
    "\n",
    "import requests\n",
    "from bs4 import BeautifulSoup\n",
    "\n",
    "from selenium import webdriver\n",
    "from selenium.webdriver.support.ui import WebDriverWait\n",
    "from selenium.webdriver.common.keys import Keys\n",
    "from selenium.webdriver.common.by import By\n",
    "from selenium.webdriver.support.ui import WebDriverWait\n",
    "from selenium.webdriver.support import expected_conditions as EC\n",
    "\n",
    "import random\n",
    "\n",
    "import time\n",
    "import csv\n",
    "\n",
    "import os\n",
    "chromedriver = \"/Applications/chromedriver\" # path to the chromedriver executable\n",
    "os.environ[\"webdriver.chrome.driver\"] = chromedriver"
   ]
  },
  {
   "cell_type": "markdown",
   "metadata": {},
   "source": [
    "# Code to Scrape Discogs"
   ]
  },
  {
   "cell_type": "code",
   "execution_count": 5,
   "metadata": {},
   "outputs": [],
   "source": [
    "driver = webdriver.Chrome(chromedriver)\n",
    "driver.get(\"https://www.discogs.com/sell/list?sort=listed%2Casc&limit=250&currency=USD&format=Vinyl&page=381\")\n",
    "\n",
    "with open('recorddata15.csv', 'w',newline='') as csvfile:\n",
    "    file = csv.writer(csvfile)\n",
    "    # make headers\n",
    "    file.writerow(['Artist_Album', 'Genre', 'Release_Date', 'Style', 'Rate_Haves_Wants', 'Media_Condition',\n",
    "                     'Sleeve_Condition', 'Seller_Rating', 'Price'])\n",
    "    count = 381\n",
    "    \n",
    "    while count < 501:\n",
    "        \n",
    "        # find all links on album marketplace page and store in list\n",
    "\n",
    "        result_elements = '//a[contains(@href, \"/sell/item/\")]'\n",
    "\n",
    "        albums = []\n",
    "\n",
    "        albumdriver = driver.find_elements_by_xpath(result_elements)\n",
    "\n",
    "        for url in albumdriver:\n",
    "            albums.extend([url.get_attribute('href')])\n",
    "        \n",
    "        # get rid of duplicates\n",
    "\n",
    "        albumsclean = [album.split('?', 1)[0] for album in albums]\n",
    "        albumurls = set(albumsclean)\n",
    "\n",
    "        # scrape info from album page\n",
    "\n",
    "        for album in albumurls:\n",
    "\n",
    "            driver.get(album)\n",
    "\n",
    "            soup = BeautifulSoup(driver.page_source, 'html.parser')\n",
    "\n",
    "            try:\n",
    "                artist_album = driver.find_element_by_xpath(\"//h1[contains(@id, 'profile_title')]\").text.strip()\n",
    "            except:\n",
    "                artist_album = np.nan\n",
    "        \n",
    "            try:\n",
    "                genre = driver.find_element_by_xpath(\"//div[contains(text(), 'Genre:')]/following-sibling::div\").text.strip()\n",
    "            except:\n",
    "                genre = np.nan\n",
    "\n",
    "            try:\n",
    "                release_date = driver.find_element_by_xpath(\"//div[contains(text(), 'Released:')]/following-sibling::div\").text.strip()\n",
    "            except:\n",
    "                release_date = np.nan\n",
    "\n",
    "            try:\n",
    "                style = driver.find_element_by_xpath(\"//div[contains(text(), 'Style:')]/following-sibling::div\").text.strip()\n",
    "            except:\n",
    "                style = np.nan\n",
    "\n",
    "            try:\n",
    "                rate_haves_wants = driver.find_element_by_xpath(\"//a[contains(@class, 'button-blue')]/following-sibling::div\").text.strip()\n",
    "            except:\n",
    "                rate_haves_wants = np.nan\n",
    "\n",
    "            try:\n",
    "                m_condition = driver.find_element_by_xpath(\"//strong[contains(text(), 'Media:')]/following-sibling::span\").text.strip()\n",
    "            except:\n",
    "                m_condition = np.nan\n",
    "    \n",
    "            try:\n",
    "                sleeve = driver.find_element_by_xpath(\"//strong[contains(text(), 'Sleeve:')]\")\n",
    "                s_condition = sleeve.find_element_by_xpath('..').text.strip()\n",
    "            except:\n",
    "                s_condition = np.nan\n",
    "\n",
    "            try:\n",
    "                seller_rating = driver.find_element_by_xpath(\"//span[@class='star_rating']/following-sibling::strong\").text.strip()\n",
    "            except:\n",
    "                seller_rating = np.nan\n",
    "\n",
    "            try:\n",
    "                price = soup.find(class_='price').text.strip()\n",
    "            except:\n",
    "                price = np.nan\n",
    "\n",
    "            observation = [artist_album, genre, release_date, style, rate_haves_wants, m_condition, \n",
    "                           s_condition, seller_rating, price]\n",
    "\n",
    "            file.writerow(observation)\n",
    "\n",
    "            time.sleep(.5+2*random.random())\n",
    "            \n",
    "        # go to next page in the marketplace\n",
    "        \n",
    "        nextpage = \"https://www.discogs.com/sell/list?sort=listed%2Casc&currency=USD&limit=25&page=\" + str(count+1) + \"&format=Vinyl\"\n",
    "\n",
    "        driver.get(nextpage)\n",
    "        \n",
    "        count = count + 1"
   ]
  },
  {
   "cell_type": "code",
   "execution_count": 4,
   "metadata": {},
   "outputs": [
    {
     "data": {
      "text/plain": [
       "380"
      ]
     },
     "execution_count": 4,
     "metadata": {},
     "output_type": "execute_result"
    }
   ],
   "source": [
    "count"
   ]
  },
  {
   "cell_type": "code",
   "execution_count": null,
   "metadata": {},
   "outputs": [],
   "source": []
  }
 ],
 "metadata": {
  "kernelspec": {
   "display_name": "Python 3",
   "language": "python",
   "name": "python3"
  },
  "language_info": {
   "codemirror_mode": {
    "name": "ipython",
    "version": 3
   },
   "file_extension": ".py",
   "mimetype": "text/x-python",
   "name": "python",
   "nbconvert_exporter": "python",
   "pygments_lexer": "ipython3",
   "version": "3.7.1"
  }
 },
 "nbformat": 4,
 "nbformat_minor": 2
}

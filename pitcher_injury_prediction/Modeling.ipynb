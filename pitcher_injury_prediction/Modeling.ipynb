{
 "cells": [
  {
   "cell_type": "code",
   "execution_count": 473,
   "metadata": {},
   "outputs": [],
   "source": [
    "import pandas as pd\n",
    "import numpy as np\n",
    "\n",
    "import matplotlib.pyplot as plt\n",
    "import seaborn as sns\n",
    "\n",
    "import scipy.stats as stats\n",
    "import statsmodels.api as sm\n",
    "import statsmodels.formula.api as smf\n",
    "import patsy\n",
    "import pickle\n",
    "\n",
    "from sklearn.model_selection import train_test_split, cross_val_score\n",
    "from sklearn.linear_model import LogisticRegression\n",
    "from sklearn.neighbors import KNeighborsClassifier\n",
    "from sklearn.preprocessing import StandardScaler\n",
    "from sklearn.naive_bayes import MultinomialNB, GaussianNB\n",
    "from sklearn.pipeline import make_pipeline\n",
    "from sklearn.model_selection import KFold\n",
    "from sklearn.model_selection import GridSearchCV\n",
    "from sklearn.calibration import CalibratedClassifierCV\n",
    "import sklearn.metrics as metrics\n",
    "from sklearn.metrics import accuracy_score, confusion_matrix\n",
    "from sklearn.metrics import precision_score, recall_score, precision_recall_curve, f1_score, fbeta_score\n",
    "from sklearn.metrics import roc_auc_score, roc_curve\n",
    "\n",
    "from imblearn.over_sampling import RandomOverSampler\n",
    "from sklearn.naive_bayes import GaussianNB\n",
    "from sklearn.svm import LinearSVC, SVC\n",
    "from xgboost import XGBClassifier\n",
    "from collections import Counter\n",
    "from sklearn import svm\n",
    "from imblearn.over_sampling import SMOTE\n",
    "from imblearn.over_sampling import ADASYN\n",
    "\n",
    "from sklearn.tree import DecisionTreeClassifier\n",
    "from sklearn.ensemble import RandomForestClassifier\n",
    "from sklearn.ensemble import (RandomForestClassifier, ExtraTreesClassifier, VotingClassifier, \n",
    "                              AdaBoostClassifier, BaggingRegressor)\n",
    "from mlxtend.classifier import StackingClassifier"
   ]
  },
  {
   "cell_type": "code",
   "execution_count": 347,
   "metadata": {},
   "outputs": [],
   "source": [
    "traindata = pd.read_pickle(\"./traindata.pkl\")"
   ]
  },
  {
   "cell_type": "code",
   "execution_count": 348,
   "metadata": {},
   "outputs": [
    {
     "data": {
      "text/html": [
       "<div>\n",
       "<style scoped>\n",
       "    .dataframe tbody tr th:only-of-type {\n",
       "        vertical-align: middle;\n",
       "    }\n",
       "\n",
       "    .dataframe tbody tr th {\n",
       "        vertical-align: top;\n",
       "    }\n",
       "\n",
       "    .dataframe thead th {\n",
       "        text-align: right;\n",
       "    }\n",
       "</style>\n",
       "<table border=\"1\" class=\"dataframe\">\n",
       "  <thead>\n",
       "    <tr style=\"text-align: right;\">\n",
       "      <th></th>\n",
       "      <th>Name</th>\n",
       "      <th>Age</th>\n",
       "      <th>past_surgery</th>\n",
       "      <th>Lefty</th>\n",
       "      <th>win_percent</th>\n",
       "      <th>ERA</th>\n",
       "      <th>games_played</th>\n",
       "      <th>h_ip</th>\n",
       "      <th>bb_ip</th>\n",
       "      <th>so_ip</th>\n",
       "      <th>...</th>\n",
       "      <th>Max_Speed</th>\n",
       "      <th>Changeup</th>\n",
       "      <th>Curve</th>\n",
       "      <th>Sinker</th>\n",
       "      <th>Cutter</th>\n",
       "      <th>Fastball</th>\n",
       "      <th>Splitter</th>\n",
       "      <th>Knuckle</th>\n",
       "      <th>Slider</th>\n",
       "      <th>injured</th>\n",
       "    </tr>\n",
       "  </thead>\n",
       "  <tbody>\n",
       "    <tr>\n",
       "      <th>2005</th>\n",
       "      <td>Leonel Campos</td>\n",
       "      <td>28.0</td>\n",
       "      <td>0</td>\n",
       "      <td>0</td>\n",
       "      <td>0.333333</td>\n",
       "      <td>6.623333</td>\n",
       "      <td>25</td>\n",
       "      <td>9.333333</td>\n",
       "      <td>6.60</td>\n",
       "      <td>10.133333</td>\n",
       "      <td>...</td>\n",
       "      <td>86.0</td>\n",
       "      <td>0.050210</td>\n",
       "      <td>0.000</td>\n",
       "      <td>0.0</td>\n",
       "      <td>0.0</td>\n",
       "      <td>0.568107</td>\n",
       "      <td>0.0</td>\n",
       "      <td>0.0</td>\n",
       "      <td>0.368271</td>\n",
       "      <td>1</td>\n",
       "    </tr>\n",
       "    <tr>\n",
       "      <th>261</th>\n",
       "      <td>Drew Storen</td>\n",
       "      <td>26.0</td>\n",
       "      <td>0</td>\n",
       "      <td>0</td>\n",
       "      <td>0.667000</td>\n",
       "      <td>2.820000</td>\n",
       "      <td>133</td>\n",
       "      <td>8.250000</td>\n",
       "      <td>2.30</td>\n",
       "      <td>7.900000</td>\n",
       "      <td>...</td>\n",
       "      <td>91.0</td>\n",
       "      <td>0.140500</td>\n",
       "      <td>0.000</td>\n",
       "      <td>0.0</td>\n",
       "      <td>0.0</td>\n",
       "      <td>0.557500</td>\n",
       "      <td>0.0</td>\n",
       "      <td>0.0</td>\n",
       "      <td>0.302000</td>\n",
       "      <td>0</td>\n",
       "    </tr>\n",
       "    <tr>\n",
       "      <th>1153</th>\n",
       "      <td>J.R. Graham</td>\n",
       "      <td>25.0</td>\n",
       "      <td>0</td>\n",
       "      <td>0</td>\n",
       "      <td>0.500000</td>\n",
       "      <td>4.950000</td>\n",
       "      <td>39</td>\n",
       "      <td>10.300000</td>\n",
       "      <td>3.00</td>\n",
       "      <td>7.500000</td>\n",
       "      <td>...</td>\n",
       "      <td>97.0</td>\n",
       "      <td>0.009337</td>\n",
       "      <td>0.000</td>\n",
       "      <td>0.0</td>\n",
       "      <td>0.0</td>\n",
       "      <td>0.591036</td>\n",
       "      <td>0.0</td>\n",
       "      <td>0.0</td>\n",
       "      <td>0.316527</td>\n",
       "      <td>0</td>\n",
       "    </tr>\n",
       "    <tr>\n",
       "      <th>1644</th>\n",
       "      <td>Brandon Cunniff</td>\n",
       "      <td>27.0</td>\n",
       "      <td>0</td>\n",
       "      <td>0</td>\n",
       "      <td>0.750000</td>\n",
       "      <td>4.435000</td>\n",
       "      <td>54</td>\n",
       "      <td>7.150000</td>\n",
       "      <td>5.25</td>\n",
       "      <td>9.000000</td>\n",
       "      <td>...</td>\n",
       "      <td>94.0</td>\n",
       "      <td>0.041878</td>\n",
       "      <td>0.000</td>\n",
       "      <td>0.0</td>\n",
       "      <td>0.0</td>\n",
       "      <td>0.433966</td>\n",
       "      <td>0.0</td>\n",
       "      <td>0.0</td>\n",
       "      <td>0.335835</td>\n",
       "      <td>0</td>\n",
       "    </tr>\n",
       "    <tr>\n",
       "      <th>293</th>\n",
       "      <td>Evan Marshall</td>\n",
       "      <td>24.0</td>\n",
       "      <td>0</td>\n",
       "      <td>0</td>\n",
       "      <td>0.500000</td>\n",
       "      <td>2.740000</td>\n",
       "      <td>57</td>\n",
       "      <td>9.100000</td>\n",
       "      <td>3.10</td>\n",
       "      <td>9.900000</td>\n",
       "      <td>...</td>\n",
       "      <td>94.0</td>\n",
       "      <td>0.213000</td>\n",
       "      <td>0.163</td>\n",
       "      <td>0.0</td>\n",
       "      <td>0.0</td>\n",
       "      <td>0.624000</td>\n",
       "      <td>0.0</td>\n",
       "      <td>0.0</td>\n",
       "      <td>0.000000</td>\n",
       "      <td>0</td>\n",
       "    </tr>\n",
       "  </tbody>\n",
       "</table>\n",
       "<p>5 rows × 22 columns</p>\n",
       "</div>"
      ],
      "text/plain": [
       "                 Name   Age  past_surgery  Lefty  win_percent       ERA  \\\n",
       "2005    Leonel Campos  28.0             0      0     0.333333  6.623333   \n",
       "261       Drew Storen  26.0             0      0     0.667000  2.820000   \n",
       "1153      J.R. Graham  25.0             0      0     0.500000  4.950000   \n",
       "1644  Brandon Cunniff  27.0             0      0     0.750000  4.435000   \n",
       "293     Evan Marshall  24.0             0      0     0.500000  2.740000   \n",
       "\n",
       "      games_played       h_ip  bb_ip      so_ip  ...  Max_Speed  Changeup  \\\n",
       "2005            25   9.333333   6.60  10.133333  ...       86.0  0.050210   \n",
       "261            133   8.250000   2.30   7.900000  ...       91.0  0.140500   \n",
       "1153            39  10.300000   3.00   7.500000  ...       97.0  0.009337   \n",
       "1644            54   7.150000   5.25   9.000000  ...       94.0  0.041878   \n",
       "293             57   9.100000   3.10   9.900000  ...       94.0  0.213000   \n",
       "\n",
       "      Curve  Sinker  Cutter  Fastball  Splitter  Knuckle    Slider  injured  \n",
       "2005  0.000     0.0     0.0  0.568107       0.0      0.0  0.368271        1  \n",
       "261   0.000     0.0     0.0  0.557500       0.0      0.0  0.302000        0  \n",
       "1153  0.000     0.0     0.0  0.591036       0.0      0.0  0.316527        0  \n",
       "1644  0.000     0.0     0.0  0.433966       0.0      0.0  0.335835        0  \n",
       "293   0.163     0.0     0.0  0.624000       0.0      0.0  0.000000        0  \n",
       "\n",
       "[5 rows x 22 columns]"
      ]
     },
     "execution_count": 348,
     "metadata": {},
     "output_type": "execute_result"
    }
   ],
   "source": [
    "traindata.sample(5)"
   ]
  },
  {
   "cell_type": "markdown",
   "metadata": {},
   "source": [
    "# Oversampling"
   ]
  },
  {
   "cell_type": "code",
   "execution_count": 366,
   "metadata": {},
   "outputs": [
    {
     "data": {
      "text/plain": [
       "Counter({0: 1339, 1: 1339})"
      ]
     },
     "execution_count": 366,
     "metadata": {},
     "output_type": "execute_result"
    }
   ],
   "source": [
    "ros = RandomOverSampler(random_state=0)\n",
    "X_resampled, y_resampled = ros.fit_sample(X,y)\n",
    "Counter(y_resampled)"
   ]
  },
  {
   "cell_type": "code",
   "execution_count": 474,
   "metadata": {},
   "outputs": [],
   "source": [
    "scaler = StandardScaler()\n",
    "X_resampled_scaled = scaler.fit_transform(X_resampled)\n",
    "X_val_scaled = scaler.transform(X_val)"
   ]
  },
  {
   "cell_type": "markdown",
   "metadata": {},
   "source": [
    "## Logistic Regression"
   ]
  },
  {
   "cell_type": "code",
   "execution_count": 475,
   "metadata": {},
   "outputs": [],
   "source": [
    "log_model_balanced = lm.fit(X_resampled_scaled, y_resampled)"
   ]
  },
  {
   "cell_type": "code",
   "execution_count": 369,
   "metadata": {},
   "outputs": [
    {
     "data": {
      "text/plain": [
       "0.6732456140350878"
      ]
     },
     "execution_count": 369,
     "metadata": {},
     "output_type": "execute_result"
    }
   ],
   "source": [
    "log_model_balanced.score(X_val_scaled,y_val)"
   ]
  },
  {
   "cell_type": "code",
   "execution_count": 370,
   "metadata": {},
   "outputs": [
    {
     "data": {
      "text/plain": [
       "0.526984126984127"
      ]
     },
     "execution_count": 370,
     "metadata": {},
     "output_type": "execute_result"
    }
   ],
   "source": [
    "y_predict = log_model_balanced.predict(X_val_scaled)\n",
    "f1_score(y_val, y_predict)"
   ]
  },
  {
   "cell_type": "code",
   "execution_count": 371,
   "metadata": {},
   "outputs": [
    {
     "name": "stdout",
     "output_type": "stream",
     "text": [
      "Precision: 0.4278,   Recall: 0.6860\n",
      "ROC AUC score: 0.6773 \n"
     ]
    }
   ],
   "source": [
    "y_predict = log_model_balanced.predict(X_val_scaled)\n",
    "print(\"Precision: {:6.4f},   Recall: {:6.4f}\".format(precision_score(y_val, y_predict), \n",
    "                                                     recall_score(y_val, y_predict)))\n",
    "print(\"ROC AUC score: {:6.4f} \".format(roc_auc_score(y_val, y_predict)))"
   ]
  },
  {
   "cell_type": "code",
   "execution_count": 372,
   "metadata": {},
   "outputs": [
    {
     "name": "stdout",
     "output_type": "stream",
     "text": [
      "[0.73331938 0.69135777 0.70257029 0.70684411 0.73513053]\n",
      "0.7138444135331373\n"
     ]
    },
    {
     "name": "stderr",
     "output_type": "stream",
     "text": [
      "/anaconda3/lib/python3.6/site-packages/sklearn/linear_model/logistic.py:433: FutureWarning: Default solver will be changed to 'lbfgs' in 0.22. Specify a solver to silence this warning.\n",
      "  FutureWarning)\n",
      "/anaconda3/lib/python3.6/site-packages/sklearn/linear_model/logistic.py:433: FutureWarning: Default solver will be changed to 'lbfgs' in 0.22. Specify a solver to silence this warning.\n",
      "  FutureWarning)\n",
      "/anaconda3/lib/python3.6/site-packages/sklearn/linear_model/logistic.py:433: FutureWarning: Default solver will be changed to 'lbfgs' in 0.22. Specify a solver to silence this warning.\n",
      "  FutureWarning)\n",
      "/anaconda3/lib/python3.6/site-packages/sklearn/linear_model/logistic.py:433: FutureWarning: Default solver will be changed to 'lbfgs' in 0.22. Specify a solver to silence this warning.\n",
      "  FutureWarning)\n",
      "/anaconda3/lib/python3.6/site-packages/sklearn/linear_model/logistic.py:433: FutureWarning: Default solver will be changed to 'lbfgs' in 0.22. Specify a solver to silence this warning.\n",
      "  FutureWarning)\n"
     ]
    }
   ],
   "source": [
    "kf = KFold(n_splits=5, shuffle=True, random_state = 11)\n",
    "scores = cross_val_score(log_model_balanced, X_resampled_scaled, y_resampled, cv=kf, scoring='roc_auc')\n",
    "\n",
    "print(scores)\n",
    "print(scores.mean())"
   ]
  },
  {
   "cell_type": "markdown",
   "metadata": {},
   "source": [
    "## KNN"
   ]
  },
  {
   "cell_type": "code",
   "execution_count": 373,
   "metadata": {},
   "outputs": [],
   "source": [
    "knn_model_balanced = knn.fit(X_resampled_scaled, y_resampled)"
   ]
  },
  {
   "cell_type": "code",
   "execution_count": 374,
   "metadata": {},
   "outputs": [
    {
     "data": {
      "text/plain": [
       "0.6337719298245614"
      ]
     },
     "execution_count": 374,
     "metadata": {},
     "output_type": "execute_result"
    }
   ],
   "source": [
    "knn_model_balanced.score(X_val_scaled,y_val)"
   ]
  },
  {
   "cell_type": "code",
   "execution_count": 375,
   "metadata": {},
   "outputs": [
    {
     "data": {
      "text/plain": [
       "0.4338983050847458"
      ]
     },
     "execution_count": 375,
     "metadata": {},
     "output_type": "execute_result"
    }
   ],
   "source": [
    "y_predict = knn_model_balanced.predict(X_val_scaled)\n",
    "f1_score(y_val, y_predict)"
   ]
  },
  {
   "cell_type": "code",
   "execution_count": 376,
   "metadata": {},
   "outputs": [
    {
     "name": "stdout",
     "output_type": "stream",
     "text": [
      "Precision: 0.3678,   Recall: 0.5289\n",
      "ROC AUC score: 0.6003 \n"
     ]
    }
   ],
   "source": [
    "y_predict = knn_model_balanced.predict(X_val_scaled)\n",
    "print(\"Precision: {:6.4f},   Recall: {:6.4f}\".format(precision_score(y_val, y_predict), \n",
    "                                                     recall_score(y_val, y_predict)))\n",
    "print(\"ROC AUC score: {:6.4f} \".format(roc_auc_score(y_val, y_predict)))"
   ]
  },
  {
   "cell_type": "code",
   "execution_count": 377,
   "metadata": {},
   "outputs": [],
   "source": [
    "knn = KNeighborsClassifier(n_neighbors=3)"
   ]
  },
  {
   "cell_type": "code",
   "execution_count": 378,
   "metadata": {},
   "outputs": [
    {
     "name": "stdout",
     "output_type": "stream",
     "text": [
      "[0.79766939 0.75991072 0.77307891 0.79202058 0.75015373]\n",
      "0.7745666638526381\n"
     ]
    }
   ],
   "source": [
    "kf = KFold(n_splits=5, shuffle=True, random_state = 11)\n",
    "scores = cross_val_score(knn_model_balanced, X_resampled_scaled, y_resampled, cv=kf, scoring='roc_auc')\n",
    "\n",
    "print(scores)\n",
    "print(scores.mean())"
   ]
  },
  {
   "cell_type": "markdown",
   "metadata": {},
   "source": [
    "## Naive Bayes"
   ]
  },
  {
   "cell_type": "code",
   "execution_count": 379,
   "metadata": {},
   "outputs": [],
   "source": [
    "mnb = MultinomialNB()\n",
    "mnb_model_balanced = mnb.fit(X_resampled, y_resampled)"
   ]
  },
  {
   "cell_type": "code",
   "execution_count": 380,
   "metadata": {},
   "outputs": [
    {
     "data": {
      "text/plain": [
       "0.6359649122807017"
      ]
     },
     "execution_count": 380,
     "metadata": {},
     "output_type": "execute_result"
    }
   ],
   "source": [
    "mnb_model_balanced.score(X_val, y_val)"
   ]
  },
  {
   "cell_type": "code",
   "execution_count": 381,
   "metadata": {},
   "outputs": [
    {
     "data": {
      "text/plain": [
       "0.4539473684210526"
      ]
     },
     "execution_count": 381,
     "metadata": {},
     "output_type": "execute_result"
    }
   ],
   "source": [
    "y_predict = mnb_model_balanced.predict(X_val)\n",
    "f1_score(y_val,y_predict)"
   ]
  },
  {
   "cell_type": "code",
   "execution_count": 382,
   "metadata": {},
   "outputs": [
    {
     "name": "stdout",
     "output_type": "stream",
     "text": [
      "Precision: 0.3770,   Recall: 0.5702\n",
      "ROC AUC score: 0.6150 \n"
     ]
    }
   ],
   "source": [
    "y_predict = mnb_model_balanced.predict(X_val)\n",
    "print(\"Precision: {:6.4f},   Recall: {:6.4f}\".format(precision_score(y_val, y_predict), \n",
    "                                                     recall_score(y_val, y_predict)))\n",
    "print(\"ROC AUC score: {:6.4f} \".format(roc_auc_score(y_val, y_predict)))"
   ]
  },
  {
   "cell_type": "code",
   "execution_count": 383,
   "metadata": {},
   "outputs": [],
   "source": [
    "gnb = GaussianNB()\n",
    "gnb_model_balanced = gnb.fit(X_resampled_scaled, y_resampled)"
   ]
  },
  {
   "cell_type": "code",
   "execution_count": 384,
   "metadata": {},
   "outputs": [
    {
     "data": {
      "text/plain": [
       "0.5745614035087719"
      ]
     },
     "execution_count": 384,
     "metadata": {},
     "output_type": "execute_result"
    }
   ],
   "source": [
    "gnb_model_balanced.score(X_val_scaled, y_val)"
   ]
  },
  {
   "cell_type": "code",
   "execution_count": 385,
   "metadata": {},
   "outputs": [
    {
     "data": {
      "text/plain": [
       "0.5025641025641026"
      ]
     },
     "execution_count": 385,
     "metadata": {},
     "output_type": "execute_result"
    }
   ],
   "source": [
    "y_predict = gnb_model_balanced.predict(X_val_scaled)\n",
    "f1_score(y_val,y_predict)"
   ]
  },
  {
   "cell_type": "code",
   "execution_count": 386,
   "metadata": {},
   "outputs": [
    {
     "name": "stdout",
     "output_type": "stream",
     "text": [
      "Precision: 0.3643,   Recall: 0.8099\n",
      "ROC AUC score: 0.6497 \n"
     ]
    }
   ],
   "source": [
    "y_predict = gnb_model_balanced.predict(X_val_scaled)\n",
    "print(\"Precision: {:6.4f},   Recall: {:6.4f}\".format(precision_score(y_val, y_predict), \n",
    "                                                     recall_score(y_val, y_predict)))\n",
    "print(\"ROC AUC score: {:6.4f} \".format(roc_auc_score(y_val, y_predict)))"
   ]
  },
  {
   "cell_type": "code",
   "execution_count": 387,
   "metadata": {},
   "outputs": [
    {
     "name": "stdout",
     "output_type": "stream",
     "text": [
      "[0.72013816 0.6827729  0.68601118 0.65550276 0.72754206]\n",
      "0.6943934140851854\n"
     ]
    }
   ],
   "source": [
    "kf = KFold(n_splits=5, shuffle=True, random_state = 11)\n",
    "scores = cross_val_score(gnb_model_balanced, X_resampled_scaled, y_resampled, cv=kf, scoring='roc_auc')\n",
    "\n",
    "print(scores)\n",
    "print(scores.mean())"
   ]
  },
  {
   "cell_type": "markdown",
   "metadata": {},
   "source": [
    "## SVM"
   ]
  },
  {
   "cell_type": "code",
   "execution_count": 388,
   "metadata": {},
   "outputs": [],
   "source": [
    "Cs = np.arange(9,10,.01)\n",
    "gammas = np.arange(0.0001, 0.0002, 0.0001)\n",
    "param_grid = {'C': Cs, 'gamma' : gammas}\n",
    "\n",
    "grid_search = GridSearchCV(SVC(kernel='linear'), param_grid, cv=5)\n",
    "grid_search.fit(X_resampled_scaled, y_resampled)\n",
    "grid_search.best_params_\n",
    "\n",
    "print(grid_search.best_params_)"
   ]
  },
  {
   "cell_type": "code",
   "execution_count": 435,
   "metadata": {},
   "outputs": [],
   "source": [
    "svm = SVC(kernel=\"linear\", C=9.22, gamma=0.0001, probability=True)\n",
    "svm_model_balanced = svm.fit(X_resampled_scaled, y_resampled)"
   ]
  },
  {
   "cell_type": "code",
   "execution_count": 436,
   "metadata": {},
   "outputs": [
    {
     "data": {
      "text/plain": [
       "0.6710526315789473"
      ]
     },
     "execution_count": 436,
     "metadata": {},
     "output_type": "execute_result"
    }
   ],
   "source": [
    "svm_model_balanced.score(X_val_scaled,y_val)"
   ]
  },
  {
   "cell_type": "code",
   "execution_count": 437,
   "metadata": {},
   "outputs": [
    {
     "data": {
      "text/plain": [
       "0.5481927710843374"
      ]
     },
     "execution_count": 437,
     "metadata": {},
     "output_type": "execute_result"
    }
   ],
   "source": [
    "y_predict = svm_model_balanced.predict(X_val_scaled)\n",
    "f1_score(y_val, y_predict)"
   ]
  },
  {
   "cell_type": "code",
   "execution_count": 438,
   "metadata": {},
   "outputs": [
    {
     "name": "stdout",
     "output_type": "stream",
     "text": [
      "Precision: 0.4313,   Recall: 0.7521\n",
      "ROC AUC score: 0.6969 \n"
     ]
    }
   ],
   "source": [
    "y_predict = svm_model_balanced.predict(X_val_scaled)\n",
    "print(\"Precision: {:6.4f},   Recall: {:6.4f}\".format(precision_score(y_val, y_predict), \n",
    "                                                     recall_score(y_val, y_predict)))\n",
    "print(\"ROC AUC score: {:6.4f} \".format(roc_auc_score(y_val, y_predict)))"
   ]
  },
  {
   "cell_type": "code",
   "execution_count": 439,
   "metadata": {},
   "outputs": [
    {
     "name": "stdout",
     "output_type": "stream",
     "text": [
      "[0.73015142 0.6910779  0.70123218 0.7051061  0.73944882]\n",
      "0.7134032844731815\n"
     ]
    }
   ],
   "source": [
    "kf = KFold(n_splits=5, shuffle=True, random_state = 11)\n",
    "scores = cross_val_score(svm_model_balanced, X_resampled_scaled, y_resampled, cv=kf, scoring='roc_auc')\n",
    "\n",
    "print(scores)\n",
    "print(scores.mean())"
   ]
  },
  {
   "cell_type": "code",
   "execution_count": 440,
   "metadata": {},
   "outputs": [],
   "source": [
    "def print_confusion_matrix(confusion_matrix, class_names, figsize = (10,7), fontsize=18):\n",
    "\n",
    "    df_cm = pd.DataFrame(confusion_matrix, index=class_names, columns=class_names, )\n",
    "    fig = plt.figure(figsize=figsize)\n",
    "    try:\n",
    "        heatmap = sns.heatmap(df_cm, annot=True, fmt=\"d\")\n",
    "    except ValueError:\n",
    "        raise ValueError(\"Confusion matrix values must be integers.\")\n",
    "    heatmap.yaxis.set_ticklabels(heatmap.yaxis.get_ticklabels(), rotation=0, ha='right', fontsize=fontsize)\n",
    "    heatmap.xaxis.set_ticklabels(heatmap.xaxis.get_ticklabels(), rotation=45, ha='right', fontsize=fontsize)\n",
    "    plt.ylabel('True label')\n",
    "    plt.xlabel('Predicted label')\n",
    "    return fig"
   ]
  },
  {
   "cell_type": "code",
   "execution_count": 396,
   "metadata": {},
   "outputs": [
    {
     "data": {
      "image/png": "[encoded data removed]",
      "text/plain": [
       "<Figure size 720x504 with 2 Axes>"
      ]
     },
     "metadata": {},
     "output_type": "display_data"
    }
   ],
   "source": [
    "cm = print_confusion_matrix(confusion_matrix(y_val, y_predict), ['Class 0', 'Class 1'])"
   ]
  },
  {
   "cell_type": "markdown",
   "metadata": {},
   "source": [
    "## Random Forest"
   ]
  },
  {
   "cell_type": "code",
   "execution_count": 397,
   "metadata": {},
   "outputs": [
    {
     "name": "stderr",
     "output_type": "stream",
     "text": [
      "/anaconda3/lib/python3.6/site-packages/sklearn/ensemble/forest.py:246: FutureWarning: The default value of n_estimators will change from 10 in version 0.20 to 100 in 0.22.\n",
      "  \"10 in version 0.20 to 100 in 0.22.\", FutureWarning)\n"
     ]
    }
   ],
   "source": [
    "randomforest = RandomForestClassifier()\n",
    "rand_for_model_balanced = randomforest.fit(X_resampled_scaled,y_resampled)"
   ]
  },
  {
   "cell_type": "code",
   "execution_count": 398,
   "metadata": {},
   "outputs": [
    {
     "data": {
      "text/plain": [
       "0.7171052631578947"
      ]
     },
     "execution_count": 398,
     "metadata": {},
     "output_type": "execute_result"
    }
   ],
   "source": [
    "rand_for_model_balanced.score(X_val_scaled,y_val)"
   ]
  },
  {
   "cell_type": "code",
   "execution_count": 399,
   "metadata": {},
   "outputs": [
    {
     "data": {
      "text/plain": [
       "0.37073170731707317"
      ]
     },
     "execution_count": 399,
     "metadata": {},
     "output_type": "execute_result"
    }
   ],
   "source": [
    "y_predict = rand_for_model_balanced.predict(X_val_scaled)\n",
    "f1_score(y_val, y_predict)"
   ]
  },
  {
   "cell_type": "code",
   "execution_count": 400,
   "metadata": {},
   "outputs": [
    {
     "name": "stdout",
     "output_type": "stream",
     "text": [
      "Precision: 0.4524,   Recall: 0.3140\n",
      "ROC AUC score: 0.5884 \n"
     ]
    }
   ],
   "source": [
    "y_predict = rand_for_model_balanced.predict(X_val_scaled)\n",
    "print(\"Precision: {:6.4f},   Recall: {:6.4f}\".format(precision_score(y_val, y_predict), \n",
    "                                                     recall_score(y_val, y_predict)))\n",
    "print(\"ROC AUC score: {:6.4f} \".format(roc_auc_score(y_val, y_predict)))"
   ]
  },
  {
   "cell_type": "code",
   "execution_count": 403,
   "metadata": {},
   "outputs": [
    {
     "name": "stdout",
     "output_type": "stream",
     "text": [
      "[0.92938385 0.93376992 0.94411998 0.94346565 0.93251439]\n",
      "0.9366507601042763\n"
     ]
    }
   ],
   "source": [
    "kf = KFold(n_splits=5, shuffle=True, random_state = 11)\n",
    "scores = cross_val_score(rand_for_model_balanced, X_resampled_scaled, y_resampled, cv=kf, scoring='roc_auc')\n",
    "\n",
    "print(scores)\n",
    "print(scores.mean())"
   ]
  },
  {
   "cell_type": "markdown",
   "metadata": {},
   "source": [
    "# Synthetic Oversampling"
   ]
  },
  {
   "cell_type": "code",
   "execution_count": 425,
   "metadata": {},
   "outputs": [
    {
     "data": {
      "text/plain": [
       "Counter({0: 1339, 1: 1339})"
      ]
     },
     "execution_count": 425,
     "metadata": {},
     "output_type": "execute_result"
    }
   ],
   "source": [
    "X_smoted, y_smoted = SMOTE(random_state=11).fit_sample(X_scaled,y)\n",
    "\n",
    "Counter(y_smoted)"
   ]
  },
  {
   "cell_type": "code",
   "execution_count": 476,
   "metadata": {},
   "outputs": [],
   "source": [
    "smote_svm = SVC(probability=True).fit(X_smoted, y_smoted)"
   ]
  },
  {
   "cell_type": "code",
   "execution_count": 427,
   "metadata": {},
   "outputs": [
    {
     "data": {
      "text/plain": [
       "0.7083333333333334"
      ]
     },
     "execution_count": 427,
     "metadata": {},
     "output_type": "execute_result"
    }
   ],
   "source": [
    "smote_svm.score(X_val_scaled, y_val)"
   ]
  },
  {
   "cell_type": "code",
   "execution_count": 428,
   "metadata": {},
   "outputs": [
    {
     "data": {
      "text/plain": [
       "0.5429553264604812"
      ]
     },
     "execution_count": 428,
     "metadata": {},
     "output_type": "execute_result"
    }
   ],
   "source": [
    "y_predict = smote_svm.predict(X_val_scaled)\n",
    "f1_score(y_val, y_predict)"
   ]
  },
  {
   "cell_type": "code",
   "execution_count": 429,
   "metadata": {},
   "outputs": [
    {
     "name": "stdout",
     "output_type": "stream",
     "text": [
      "Precision: 0.4647,   Recall: 0.6529\n",
      "ROC AUC score: 0.6906 \n"
     ]
    }
   ],
   "source": [
    "y_predict = smote_svm.predict(X_val_scaled)\n",
    "print(\"Precision: {:6.4f},   Recall: {:6.4f}\".format(precision_score(y_val, y_predict), \n",
    "                                                     recall_score(y_val, y_predict)))\n",
    "print(\"ROC AUC score: {:6.4f} \".format(roc_auc_score(y_val, y_predict)))"
   ]
  },
  {
   "cell_type": "code",
   "execution_count": 409,
   "metadata": {},
   "outputs": [
    {
     "data": {
      "image/png": "[encoded data removed]",
      "text/plain": [
       "<Figure size 720x504 with 2 Axes>"
      ]
     },
     "metadata": {},
     "output_type": "display_data"
    }
   ],
   "source": [
    "cm = print_confusion_matrix(confusion_matrix(y_val, y_predict), ['Class 0', 'Class 1'])"
   ]
  },
  {
   "cell_type": "code",
   "execution_count": 430,
   "metadata": {},
   "outputs": [],
   "source": [
    "X_adasyn, y_adasyn = ADASYN(random_state=11).fit_sample(X_scaled,y)"
   ]
  },
  {
   "cell_type": "code",
   "execution_count": 477,
   "metadata": {},
   "outputs": [],
   "source": [
    "adasyn_svm = SVC(probability=True).fit(X_adasyn, y_adasyn)"
   ]
  },
  {
   "cell_type": "code",
   "execution_count": 432,
   "metadata": {},
   "outputs": [
    {
     "data": {
      "text/plain": [
       "0.6820175438596491"
      ]
     },
     "execution_count": 432,
     "metadata": {},
     "output_type": "execute_result"
    }
   ],
   "source": [
    "adasyn_svm.score(X_val_scaled, y_val)"
   ]
  },
  {
   "cell_type": "code",
   "execution_count": 433,
   "metadata": {},
   "outputs": [
    {
     "data": {
      "text/plain": [
       "0.5482866043613708"
      ]
     },
     "execution_count": 433,
     "metadata": {},
     "output_type": "execute_result"
    }
   ],
   "source": [
    "y_predict = adasyn_svm.predict(X_val_scaled)\n",
    "f1_score(y_val, y_predict)"
   ]
  },
  {
   "cell_type": "code",
   "execution_count": 434,
   "metadata": {},
   "outputs": [
    {
     "name": "stdout",
     "output_type": "stream",
     "text": [
      "Precision: 0.4400,   Recall: 0.7273\n",
      "ROC AUC score: 0.6965 \n"
     ]
    }
   ],
   "source": [
    "y_predict = adasyn_svm.predict(X_val_scaled)\n",
    "print(\"Precision: {:6.4f},   Recall: {:6.4f}\".format(precision_score(y_val, y_predict), \n",
    "                                                     recall_score(y_val, y_predict)))\n",
    "print(\"ROC AUC score: {:6.4f} \".format(roc_auc_score(y_val, y_predict)))"
   ]
  },
  {
   "cell_type": "markdown",
   "metadata": {},
   "source": [
    "## Ensembling"
   ]
  },
  {
   "cell_type": "code",
   "execution_count": 415,
   "metadata": {},
   "outputs": [],
   "source": [
    "pickle.dump(log_model_balanced, open('log_model_balanced.pkl', 'wb'))\n",
    "pickle.dump(knn_model_balanced, open('knn_model_balanced.pkl', 'wb'))\n",
    "pickle.dump(gnb_model_balanced, open('gnb_model_balanced.pkl', 'wb'))\n",
    "pickle.dump(svm_model_balanced, open('svm_model_balanced.pkl', 'wb'))\n",
    "pickle.dump(rand_for_model_balanced, open('rand_for_model_balanced.pkl', 'wb'))\n",
    "pickle.dump(smote_svm, open('smote_svm.pkl', 'wb'))\n",
    "pickle.dump(adasyn_svm, open('adasyn_svm.pkl', 'wb'))"
   ]
  },
  {
   "cell_type": "code",
   "execution_count": 416,
   "metadata": {},
   "outputs": [],
   "source": [
    "model_names = [\"log_model_balanced\", \"knn_model_balanced\", \"gnb_model_balanced\", \"svm_model_balanced\", \"rand_for_model_balanced\", \"smote_svm\", \"adasyn_svm\"]\n",
    "\n",
    "for model in model_names:\n",
    "    with open(f\"{model}.pkl\", \"rb\") as pfile:\n",
    "        exec(f\"{model} = pickle.load(pfile)\")\n",
    "\n",
    "model_vars = [eval(n) for n in model_names]\n",
    "model_list = list(zip(model_names, model_vars))"
   ]
  },
  {
   "cell_type": "code",
   "execution_count": 417,
   "metadata": {},
   "outputs": [
    {
     "name": "stdout",
     "output_type": "stream",
     "text": [
      "log_model_balanced score: 0.6732456140350878\n",
      "knn_model_balanced score: 0.6337719298245614\n",
      "gnb_model_balanced score: 0.5745614035087719\n",
      "svm_model_balanced score: 0.6710526315789473\n",
      "rand_for_model_balanced score: 0.7171052631578947\n",
      "smote_svm score: 0.7083333333333334\n",
      "adasyn_svm score: 0.6820175438596491\n"
     ]
    }
   ],
   "source": [
    "for model in model_names:\n",
    "    curr_model = eval(model)\n",
    "    print(f'{model} score: {curr_model.score(X_val_scaled, y_val)}')"
   ]
  },
  {
   "cell_type": "markdown",
   "metadata": {},
   "source": [
    "### Max Voting"
   ]
  },
  {
   "cell_type": "code",
   "execution_count": 449,
   "metadata": {},
   "outputs": [
    {
     "data": {
      "text/plain": [
       "VotingClassifier(estimators=[('log_model_balanced', LogisticRegression(C=1.0, class_weight=None, dual=False, fit_intercept=True,\n",
       "          intercept_scaling=1, max_iter=100, multi_class='warn',\n",
       "          n_jobs=None, penalty='l2', random_state=None, solver='warn',\n",
       "          tol=0.0001, verbose=0, warm_start=False)),...f', max_iter=-1, probability=False, random_state=None,\n",
       "  shrinking=True, tol=0.001, verbose=False))],\n",
       "         flatten_transform=None, n_jobs=-1, voting='hard', weights=None)"
      ]
     },
     "execution_count": 449,
     "metadata": {},
     "output_type": "execute_result"
    }
   ],
   "source": [
    "voting_classifer = VotingClassifier(estimators= model_list, voting='hard', n_jobs=-1)\n",
    "voting_classifer.fit(X_resampled_scaled, y_resampled)"
   ]
  },
  {
   "cell_type": "code",
   "execution_count": 450,
   "metadata": {},
   "outputs": [
    {
     "data": {
      "text/plain": [
       "0.668859649122807"
      ]
     },
     "execution_count": 450,
     "metadata": {},
     "output_type": "execute_result"
    }
   ],
   "source": [
    "y_pred = voting_classifer.predict(X_val_scaled)\n",
    "accuracy_score(y_val, y_pred)"
   ]
  },
  {
   "cell_type": "markdown",
   "metadata": {},
   "source": [
    "## Test Set"
   ]
  },
  {
   "cell_type": "code",
   "execution_count": 478,
   "metadata": {},
   "outputs": [],
   "source": [
    "testdata = pd.read_pickle(\"./testdata.pkl\")"
   ]
  },
  {
   "cell_type": "code",
   "execution_count": 479,
   "metadata": {},
   "outputs": [
    {
     "data": {
      "text/html": [
       "<div>\n",
       "<style scoped>\n",
       "    .dataframe tbody tr th:only-of-type {\n",
       "        vertical-align: middle;\n",
       "    }\n",
       "\n",
       "    .dataframe tbody tr th {\n",
       "        vertical-align: top;\n",
       "    }\n",
       "\n",
       "    .dataframe thead th {\n",
       "        text-align: right;\n",
       "    }\n",
       "</style>\n",
       "<table border=\"1\" class=\"dataframe\">\n",
       "  <thead>\n",
       "    <tr style=\"text-align: right;\">\n",
       "      <th></th>\n",
       "      <th>Name</th>\n",
       "      <th>Age</th>\n",
       "      <th>past_surgery</th>\n",
       "      <th>Lefty</th>\n",
       "      <th>win_percent</th>\n",
       "      <th>ERA</th>\n",
       "      <th>games_played</th>\n",
       "      <th>h_ip</th>\n",
       "      <th>bb_ip</th>\n",
       "      <th>so_ip</th>\n",
       "      <th>...</th>\n",
       "      <th>Max_Speed</th>\n",
       "      <th>Changeup</th>\n",
       "      <th>Curve</th>\n",
       "      <th>Sinker</th>\n",
       "      <th>Cutter</th>\n",
       "      <th>Fastball</th>\n",
       "      <th>Splitter</th>\n",
       "      <th>Knuckle</th>\n",
       "      <th>Slider</th>\n",
       "      <th>injured</th>\n",
       "    </tr>\n",
       "  </thead>\n",
       "  <tbody>\n",
       "    <tr>\n",
       "      <th>0</th>\n",
       "      <td>A.J. Achter</td>\n",
       "      <td>27.0</td>\n",
       "      <td>0</td>\n",
       "      <td>0</td>\n",
       "      <td>0.666667</td>\n",
       "      <td>4.376667</td>\n",
       "      <td>45</td>\n",
       "      <td>9.966667</td>\n",
       "      <td>3.166667</td>\n",
       "      <td>5.633333</td>\n",
       "      <td>...</td>\n",
       "      <td>92.0</td>\n",
       "      <td>0.274412</td>\n",
       "      <td>0.000000</td>\n",
       "      <td>0.000000</td>\n",
       "      <td>0.077207</td>\n",
       "      <td>0.431930</td>\n",
       "      <td>0.0</td>\n",
       "      <td>0.0</td>\n",
       "      <td>0.149580</td>\n",
       "      <td>0</td>\n",
       "    </tr>\n",
       "    <tr>\n",
       "      <th>1</th>\n",
       "      <td>A.J. Burnett</td>\n",
       "      <td>38.0</td>\n",
       "      <td>0</td>\n",
       "      <td>0</td>\n",
       "      <td>0.449000</td>\n",
       "      <td>3.690000</td>\n",
       "      <td>90</td>\n",
       "      <td>8.633333</td>\n",
       "      <td>3.300000</td>\n",
       "      <td>8.533333</td>\n",
       "      <td>...</td>\n",
       "      <td>91.0</td>\n",
       "      <td>0.074545</td>\n",
       "      <td>0.228333</td>\n",
       "      <td>0.166467</td>\n",
       "      <td>0.000000</td>\n",
       "      <td>0.431949</td>\n",
       "      <td>0.0</td>\n",
       "      <td>0.0</td>\n",
       "      <td>0.000000</td>\n",
       "      <td>0</td>\n",
       "    </tr>\n",
       "    <tr>\n",
       "      <th>2</th>\n",
       "      <td>A.J. Cole</td>\n",
       "      <td>25.0</td>\n",
       "      <td>0</td>\n",
       "      <td>0</td>\n",
       "      <td>0.236000</td>\n",
       "      <td>4.923333</td>\n",
       "      <td>22</td>\n",
       "      <td>10.333333</td>\n",
       "      <td>3.000000</td>\n",
       "      <td>8.500000</td>\n",
       "      <td>...</td>\n",
       "      <td>93.0</td>\n",
       "      <td>0.108826</td>\n",
       "      <td>0.105452</td>\n",
       "      <td>0.000000</td>\n",
       "      <td>0.000353</td>\n",
       "      <td>0.465216</td>\n",
       "      <td>0.0</td>\n",
       "      <td>0.0</td>\n",
       "      <td>0.184095</td>\n",
       "      <td>1</td>\n",
       "    </tr>\n",
       "    <tr>\n",
       "      <th>3</th>\n",
       "      <td>A.J. Griffin</td>\n",
       "      <td>29.0</td>\n",
       "      <td>1</td>\n",
       "      <td>0</td>\n",
       "      <td>0.573000</td>\n",
       "      <td>4.946667</td>\n",
       "      <td>73</td>\n",
       "      <td>8.433333</td>\n",
       "      <td>3.066667</td>\n",
       "      <td>7.633333</td>\n",
       "      <td>...</td>\n",
       "      <td>86.0</td>\n",
       "      <td>0.114454</td>\n",
       "      <td>0.216908</td>\n",
       "      <td>0.000000</td>\n",
       "      <td>0.026592</td>\n",
       "      <td>0.550025</td>\n",
       "      <td>0.0</td>\n",
       "      <td>0.0</td>\n",
       "      <td>0.087599</td>\n",
       "      <td>0</td>\n",
       "    </tr>\n",
       "    <tr>\n",
       "      <th>4</th>\n",
       "      <td>A.J. Minter</td>\n",
       "      <td>23.0</td>\n",
       "      <td>0</td>\n",
       "      <td>1</td>\n",
       "      <td>0.000000</td>\n",
       "      <td>3.000000</td>\n",
       "      <td>16</td>\n",
       "      <td>7.800000</td>\n",
       "      <td>1.200000</td>\n",
       "      <td>15.600000</td>\n",
       "      <td>...</td>\n",
       "      <td>92.0</td>\n",
       "      <td>0.000000</td>\n",
       "      <td>0.000000</td>\n",
       "      <td>0.000000</td>\n",
       "      <td>0.487903</td>\n",
       "      <td>0.512097</td>\n",
       "      <td>0.0</td>\n",
       "      <td>0.0</td>\n",
       "      <td>0.000000</td>\n",
       "      <td>0</td>\n",
       "    </tr>\n",
       "    <tr>\n",
       "      <th>5</th>\n",
       "      <td>A.J. Morris</td>\n",
       "      <td>29.0</td>\n",
       "      <td>0</td>\n",
       "      <td>0</td>\n",
       "      <td>0.000000</td>\n",
       "      <td>6.300000</td>\n",
       "      <td>7</td>\n",
       "      <td>8.100000</td>\n",
       "      <td>7.200000</td>\n",
       "      <td>8.100000</td>\n",
       "      <td>...</td>\n",
       "      <td>89.0</td>\n",
       "      <td>0.000000</td>\n",
       "      <td>0.000000</td>\n",
       "      <td>0.000000</td>\n",
       "      <td>0.526042</td>\n",
       "      <td>0.281250</td>\n",
       "      <td>0.0</td>\n",
       "      <td>0.0</td>\n",
       "      <td>0.192708</td>\n",
       "      <td>0</td>\n",
       "    </tr>\n",
       "    <tr>\n",
       "      <th>6</th>\n",
       "      <td>A.J. Schugel</td>\n",
       "      <td>28.0</td>\n",
       "      <td>0</td>\n",
       "      <td>0</td>\n",
       "      <td>0.500000</td>\n",
       "      <td>3.533333</td>\n",
       "      <td>73</td>\n",
       "      <td>10.933333</td>\n",
       "      <td>3.733333</td>\n",
       "      <td>6.866667</td>\n",
       "      <td>...</td>\n",
       "      <td>82.0</td>\n",
       "      <td>0.339528</td>\n",
       "      <td>0.068658</td>\n",
       "      <td>0.546519</td>\n",
       "      <td>0.000000</td>\n",
       "      <td>0.034825</td>\n",
       "      <td>0.0</td>\n",
       "      <td>0.0</td>\n",
       "      <td>0.000000</td>\n",
       "      <td>0</td>\n",
       "    </tr>\n",
       "    <tr>\n",
       "      <th>7</th>\n",
       "      <td>Aaron Barrett</td>\n",
       "      <td>27.0</td>\n",
       "      <td>1</td>\n",
       "      <td>0</td>\n",
       "      <td>0.750000</td>\n",
       "      <td>3.630000</td>\n",
       "      <td>90</td>\n",
       "      <td>7.950000</td>\n",
       "      <td>3.250000</td>\n",
       "      <td>10.750000</td>\n",
       "      <td>...</td>\n",
       "      <td>95.0</td>\n",
       "      <td>0.016353</td>\n",
       "      <td>0.000000</td>\n",
       "      <td>0.000000</td>\n",
       "      <td>0.000000</td>\n",
       "      <td>0.390979</td>\n",
       "      <td>0.0</td>\n",
       "      <td>0.0</td>\n",
       "      <td>0.369979</td>\n",
       "      <td>0</td>\n",
       "    </tr>\n",
       "    <tr>\n",
       "      <th>8</th>\n",
       "      <td>Aaron Blair</td>\n",
       "      <td>25.0</td>\n",
       "      <td>0</td>\n",
       "      <td>0</td>\n",
       "      <td>0.111000</td>\n",
       "      <td>11.295000</td>\n",
       "      <td>16</td>\n",
       "      <td>12.750000</td>\n",
       "      <td>9.700000</td>\n",
       "      <td>7.450000</td>\n",
       "      <td>...</td>\n",
       "      <td>81.0</td>\n",
       "      <td>0.164613</td>\n",
       "      <td>0.154239</td>\n",
       "      <td>0.000000</td>\n",
       "      <td>0.000000</td>\n",
       "      <td>0.266447</td>\n",
       "      <td>0.0</td>\n",
       "      <td>0.0</td>\n",
       "      <td>0.120000</td>\n",
       "      <td>0</td>\n",
       "    </tr>\n",
       "    <tr>\n",
       "      <th>9</th>\n",
       "      <td>Aaron Brooks</td>\n",
       "      <td>25.0</td>\n",
       "      <td>0</td>\n",
       "      <td>0</td>\n",
       "      <td>0.143000</td>\n",
       "      <td>25.208333</td>\n",
       "      <td>28</td>\n",
       "      <td>26.283333</td>\n",
       "      <td>5.850000</td>\n",
       "      <td>6.500000</td>\n",
       "      <td>...</td>\n",
       "      <td>0.0</td>\n",
       "      <td>0.203715</td>\n",
       "      <td>0.026904</td>\n",
       "      <td>0.000000</td>\n",
       "      <td>0.000000</td>\n",
       "      <td>0.515020</td>\n",
       "      <td>0.0</td>\n",
       "      <td>0.0</td>\n",
       "      <td>0.158316</td>\n",
       "      <td>0</td>\n",
       "    </tr>\n",
       "  </tbody>\n",
       "</table>\n",
       "<p>10 rows × 22 columns</p>\n",
       "</div>"
      ],
      "text/plain": [
       "            Name   Age  past_surgery  Lefty  win_percent        ERA  \\\n",
       "0    A.J. Achter  27.0             0      0     0.666667   4.376667   \n",
       "1   A.J. Burnett  38.0             0      0     0.449000   3.690000   \n",
       "2      A.J. Cole  25.0             0      0     0.236000   4.923333   \n",
       "3   A.J. Griffin  29.0             1      0     0.573000   4.946667   \n",
       "4    A.J. Minter  23.0             0      1     0.000000   3.000000   \n",
       "5    A.J. Morris  29.0             0      0     0.000000   6.300000   \n",
       "6   A.J. Schugel  28.0             0      0     0.500000   3.533333   \n",
       "7  Aaron Barrett  27.0             1      0     0.750000   3.630000   \n",
       "8    Aaron Blair  25.0             0      0     0.111000  11.295000   \n",
       "9   Aaron Brooks  25.0             0      0     0.143000  25.208333   \n",
       "\n",
       "   games_played       h_ip     bb_ip      so_ip  ...  Max_Speed  Changeup  \\\n",
       "0            45   9.966667  3.166667   5.633333  ...       92.0  0.274412   \n",
       "1            90   8.633333  3.300000   8.533333  ...       91.0  0.074545   \n",
       "2            22  10.333333  3.000000   8.500000  ...       93.0  0.108826   \n",
       "3            73   8.433333  3.066667   7.633333  ...       86.0  0.114454   \n",
       "4            16   7.800000  1.200000  15.600000  ...       92.0  0.000000   \n",
       "5             7   8.100000  7.200000   8.100000  ...       89.0  0.000000   \n",
       "6            73  10.933333  3.733333   6.866667  ...       82.0  0.339528   \n",
       "7            90   7.950000  3.250000  10.750000  ...       95.0  0.016353   \n",
       "8            16  12.750000  9.700000   7.450000  ...       81.0  0.164613   \n",
       "9            28  26.283333  5.850000   6.500000  ...        0.0  0.203715   \n",
       "\n",
       "      Curve    Sinker    Cutter  Fastball  Splitter  Knuckle    Slider  \\\n",
       "0  0.000000  0.000000  0.077207  0.431930       0.0      0.0  0.149580   \n",
       "1  0.228333  0.166467  0.000000  0.431949       0.0      0.0  0.000000   \n",
       "2  0.105452  0.000000  0.000353  0.465216       0.0      0.0  0.184095   \n",
       "3  0.216908  0.000000  0.026592  0.550025       0.0      0.0  0.087599   \n",
       "4  0.000000  0.000000  0.487903  0.512097       0.0      0.0  0.000000   \n",
       "5  0.000000  0.000000  0.526042  0.281250       0.0      0.0  0.192708   \n",
       "6  0.068658  0.546519  0.000000  0.034825       0.0      0.0  0.000000   \n",
       "7  0.000000  0.000000  0.000000  0.390979       0.0      0.0  0.369979   \n",
       "8  0.154239  0.000000  0.000000  0.266447       0.0      0.0  0.120000   \n",
       "9  0.026904  0.000000  0.000000  0.515020       0.0      0.0  0.158316   \n",
       "\n",
       "   injured  \n",
       "0        0  \n",
       "1        0  \n",
       "2        1  \n",
       "3        0  \n",
       "4        0  \n",
       "5        0  \n",
       "6        0  \n",
       "7        0  \n",
       "8        0  \n",
       "9        0  \n",
       "\n",
       "[10 rows x 22 columns]"
      ]
     },
     "execution_count": 479,
     "metadata": {},
     "output_type": "execute_result"
    }
   ],
   "source": [
    "testdata.head(10)"
   ]
  },
  {
   "cell_type": "code",
   "execution_count": 480,
   "metadata": {},
   "outputs": [],
   "source": [
    "X_test = testdata.drop(columns=['Name', 'injured'], axis=1)\n",
    "y_test = testdata.injured"
   ]
  },
  {
   "cell_type": "code",
   "execution_count": 481,
   "metadata": {},
   "outputs": [],
   "source": [
    "X = traindata.drop(columns=['Name', 'injured'], axis=1)\n",
    "y = traindata.injured"
   ]
  },
  {
   "cell_type": "code",
   "execution_count": 482,
   "metadata": {},
   "outputs": [
    {
     "data": {
      "text/html": [
       "<div>\n",
       "<style scoped>\n",
       "    .dataframe tbody tr th:only-of-type {\n",
       "        vertical-align: middle;\n",
       "    }\n",
       "\n",
       "    .dataframe tbody tr th {\n",
       "        vertical-align: top;\n",
       "    }\n",
       "\n",
       "    .dataframe thead th {\n",
       "        text-align: right;\n",
       "    }\n",
       "</style>\n",
       "<table border=\"1\" class=\"dataframe\">\n",
       "  <thead>\n",
       "    <tr style=\"text-align: right;\">\n",
       "      <th></th>\n",
       "      <th>Age</th>\n",
       "      <th>past_surgery</th>\n",
       "      <th>Lefty</th>\n",
       "      <th>win_percent</th>\n",
       "      <th>ERA</th>\n",
       "      <th>games_played</th>\n",
       "      <th>h_ip</th>\n",
       "      <th>bb_ip</th>\n",
       "      <th>so_ip</th>\n",
       "      <th>avg_innings_per_game</th>\n",
       "      <th>avg_batters_per_game</th>\n",
       "      <th>Max_Speed</th>\n",
       "      <th>Changeup</th>\n",
       "      <th>Curve</th>\n",
       "      <th>Sinker</th>\n",
       "      <th>Cutter</th>\n",
       "      <th>Fastball</th>\n",
       "      <th>Splitter</th>\n",
       "      <th>Knuckle</th>\n",
       "      <th>Slider</th>\n",
       "    </tr>\n",
       "  </thead>\n",
       "  <tbody>\n",
       "    <tr>\n",
       "      <th>0</th>\n",
       "      <td>25.0</td>\n",
       "      <td>0</td>\n",
       "      <td>0</td>\n",
       "      <td>1.000</td>\n",
       "      <td>3.270</td>\n",
       "      <td>7</td>\n",
       "      <td>11.5</td>\n",
       "      <td>2.5</td>\n",
       "      <td>4.1</td>\n",
       "      <td>1.571429</td>\n",
       "      <td>7.00000</td>\n",
       "      <td>92.0</td>\n",
       "      <td>0.213</td>\n",
       "      <td>0.0000</td>\n",
       "      <td>0.0</td>\n",
       "      <td>0.000</td>\n",
       "      <td>0.6210</td>\n",
       "      <td>0.0</td>\n",
       "      <td>0.0</td>\n",
       "      <td>0.166</td>\n",
       "    </tr>\n",
       "    <tr>\n",
       "      <th>1</th>\n",
       "      <td>37.0</td>\n",
       "      <td>0</td>\n",
       "      <td>0</td>\n",
       "      <td>0.392</td>\n",
       "      <td>3.945</td>\n",
       "      <td>64</td>\n",
       "      <td>8.2</td>\n",
       "      <td>3.6</td>\n",
       "      <td>8.9</td>\n",
       "      <td>6.318627</td>\n",
       "      <td>27.10000</td>\n",
       "      <td>91.0</td>\n",
       "      <td>0.068</td>\n",
       "      <td>0.3425</td>\n",
       "      <td>0.0</td>\n",
       "      <td>0.000</td>\n",
       "      <td>0.5895</td>\n",
       "      <td>0.0</td>\n",
       "      <td>0.0</td>\n",
       "      <td>0.000</td>\n",
       "    </tr>\n",
       "    <tr>\n",
       "      <th>2</th>\n",
       "      <td>25.0</td>\n",
       "      <td>0</td>\n",
       "      <td>0</td>\n",
       "      <td>0.583</td>\n",
       "      <td>3.830</td>\n",
       "      <td>32</td>\n",
       "      <td>7.7</td>\n",
       "      <td>2.4</td>\n",
       "      <td>7.7</td>\n",
       "      <td>6.250000</td>\n",
       "      <td>25.71875</td>\n",
       "      <td>86.0</td>\n",
       "      <td>0.138</td>\n",
       "      <td>0.1590</td>\n",
       "      <td>0.0</td>\n",
       "      <td>0.023</td>\n",
       "      <td>0.5860</td>\n",
       "      <td>0.0</td>\n",
       "      <td>0.0</td>\n",
       "      <td>0.095</td>\n",
       "    </tr>\n",
       "    <tr>\n",
       "      <th>3</th>\n",
       "      <td>26.0</td>\n",
       "      <td>0</td>\n",
       "      <td>0</td>\n",
       "      <td>1.000</td>\n",
       "      <td>2.660</td>\n",
       "      <td>50</td>\n",
       "      <td>7.3</td>\n",
       "      <td>4.4</td>\n",
       "      <td>10.8</td>\n",
       "      <td>0.804000</td>\n",
       "      <td>3.48000</td>\n",
       "      <td>95.0</td>\n",
       "      <td>0.018</td>\n",
       "      <td>0.0000</td>\n",
       "      <td>0.0</td>\n",
       "      <td>0.000</td>\n",
       "      <td>0.6370</td>\n",
       "      <td>0.0</td>\n",
       "      <td>0.0</td>\n",
       "      <td>0.345</td>\n",
       "    </tr>\n",
       "    <tr>\n",
       "      <th>4</th>\n",
       "      <td>24.0</td>\n",
       "      <td>0</td>\n",
       "      <td>0</td>\n",
       "      <td>0.000</td>\n",
       "      <td>43.880</td>\n",
       "      <td>2</td>\n",
       "      <td>40.5</td>\n",
       "      <td>10.1</td>\n",
       "      <td>6.8</td>\n",
       "      <td>1.100000</td>\n",
       "      <td>12.00000</td>\n",
       "      <td>0.0</td>\n",
       "      <td>0.195</td>\n",
       "      <td>0.0120</td>\n",
       "      <td>0.0</td>\n",
       "      <td>0.000</td>\n",
       "      <td>0.6210</td>\n",
       "      <td>0.0</td>\n",
       "      <td>0.0</td>\n",
       "      <td>0.172</td>\n",
       "    </tr>\n",
       "  </tbody>\n",
       "</table>\n",
       "</div>"
      ],
      "text/plain": [
       "    Age  past_surgery  Lefty  win_percent     ERA  games_played  h_ip  bb_ip  \\\n",
       "0  25.0             0      0        1.000   3.270             7  11.5    2.5   \n",
       "1  37.0             0      0        0.392   3.945            64   8.2    3.6   \n",
       "2  25.0             0      0        0.583   3.830            32   7.7    2.4   \n",
       "3  26.0             0      0        1.000   2.660            50   7.3    4.4   \n",
       "4  24.0             0      0        0.000  43.880             2  40.5   10.1   \n",
       "\n",
       "   so_ip  avg_innings_per_game  avg_batters_per_game  Max_Speed  Changeup  \\\n",
       "0    4.1              1.571429               7.00000       92.0     0.213   \n",
       "1    8.9              6.318627              27.10000       91.0     0.068   \n",
       "2    7.7              6.250000              25.71875       86.0     0.138   \n",
       "3   10.8              0.804000               3.48000       95.0     0.018   \n",
       "4    6.8              1.100000              12.00000        0.0     0.195   \n",
       "\n",
       "    Curve  Sinker  Cutter  Fastball  Splitter  Knuckle  Slider  \n",
       "0  0.0000     0.0   0.000    0.6210       0.0      0.0   0.166  \n",
       "1  0.3425     0.0   0.000    0.5895       0.0      0.0   0.000  \n",
       "2  0.1590     0.0   0.023    0.5860       0.0      0.0   0.095  \n",
       "3  0.0000     0.0   0.000    0.6370       0.0      0.0   0.345  \n",
       "4  0.0120     0.0   0.000    0.6210       0.0      0.0   0.172  "
      ]
     },
     "execution_count": 482,
     "metadata": {},
     "output_type": "execute_result"
    }
   ],
   "source": [
    "X.head()"
   ]
  },
  {
   "cell_type": "code",
   "execution_count": 483,
   "metadata": {},
   "outputs": [],
   "source": [
    "ros = RandomOverSampler(random_state=0)\n",
    "X_resampled, y_resampled = ros.fit_sample(X,y)\n",
    "\n",
    "scaler = StandardScaler()\n",
    "X_scaled = scaler.fit_transform(X_resampled)\n",
    "X_test_scaled = scaler.transform(X_test)"
   ]
  },
  {
   "cell_type": "code",
   "execution_count": 484,
   "metadata": {},
   "outputs": [],
   "source": [
    "svm = LinearSVC(C=9.22)\n",
    "clf = CalibratedClassifierCV(svm) \n",
    "svm_model_balanced = clf.fit(X_scaled, y_resampled)"
   ]
  },
  {
   "cell_type": "code",
   "execution_count": 333,
   "metadata": {},
   "outputs": [
    {
     "data": {
      "text/plain": [
       "0.7201800450112528"
      ]
     },
     "execution_count": 333,
     "metadata": {},
     "output_type": "execute_result"
    }
   ],
   "source": [
    "svm_model_balanced.score(X_test_scaled,y_test)"
   ]
  },
  {
   "cell_type": "code",
   "execution_count": 334,
   "metadata": {},
   "outputs": [
    {
     "data": {
      "text/plain": [
       "0.48693259972489694"
      ]
     },
     "execution_count": 334,
     "metadata": {},
     "output_type": "execute_result"
    }
   ],
   "source": [
    "y_predict = svm_model_balanced.predict(X_test_scaled)\n",
    "f1_score(y_test, y_predict)"
   ]
  },
  {
   "cell_type": "code",
   "execution_count": 335,
   "metadata": {},
   "outputs": [
    {
     "name": "stdout",
     "output_type": "stream",
     "text": [
      "Precision: 0.3774,   Recall: 0.6860\n",
      "ROC AUC score: 0.7072 \n"
     ]
    }
   ],
   "source": [
    "y_predict = svm_model_balanced.predict(X_test_scaled)\n",
    "print(\"Precision: {:6.4f},   Recall: {:6.4f}\".format(precision_score(y_test, y_predict), \n",
    "                                                     recall_score(y_test, y_predict)))\n",
    "print(\"ROC AUC score: {:6.4f} \".format(roc_auc_score(y_test, y_predict)))"
   ]
  },
  {
   "cell_type": "code",
   "execution_count": 336,
   "metadata": {},
   "outputs": [],
   "source": [
    "pickle.dump(svm_model_balanced, open('svm_model_balanced.pkl', 'wb'))"
   ]
  },
  {
   "cell_type": "code",
   "execution_count": 451,
   "metadata": {},
   "outputs": [],
   "source": [
    "lfpr,ltpr, thresholds = roc_curve(y_val, log_model_balanced.predict_proba(X_val_scaled)[:,1])\n",
    "fpr, tpr, thresholds = roc_curve(y_val, svm_model_balanced.predict_proba(X_val_scaled)[:,1])\n",
    "rfpr,rtpr, thresholds = roc_curve(y_val, rand_for_model_balanced.predict_proba(X_val_scaled)[:,1])\n",
    "sfpr,stpr, thresholds = roc_curve(y_val, smote_svm.predict_proba(X_val_scaled)[:,1])\n",
    "afpr,atpr, thresholds = roc_curve(y_val, adasyn_svm.predict_proba(X_val_scaled)[:,1])\n",
    "kfpr,ktpr, thresholds = roc_curve(y_val, knn_model_balanced.predict_proba(X_val_scaled)[:,1])"
   ]
  },
  {
   "cell_type": "code",
   "execution_count": 472,
   "metadata": {},
   "outputs": [
    {
     "name": "stdout",
     "output_type": "stream",
     "text": [
      "ROC AUC score =  0.6612998016946098\n"
     ]
    },
    {
     "data": {
      "image/png": "[encoded data removed]",
      "text/plain": [
       "<Figure size 864x864 with 1 Axes>"
      ]
     },
     "metadata": {},
     "output_type": "display_data"
    }
   ],
   "source": [
    "sns.set(rc={\"lines.linewidth\": 1.5})\n",
    "\n",
    "fig, ax = plt.subplots(figsize=[12,12])\n",
    "\n",
    "sns.lineplot(fpr, tpr, linewidth= 9.0, label=\"Linear SVM\")\n",
    "plt.plot([0,1],[0,1],c='red',ls='--')\n",
    "plt.xlim([-0.05,1.05])\n",
    "plt.ylim([-0.05,1.05])\n",
    "\n",
    "sns.lineplot(lfpr, ltpr, label=\"Log Model\")\n",
    "plt.xlim([-0.05,1.05])\n",
    "plt.ylim([-0.05,1.05])\n",
    "\n",
    "sns.lineplot(rfpr, rtpr, label=\"Random Forest\")\n",
    "plt.xlim([-0.05,1.05])\n",
    "plt.ylim([-0.05,1.05])\n",
    "\n",
    "sns.lineplot(sfpr, stpr, label=\"Smote SVM\")\n",
    "plt.xlim([-0.05,1.05])\n",
    "plt.ylim([-0.05,1.05])\n",
    "\n",
    "sns.lineplot(afpr, atpr, label=\"Adasyn SVM\")\n",
    "plt.xlim([-0.05,1.05])\n",
    "plt.ylim([-0.05,1.05])\n",
    "\n",
    "sns.lineplot(kfpr, ktpr, marker=\"*\",label=\"KNN Model\")\n",
    "plt.xlim([-0.05,1.05])\n",
    "plt.ylim([-0.05,1.05])\n",
    "\n",
    "\n",
    "plt.xlabel('False positive rate', fontsize=18)\n",
    "plt.ylabel('True positive rate', fontsize=18)\n",
    "plt.title('ROC Curve for Injury Prediction', fontsize=26);\n",
    "print(\"ROC AUC score = \", roc_auc_score(y_test, svm_model_balanced.predict_proba(X_test)[:,1]))\n",
    "plt.savefig('ROC.jpg')"
   ]
  }
 ],
 "metadata": {
  "kernelspec": {
   "display_name": "Python 3",
   "language": "python",
   "name": "python3"
  },
  "language_info": {
   "codemirror_mode": {
    "name": "ipython",
    "version": 3
   },
   "file_extension": ".py",
   "mimetype": "text/x-python",
   "name": "python",
   "nbconvert_exporter": "python",
   "pygments_lexer": "ipython3",
   "version": "3.6.7"
  }
 },
 "nbformat": 4,
 "nbformat_minor": 2
}
